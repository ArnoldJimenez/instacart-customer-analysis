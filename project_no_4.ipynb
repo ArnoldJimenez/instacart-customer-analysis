{
 "cells": [
  {
   "cell_type": "markdown",
   "id": "3683f5ed",
   "metadata": {},
   "source": [
    "# Hola Arnold! <a class=\"tocSkip\"></a>\n",
    "\n",
    "Mi nombre es Oscar Flores y tengo el gusto de revisar tu proyecto. Si tienes algún comentario que quieras agregar en tus respuestas te puedes referir a mi como Oscar, no hay problema que me trates de tú.\n",
    "\n",
    "Si veo un error en la primera revisión solamente lo señalaré y dejaré que tú encuentres de qué se trata y cómo arreglarlo. Debo prepararte para que te desempeñes como especialista en Data, en un trabajo real, el responsable a cargo tuyo hará lo mismo. Si aún tienes dificultades para resolver esta tarea, te daré indicaciones más precisas en una siguiente iteración.\n",
    "\n",
    "Te dejaré mis comentarios más abajo - **por favor, no los muevas, modifiques o borres**\n",
    "\n",
    "Comenzaré mis comentarios con un resumen de los puntos que están bien, aquellos que debes corregir y aquellos que puedes mejorar. Luego deberás revisar todo el notebook para leer mis comentarios, los cuales estarán en rectángulos de color verde, amarillo o rojo como siguen:\n",
    "\n",
    "<div class=\"alert alert-block alert-success\">\n",
    "<b>Comentario de Reviewer</b> <a class=\"tocSkip\"></a>\n",
    "    \n",
    "Muy bien! Toda la respuesta fue lograda satisfactoriamente.\n",
    "</div>\n",
    "\n",
    "<div class=\"alert alert-block alert-warning\">\n",
    "<b>Comentario de Reviewer</b> <a class=\"tocSkip\"></a>\n",
    "\n",
    "Existen detalles a mejorar. Existen recomendaciones.\n",
    "</div>\n",
    "\n",
    "<div class=\"alert alert-block alert-danger\">\n",
    "\n",
    "<b>Comentario de Reviewer</b> <a class=\"tocSkip\"></a>\n",
    "\n",
    "Se necesitan correcciones en el bloque. El trabajo no puede ser aceptado con comentarios en rojo sin solucionar.\n",
    "</div>\n",
    "\n",
    "Cualquier comentario que quieras agregar entre iteraciones de revisión lo puedes hacer de la siguiente manera:\n",
    "\n",
    "<div class=\"alert alert-block alert-info\">\n",
    "<b>Respuesta estudiante.</b> <a class=\"tocSkip\"></a>\n",
    "</div>\n",
    "\n",
    "Mucho éxito en el proyecto!"
   ]
  },
  {
   "cell_type": "markdown",
   "id": "4605cea9",
   "metadata": {},
   "source": [
    "## Resumen de la revisión 1 <a class=\"tocSkip\"></a>"
   ]
  },
  {
   "cell_type": "markdown",
   "id": "e62bb0bf",
   "metadata": {},
   "source": [
    "<div class=\"alert alert-block alert-danger\">\n",
    "<b>Comentario de Revisor</b> <a class=\"tocSkip\"></a>\n",
    "\n",
    "Bien hecho Arnold. En general el desarrollo que entregaste está muy bien y completo, pero hay un par de errores en los cálculos que impiden obtener todos los resultados correctos. Te dejé indicaciones de cómo corregirlos, revísalas y realiza las modificaciones necesarias.\n",
    "    \n",
    "Saludos!    \n",
    "\n",
    "</div>"
   ]
  },
  {
   "cell_type": "markdown",
   "id": "cec3b641",
   "metadata": {},
   "source": [
    "## Resumen de la revisión 2 <a class=\"tocSkip\"></a>"
   ]
  },
  {
   "cell_type": "markdown",
   "id": "800cf53c",
   "metadata": {},
   "source": [
    "<div class=\"alert alert-block alert-success\">\n",
    "<b>Comentario de Revisor v2</b> <a class=\"tocSkip\"></a>\n",
    "\n",
    "Bien hecho Arnold, has completado correctamente todo lo necesario del notebook. No tengo comentarios de corrección adicionales, está aprobado.\n",
    "\n",
    "Saludos!\n",
    "\n",
    "</div>"
   ]
  },
  {
   "cell_type": "markdown",
   "id": "b928c48f",
   "metadata": {},
   "source": [
    "---"
   ]
  },
  {
   "cell_type": "markdown",
   "id": "3Xg_RQfnafXz",
   "metadata": {
    "id": "3Xg_RQfnafXz"
   },
   "source": [
    "# ¡Llena ese carrito!"
   ]
  },
  {
   "cell_type": "markdown",
   "id": "mhIvmmkW414q",
   "metadata": {
    "id": "mhIvmmkW414q"
   },
   "source": [
    "# Introducción\n",
    "\n",
    "Instacart es una plataforma de entregas de comestibles donde la clientela puede registrar un pedido y hacer que se lo entreguen, similar a Uber Eats y Door Dash.\n",
    "El conjunto de datos que te hemos proporcionado tiene modificaciones del original. Redujimos el tamaño del conjunto para que tus cálculos se hicieran más rápido e introdujimos valores ausentes y duplicados. Tuvimos cuidado de conservar las distribuciones de los datos originales cuando hicimos los cambios.\n",
    "\n",
    "Debes completar tres pasos. Para cada uno de ellos, escribe una breve introducción que refleje con claridad cómo pretendes resolver cada paso, y escribe párrafos explicatorios que justifiquen tus decisiones al tiempo que avanzas en tu solución.  También escribe una conclusión que resuma tus hallazgos y elecciones.\n"
   ]
  },
  {
   "cell_type": "markdown",
   "id": "3MbyzpOQZ5Or",
   "metadata": {
    "id": "3MbyzpOQZ5Or"
   },
   "source": [
    "## Diccionario de datos\n",
    "\n",
    "Hay cinco tablas en el conjunto de datos, y tendrás que usarlas todas para hacer el preprocesamiento de datos y el análisis exploratorio de datos. A continuación se muestra un diccionario de datos que enumera las columnas de cada tabla y describe los datos que contienen.\n",
    "\n",
    "- `instacart_orders.csv`: cada fila corresponde a un pedido en la aplicación Instacart.\n",
    "    - `'order_id'`: número de ID que identifica de manera única cada pedido.\n",
    "    - `'user_id'`: número de ID que identifica de manera única la cuenta de cada cliente.\n",
    "    - `'order_number'`: el número de veces que este cliente ha hecho un pedido.\n",
    "    - `'order_dow'`: día de la semana en que se hizo el pedido (0 si es domingo).\n",
    "    - `'order_hour_of_day'`: hora del día en que se hizo el pedido.\n",
    "    - `'days_since_prior_order'`: número de días transcurridos desde que este cliente hizo su pedido anterior.\n",
    "- `products.csv`: cada fila corresponde a un producto único que pueden comprar los clientes.\n",
    "    - `'product_id'`: número ID que identifica de manera única cada producto.\n",
    "    - `'product_name'`: nombre del producto.\n",
    "    - `'aisle_id'`: número ID que identifica de manera única cada categoría de pasillo de víveres.\n",
    "    - `'department_id'`: número ID que identifica de manera única cada departamento de víveres.\n",
    "- `order_products.csv`: cada fila corresponde a un artículo pedido en un pedido.\n",
    "    - `'order_id'`: número de ID que identifica de manera única cada pedido.\n",
    "    - `'product_id'`: número ID que identifica de manera única cada producto.\n",
    "    - `'add_to_cart_order'`: el orden secuencial en el que se añadió cada artículo en el carrito.\n",
    "    - `'reordered'`: 0 si el cliente nunca ha pedido este producto antes, 1 si lo ha pedido.\n",
    "- `aisles.csv`\n",
    "    - `'aisle_id'`: número ID que identifica de manera única cada categoría de pasillo de víveres.\n",
    "    - `'aisle'`: nombre del pasillo.\n",
    "- `departments.csv`\n",
    "    - `'department_id'`: número ID que identifica de manera única cada departamento de víveres.\n",
    "    - `'department'`: nombre del departamento."
   ]
  },
  {
   "cell_type": "markdown",
   "id": "n3Ha_cNSZ8lK",
   "metadata": {
    "id": "n3Ha_cNSZ8lK"
   },
   "source": [
    "# Paso 1. Descripción de los datos\n",
    "\n",
    "Lee los archivos de datos (`/datasets/instacart_orders.csv`, `/datasets/products.csv`, `/datasets/aisles.csv`, `/datasets/departments.csv` y `/datasets/order_products.csv`) con `pd.read_csv()` usando los parámetros adecuados para leer los datos correctamente. Verifica la información para cada DataFrame creado.\n"
   ]
  },
  {
   "cell_type": "markdown",
   "id": "OmlQPLlyaAfR",
   "metadata": {
    "id": "OmlQPLlyaAfR"
   },
   "source": [
    "## Plan de solución\n",
    "\n",
    "Escribe aquí tu plan de solución para el Paso 1. Descripción de los datos."
   ]
  },
  {
   "cell_type": "code",
   "execution_count": 66,
   "id": "fbf1adab",
   "metadata": {
    "id": "fbf1adab"
   },
   "outputs": [],
   "source": [
    "# importar librerías\n",
    "import pandas as pd\n",
    "from matplotlib import pyplot as plt\n"
   ]
  },
  {
   "cell_type": "code",
   "execution_count": 67,
   "id": "ad36396d",
   "metadata": {
    "id": "ad36396d"
   },
   "outputs": [],
   "source": [
    "# leer conjuntos de datos en los DataFrames\n",
    "instacart_orders = pd.read_csv('/datasets/instacart_orders.csv',delimiter=';')\n",
    "products = pd.read_csv('/datasets/products.csv',sep=';')\n",
    "aisles = pd.read_csv('/datasets/aisles.csv',sep=';')\n",
    "departments = pd.read_csv('/datasets/departments.csv',sep=';')\n",
    "order_products = pd.read_csv('/datasets/order_products.csv',sep=';')"
   ]
  },
  {
   "cell_type": "markdown",
   "id": "70a490cc",
   "metadata": {},
   "source": [
    "<div class=\"alert alert-block alert-success\">\n",
    "<b>Comentario de Revisor</b> <a class=\"tocSkip\"></a>\n",
    "\n",
    "Correcto. Bien hecho al importar la data usando el parámetro `sep=;\"` para que la lectura de los datos se pueda realizar correctamente.\n",
    "    \n",
    "\n",
    "</div>"
   ]
  },
  {
   "cell_type": "code",
   "execution_count": 68,
   "id": "ad6a1efa",
   "metadata": {
    "id": "ad6a1efa"
   },
   "outputs": [
    {
     "name": "stdout",
     "output_type": "stream",
     "text": [
      "<class 'pandas.core.frame.DataFrame'>\n",
      "RangeIndex: 478967 entries, 0 to 478966\n",
      "Data columns (total 6 columns):\n",
      " #   Column                  Non-Null Count   Dtype  \n",
      "---  ------                  --------------   -----  \n",
      " 0   order_id                478967 non-null  int64  \n",
      " 1   user_id                 478967 non-null  int64  \n",
      " 2   order_number            478967 non-null  int64  \n",
      " 3   order_dow               478967 non-null  int64  \n",
      " 4   order_hour_of_day       478967 non-null  int64  \n",
      " 5   days_since_prior_order  450148 non-null  float64\n",
      "dtypes: float64(1), int64(5)\n",
      "memory usage: 21.9 MB\n"
     ]
    }
   ],
   "source": [
    "# mostrar información del DataFrame\n",
    "instacart_orders.info()"
   ]
  },
  {
   "cell_type": "code",
   "execution_count": 69,
   "id": "5130e05e",
   "metadata": {
    "id": "5130e05e"
   },
   "outputs": [
    {
     "name": "stdout",
     "output_type": "stream",
     "text": [
      "<class 'pandas.core.frame.DataFrame'>\n",
      "RangeIndex: 49694 entries, 0 to 49693\n",
      "Data columns (total 4 columns):\n",
      " #   Column         Non-Null Count  Dtype \n",
      "---  ------         --------------  ----- \n",
      " 0   product_id     49694 non-null  int64 \n",
      " 1   product_name   48436 non-null  object\n",
      " 2   aisle_id       49694 non-null  int64 \n",
      " 3   department_id  49694 non-null  int64 \n",
      "dtypes: int64(3), object(1)\n",
      "memory usage: 1.5+ MB\n"
     ]
    }
   ],
   "source": [
    "# mostrar información del DataFrame\n",
    "products.info()"
   ]
  },
  {
   "cell_type": "code",
   "execution_count": 70,
   "id": "d8370c05",
   "metadata": {
    "id": "d8370c05"
   },
   "outputs": [
    {
     "name": "stdout",
     "output_type": "stream",
     "text": [
      "<class 'pandas.core.frame.DataFrame'>\n",
      "RangeIndex: 134 entries, 0 to 133\n",
      "Data columns (total 2 columns):\n",
      " #   Column    Non-Null Count  Dtype \n",
      "---  ------    --------------  ----- \n",
      " 0   aisle_id  134 non-null    int64 \n",
      " 1   aisle     134 non-null    object\n",
      "dtypes: int64(1), object(1)\n",
      "memory usage: 2.2+ KB\n"
     ]
    }
   ],
   "source": [
    "# mostrar información del DataFrame\n",
    "aisles.info()"
   ]
  },
  {
   "cell_type": "code",
   "execution_count": 71,
   "id": "59e2090f",
   "metadata": {
    "id": "59e2090f"
   },
   "outputs": [
    {
     "name": "stdout",
     "output_type": "stream",
     "text": [
      "<class 'pandas.core.frame.DataFrame'>\n",
      "RangeIndex: 21 entries, 0 to 20\n",
      "Data columns (total 2 columns):\n",
      " #   Column         Non-Null Count  Dtype \n",
      "---  ------         --------------  ----- \n",
      " 0   department_id  21 non-null     int64 \n",
      " 1   department     21 non-null     object\n",
      "dtypes: int64(1), object(1)\n",
      "memory usage: 464.0+ bytes\n"
     ]
    }
   ],
   "source": [
    "# mostrar información del DataFrame\n",
    "departments.info()"
   ]
  },
  {
   "cell_type": "code",
   "execution_count": 72,
   "id": "6fc81694",
   "metadata": {
    "id": "6fc81694"
   },
   "outputs": [
    {
     "name": "stdout",
     "output_type": "stream",
     "text": [
      "<class 'pandas.core.frame.DataFrame'>\n",
      "RangeIndex: 4545007 entries, 0 to 4545006\n",
      "Data columns (total 4 columns):\n",
      " #   Column             Non-Null Count    Dtype  \n",
      "---  ------             --------------    -----  \n",
      " 0   order_id           4545007 non-null  int64  \n",
      " 1   product_id         4545007 non-null  int64  \n",
      " 2   add_to_cart_order  4544171 non-null  float64\n",
      " 3   reordered          4545007 non-null  int64  \n",
      "dtypes: float64(1), int64(3)\n",
      "memory usage: 138.7 MB\n"
     ]
    }
   ],
   "source": [
    "# mostrar información del DataFrame\n",
    "order_products.info(show_counts=True)"
   ]
  },
  {
   "cell_type": "markdown",
   "id": "t75BD19oaR5f",
   "metadata": {
    "id": "t75BD19oaR5f"
   },
   "source": [
    "## Conclusiones\n",
    "\n",
    "podemos visualizar que aisles y deparments son los datasets con menor numero de entradas en su contenido y siendo order products la que mas entradas tiene, una caracteristica qu tienen en comun es que todos tiene una columna, adicional vermos que order_products, instacart_orders y products estan separados por ; y no por , y hay que corregir dicha identacion.\n"
   ]
  },
  {
   "cell_type": "markdown",
   "id": "8RJHqxVmaVsF",
   "metadata": {
    "id": "8RJHqxVmaVsF"
   },
   "source": [
    "# Paso 2. Preprocesamiento de los datos\n",
    "\n",
    "Preprocesa los datos de la siguiente manera:\n",
    "\n",
    "- Verifica y corrige los tipos de datos (por ejemplo, asegúrate de que las columnas de ID sean números enteros).\n",
    "- Identifica y completa los valores ausentes.\n",
    "- Identifica y elimina los valores duplicados.\n",
    "\n",
    "Asegúrate de explicar qué tipos de valores ausentes y duplicados encontraste, cómo los completaste o eliminaste y por qué usaste esos métodos. ¿Por qué crees que estos valores ausentes y duplicados pueden haber estado presentes en el conjunto de datos?"
   ]
  },
  {
   "cell_type": "markdown",
   "id": "p6poABZQaZYb",
   "metadata": {
    "id": "p6poABZQaZYb"
   },
   "source": [
    "## Plan de solución\n",
    "\n",
    "Escribe aquí tu plan para el Paso 2. Preprocesamiento de los datos."
   ]
  },
  {
   "cell_type": "markdown",
   "id": "07357848-dc64-4156-9cc3-01ff4365226d",
   "metadata": {
    "id": "07357848-dc64-4156-9cc3-01ff4365226d"
   },
   "source": [
    "## Encuentra y elimina los valores duplicados (y describe cómo tomaste tus decisiones)."
   ]
  },
  {
   "cell_type": "markdown",
   "id": "f179f0a9",
   "metadata": {
    "id": "f179f0a9"
   },
   "source": [
    "### `orders` data frame"
   ]
  },
  {
   "cell_type": "code",
   "execution_count": 73,
   "id": "b99297a5-405a-463d-8535-9adc3da4ad74",
   "metadata": {
    "id": "b99297a5-405a-463d-8535-9adc3da4ad74"
   },
   "outputs": [
    {
     "data": {
      "text/plain": [
       "15"
      ]
     },
     "metadata": {},
     "output_type": "display_data"
    }
   ],
   "source": [
    "# Revisa si hay pedidos duplicados\n",
    "display (instacart_orders.duplicated().sum())\n",
    "\n"
   ]
  },
  {
   "cell_type": "markdown",
   "id": "PEkwUX_gvt5A",
   "metadata": {
    "id": "PEkwUX_gvt5A"
   },
   "source": [
    "¿Tienes líneas duplicadas? Si sí, ¿qué tienen en común?"
   ]
  },
  {
   "cell_type": "code",
   "execution_count": 74,
   "id": "0d44de5d",
   "metadata": {
    "id": "0d44de5d"
   },
   "outputs": [
    {
     "name": "stdout",
     "output_type": "stream",
     "text": [
      "Pedidos realizados el miércoles a las 2:00 a.m.:\n",
      "\n"
     ]
    },
    {
     "data": {
      "text/html": [
       "<div>\n",
       "<style scoped>\n",
       "    .dataframe tbody tr th:only-of-type {\n",
       "        vertical-align: middle;\n",
       "    }\n",
       "\n",
       "    .dataframe tbody tr th {\n",
       "        vertical-align: top;\n",
       "    }\n",
       "\n",
       "    .dataframe thead th {\n",
       "        text-align: right;\n",
       "    }\n",
       "</style>\n",
       "<table border=\"1\" class=\"dataframe\">\n",
       "  <thead>\n",
       "    <tr style=\"text-align: right;\">\n",
       "      <th></th>\n",
       "      <th>order_id</th>\n",
       "      <th>user_id</th>\n",
       "      <th>order_number</th>\n",
       "      <th>order_dow</th>\n",
       "      <th>order_hour_of_day</th>\n",
       "      <th>days_since_prior_order</th>\n",
       "    </tr>\n",
       "  </thead>\n",
       "  <tbody>\n",
       "    <tr>\n",
       "      <th>4838</th>\n",
       "      <td>2766110</td>\n",
       "      <td>162084</td>\n",
       "      <td>41</td>\n",
       "      <td>3</td>\n",
       "      <td>2</td>\n",
       "      <td>16.0</td>\n",
       "    </tr>\n",
       "    <tr>\n",
       "      <th>5156</th>\n",
       "      <td>2190225</td>\n",
       "      <td>138285</td>\n",
       "      <td>18</td>\n",
       "      <td>3</td>\n",
       "      <td>2</td>\n",
       "      <td>11.0</td>\n",
       "    </tr>\n",
       "    <tr>\n",
       "      <th>15506</th>\n",
       "      <td>553049</td>\n",
       "      <td>58599</td>\n",
       "      <td>13</td>\n",
       "      <td>3</td>\n",
       "      <td>2</td>\n",
       "      <td>7.0</td>\n",
       "    </tr>\n",
       "    <tr>\n",
       "      <th>18420</th>\n",
       "      <td>382357</td>\n",
       "      <td>120200</td>\n",
       "      <td>19</td>\n",
       "      <td>3</td>\n",
       "      <td>2</td>\n",
       "      <td>11.0</td>\n",
       "    </tr>\n",
       "    <tr>\n",
       "      <th>24691</th>\n",
       "      <td>690242</td>\n",
       "      <td>77357</td>\n",
       "      <td>2</td>\n",
       "      <td>3</td>\n",
       "      <td>2</td>\n",
       "      <td>9.0</td>\n",
       "    </tr>\n",
       "    <tr>\n",
       "      <th>...</th>\n",
       "      <td>...</td>\n",
       "      <td>...</td>\n",
       "      <td>...</td>\n",
       "      <td>...</td>\n",
       "      <td>...</td>\n",
       "      <td>...</td>\n",
       "    </tr>\n",
       "    <tr>\n",
       "      <th>457013</th>\n",
       "      <td>3384021</td>\n",
       "      <td>14881</td>\n",
       "      <td>6</td>\n",
       "      <td>3</td>\n",
       "      <td>2</td>\n",
       "      <td>30.0</td>\n",
       "    </tr>\n",
       "    <tr>\n",
       "      <th>458816</th>\n",
       "      <td>910166</td>\n",
       "      <td>164782</td>\n",
       "      <td>18</td>\n",
       "      <td>3</td>\n",
       "      <td>2</td>\n",
       "      <td>4.0</td>\n",
       "    </tr>\n",
       "    <tr>\n",
       "      <th>459635</th>\n",
       "      <td>1680532</td>\n",
       "      <td>106435</td>\n",
       "      <td>6</td>\n",
       "      <td>3</td>\n",
       "      <td>2</td>\n",
       "      <td>21.0</td>\n",
       "    </tr>\n",
       "    <tr>\n",
       "      <th>468324</th>\n",
       "      <td>222962</td>\n",
       "      <td>54979</td>\n",
       "      <td>59</td>\n",
       "      <td>3</td>\n",
       "      <td>2</td>\n",
       "      <td>3.0</td>\n",
       "    </tr>\n",
       "    <tr>\n",
       "      <th>477526</th>\n",
       "      <td>2592344</td>\n",
       "      <td>46860</td>\n",
       "      <td>38</td>\n",
       "      <td>3</td>\n",
       "      <td>2</td>\n",
       "      <td>3.0</td>\n",
       "    </tr>\n",
       "  </tbody>\n",
       "</table>\n",
       "<p>121 rows × 6 columns</p>\n",
       "</div>"
      ],
      "text/plain": [
       "        order_id  user_id  order_number  order_dow  order_hour_of_day  \\\n",
       "4838     2766110   162084            41          3                  2   \n",
       "5156     2190225   138285            18          3                  2   \n",
       "15506     553049    58599            13          3                  2   \n",
       "18420     382357   120200            19          3                  2   \n",
       "24691     690242    77357             2          3                  2   \n",
       "...          ...      ...           ...        ...                ...   \n",
       "457013   3384021    14881             6          3                  2   \n",
       "458816    910166   164782            18          3                  2   \n",
       "459635   1680532   106435             6          3                  2   \n",
       "468324    222962    54979            59          3                  2   \n",
       "477526   2592344    46860            38          3                  2   \n",
       "\n",
       "        days_since_prior_order  \n",
       "4838                      16.0  \n",
       "5156                      11.0  \n",
       "15506                      7.0  \n",
       "18420                     11.0  \n",
       "24691                      9.0  \n",
       "...                        ...  \n",
       "457013                    30.0  \n",
       "458816                     4.0  \n",
       "459635                    21.0  \n",
       "468324                     3.0  \n",
       "477526                     3.0  \n",
       "\n",
       "[121 rows x 6 columns]"
      ]
     },
     "metadata": {},
     "output_type": "display_data"
    }
   ],
   "source": [
    "# Basándote en tus hallazgos,\n",
    "# Verifica todos los pedidos que se hicieron el miércoles a las 2:00 a.m.\n",
    "\n",
    "wednesday_orders = instacart_orders[(instacart_orders['order_dow'] == 3) & (instacart_orders['order_hour_of_day'] == 2)]\n",
    "\n",
    "print(\"Pedidos realizados el miércoles a las 2:00 a.m.:\")\n",
    "print ()\n",
    "display(wednesday_orders)"
   ]
  },
  {
   "cell_type": "markdown",
   "id": "vu2OWyoqwOx5",
   "metadata": {
    "id": "vu2OWyoqwOx5"
   },
   "source": [
    "¿Qué sugiere este resultado? que tenems 121 registros"
   ]
  },
  {
   "cell_type": "code",
   "execution_count": 75,
   "id": "480563c7",
   "metadata": {
    "id": "480563c7"
   },
   "outputs": [],
   "source": [
    "# Elimina los pedidos duplicados\n",
    "instacart_orders.drop_duplicates(inplace = True)"
   ]
  },
  {
   "cell_type": "code",
   "execution_count": 76,
   "id": "0b2396a2",
   "metadata": {
    "id": "0b2396a2"
   },
   "outputs": [
    {
     "name": "stdout",
     "output_type": "stream",
     "text": [
      "0\n"
     ]
    }
   ],
   "source": [
    "# Vuelve a verificar si hay filas duplicadas\n",
    "print (instacart_orders.duplicated().sum())"
   ]
  },
  {
   "cell_type": "markdown",
   "id": "1129650f",
   "metadata": {},
   "source": [
    "<div class=\"alert alert-block alert-danger\">\n",
    "<b>Comentario de Reviewer</b> <a class=\"tocSkip\"></a>\n",
    "    \n",
    "La celda no compila puesto que el dataframe orders no existe.\n",
    "</div>"
   ]
  },
  {
   "cell_type": "markdown",
   "id": "144c510e",
   "metadata": {},
   "source": [
    "<div class=\"alert alert-block alert-success\">\n",
    "<b>Comentario de Revisor v2</b> <a class=\"tocSkip\"></a>\n",
    "\n",
    "Bien, corregido\n",
    "\n",
    "</div>"
   ]
  },
  {
   "cell_type": "code",
   "execution_count": 77,
   "id": "f6113ef1",
   "metadata": {
    "id": "f6113ef1"
   },
   "outputs": [
    {
     "name": "stdout",
     "output_type": "stream",
     "text": [
      "Pedidos con IDs duplicados: 0\n"
     ]
    }
   ],
   "source": [
    "# Vuelve a verificar únicamente si hay IDs duplicados de pedidos\n",
    "\n",
    "if 'order_id' in instacart_orders.columns:\n",
    "    print('Pedidos con IDs duplicados:', instacart_orders.duplicated(subset=['order_id']).sum())\n",
    "else:\n",
    "    print(\"No se encontró duplicados en 'order_id''.\")\n"
   ]
  },
  {
   "cell_type": "markdown",
   "id": "5e8905ae",
   "metadata": {
    "id": "5e8905ae"
   },
   "source": [
    "no se hallaron duplicados por que se eliminan con el metodo drop, al verificar bnuevamente si hay filas duplicadas este nos arroja que hay 0 y volvienod a verificar nos muestra el anterior resultado."
   ]
  },
  {
   "cell_type": "markdown",
   "id": "4d6a95d9",
   "metadata": {},
   "source": [
    "<div class=\"alert alert-block alert-success\">\n",
    "<b>Comentario de Reviewer</b> <a class=\"tocSkip\"></a>\n",
    "    \n",
    "Bien hecho, dado que todos los duplicados coincidian en el horario y día, es probable que se haya debido a un problema momentaneo en el registro de la data\n",
    "</div>"
   ]
  },
  {
   "cell_type": "markdown",
   "id": "45e6bc46",
   "metadata": {
    "id": "45e6bc46"
   },
   "source": [
    "### `products` data frame"
   ]
  },
  {
   "cell_type": "code",
   "execution_count": 78,
   "id": "5f526b5b-8175-46fa-a0fd-441767d50e64",
   "metadata": {
    "id": "5f526b5b-8175-46fa-a0fd-441767d50e64"
   },
   "outputs": [
    {
     "name": "stdout",
     "output_type": "stream",
     "text": [
      "Número de filas totalmente duplicadas en products: 0\n"
     ]
    }
   ],
   "source": [
    "# Verifica si hay filas totalmente duplicadas\n",
    "\n",
    "duplicated_rows = products.duplicated().sum()\n",
    "\n",
    "print('Número de filas totalmente duplicadas en products:', duplicated_rows)\n"
   ]
  },
  {
   "cell_type": "code",
   "execution_count": 79,
   "id": "88daa4f4",
   "metadata": {
    "id": "88daa4f4"
   },
   "outputs": [
    {
     "name": "stdout",
     "output_type": "stream",
     "text": [
      "Número de department_id duplicados: 49673\n"
     ]
    }
   ],
   "source": [
    "# Revisa únicamente si hay ID de departamentos duplicados\n",
    "\n",
    "duplicated_departments = products.duplicated(subset=['department_id']).sum()\n",
    "\n",
    "print('Número de department_id duplicados:', duplicated_departments)"
   ]
  },
  {
   "cell_type": "code",
   "execution_count": 80,
   "id": "c773f0bf",
   "metadata": {
    "id": "c773f0bf"
   },
   "outputs": [
    {
     "name": "stdout",
     "output_type": "stream",
     "text": [
      "nombres duplicados en productos son: 1361\n"
     ]
    }
   ],
   "source": [
    "# Revisa únicamente si hay nombres duplicados de productos (convierte los nombres a letras mayúsculas para compararlos mejor)\n",
    "products['product_name'] = products['product_name'].str.upper()\n",
    "\n",
    "duplicated_products = products.duplicated(subset=['product_name']).sum()\n",
    "\n",
    "print ('nombres duplicados en productos son:', duplicated_products)"
   ]
  },
  {
   "cell_type": "code",
   "execution_count": 81,
   "id": "01efd02e",
   "metadata": {
    "id": "01efd02e"
   },
   "outputs": [
    {
     "data": {
      "text/html": [
       "<div>\n",
       "<style scoped>\n",
       "    .dataframe tbody tr th:only-of-type {\n",
       "        vertical-align: middle;\n",
       "    }\n",
       "\n",
       "    .dataframe tbody tr th {\n",
       "        vertical-align: top;\n",
       "    }\n",
       "\n",
       "    .dataframe thead th {\n",
       "        text-align: right;\n",
       "    }\n",
       "</style>\n",
       "<table border=\"1\" class=\"dataframe\">\n",
       "  <thead>\n",
       "    <tr style=\"text-align: right;\">\n",
       "      <th></th>\n",
       "      <th>product_id</th>\n",
       "      <th>product_name</th>\n",
       "      <th>aisle_id</th>\n",
       "      <th>department_id</th>\n",
       "    </tr>\n",
       "  </thead>\n",
       "  <tbody>\n",
       "    <tr>\n",
       "      <th>23339</th>\n",
       "      <td>23340</td>\n",
       "      <td>18-IN-1 HEMP PEPPERMINT PURE-CASTILE SOAP</td>\n",
       "      <td>25</td>\n",
       "      <td>11</td>\n",
       "    </tr>\n",
       "    <tr>\n",
       "      <th>31844</th>\n",
       "      <td>31845</td>\n",
       "      <td>18-IN-1 HEMP PEPPERMINT PURE-CASTILE SOAP</td>\n",
       "      <td>25</td>\n",
       "      <td>11</td>\n",
       "    </tr>\n",
       "    <tr>\n",
       "      <th>13152</th>\n",
       "      <td>13153</td>\n",
       "      <td>AGED BALSAMIC VINEGAR OF MODENA</td>\n",
       "      <td>19</td>\n",
       "      <td>13</td>\n",
       "    </tr>\n",
       "    <tr>\n",
       "      <th>19941</th>\n",
       "      <td>19942</td>\n",
       "      <td>AGED BALSAMIC VINEGAR OF MODENA</td>\n",
       "      <td>19</td>\n",
       "      <td>13</td>\n",
       "    </tr>\n",
       "    <tr>\n",
       "      <th>22582</th>\n",
       "      <td>22583</td>\n",
       "      <td>ALBACORE SOLID WHITE TUNA IN WATER</td>\n",
       "      <td>95</td>\n",
       "      <td>15</td>\n",
       "    </tr>\n",
       "    <tr>\n",
       "      <th>24830</th>\n",
       "      <td>24831</td>\n",
       "      <td>ALBACORE SOLID WHITE TUNA IN WATER</td>\n",
       "      <td>95</td>\n",
       "      <td>15</td>\n",
       "    </tr>\n",
       "    <tr>\n",
       "      <th>515</th>\n",
       "      <td>516</td>\n",
       "      <td>AMERICAN CHEESE SLICES</td>\n",
       "      <td>21</td>\n",
       "      <td>16</td>\n",
       "    </tr>\n",
       "    <tr>\n",
       "      <th>9037</th>\n",
       "      <td>9038</td>\n",
       "      <td>AMERICAN CHEESE SLICES</td>\n",
       "      <td>21</td>\n",
       "      <td>16</td>\n",
       "    </tr>\n",
       "    <tr>\n",
       "      <th>12325</th>\n",
       "      <td>12326</td>\n",
       "      <td>ANCHOVY FILLETS IN OLIVE OIL</td>\n",
       "      <td>95</td>\n",
       "      <td>15</td>\n",
       "    </tr>\n",
       "    <tr>\n",
       "      <th>49530</th>\n",
       "      <td>49531</td>\n",
       "      <td>ANCHOVY FILLETS IN OLIVE OIL</td>\n",
       "      <td>95</td>\n",
       "      <td>15</td>\n",
       "    </tr>\n",
       "    <tr>\n",
       "      <th>27802</th>\n",
       "      <td>27803</td>\n",
       "      <td>APRICOT ENERGY BAR</td>\n",
       "      <td>3</td>\n",
       "      <td>19</td>\n",
       "    </tr>\n",
       "    <tr>\n",
       "      <th>41221</th>\n",
       "      <td>41222</td>\n",
       "      <td>APRICOT ENERGY BAR</td>\n",
       "      <td>3</td>\n",
       "      <td>19</td>\n",
       "    </tr>\n",
       "    <tr>\n",
       "      <th>4376</th>\n",
       "      <td>4377</td>\n",
       "      <td>BAG OF ORANGES</td>\n",
       "      <td>24</td>\n",
       "      <td>4</td>\n",
       "    </tr>\n",
       "    <tr>\n",
       "      <th>45230</th>\n",
       "      <td>45231</td>\n",
       "      <td>BAG OF ORANGES</td>\n",
       "      <td>24</td>\n",
       "      <td>4</td>\n",
       "    </tr>\n",
       "    <tr>\n",
       "      <th>34449</th>\n",
       "      <td>34450</td>\n",
       "      <td>BAG OF ORGANIC LEMONS</td>\n",
       "      <td>24</td>\n",
       "      <td>4</td>\n",
       "    </tr>\n",
       "    <tr>\n",
       "      <th>48824</th>\n",
       "      <td>48825</td>\n",
       "      <td>BAG OF ORGANIC LEMONS</td>\n",
       "      <td>24</td>\n",
       "      <td>4</td>\n",
       "    </tr>\n",
       "    <tr>\n",
       "      <th>15609</th>\n",
       "      <td>15610</td>\n",
       "      <td>BALSAMIC VINEGAR OF MODENA</td>\n",
       "      <td>19</td>\n",
       "      <td>13</td>\n",
       "    </tr>\n",
       "    <tr>\n",
       "      <th>18760</th>\n",
       "      <td>18761</td>\n",
       "      <td>BALSAMIC VINEGAR OF MODENA</td>\n",
       "      <td>19</td>\n",
       "      <td>13</td>\n",
       "    </tr>\n",
       "    <tr>\n",
       "      <th>2690</th>\n",
       "      <td>2691</td>\n",
       "      <td>BBQ SAUCE</td>\n",
       "      <td>5</td>\n",
       "      <td>13</td>\n",
       "    </tr>\n",
       "    <tr>\n",
       "      <th>43287</th>\n",
       "      <td>43288</td>\n",
       "      <td>BBQ SAUCE</td>\n",
       "      <td>5</td>\n",
       "      <td>13</td>\n",
       "    </tr>\n",
       "  </tbody>\n",
       "</table>\n",
       "</div>"
      ],
      "text/plain": [
       "       product_id                               product_name  aisle_id  \\\n",
       "23339       23340  18-IN-1 HEMP PEPPERMINT PURE-CASTILE SOAP        25   \n",
       "31844       31845  18-IN-1 HEMP PEPPERMINT PURE-CASTILE SOAP        25   \n",
       "13152       13153            AGED BALSAMIC VINEGAR OF MODENA        19   \n",
       "19941       19942            AGED BALSAMIC VINEGAR OF MODENA        19   \n",
       "22582       22583         ALBACORE SOLID WHITE TUNA IN WATER        95   \n",
       "24830       24831         ALBACORE SOLID WHITE TUNA IN WATER        95   \n",
       "515           516                     AMERICAN CHEESE SLICES        21   \n",
       "9037         9038                     AMERICAN CHEESE SLICES        21   \n",
       "12325       12326               ANCHOVY FILLETS IN OLIVE OIL        95   \n",
       "49530       49531               ANCHOVY FILLETS IN OLIVE OIL        95   \n",
       "27802       27803                         APRICOT ENERGY BAR         3   \n",
       "41221       41222                         APRICOT ENERGY BAR         3   \n",
       "4376         4377                             BAG OF ORANGES        24   \n",
       "45230       45231                             BAG OF ORANGES        24   \n",
       "34449       34450                      BAG OF ORGANIC LEMONS        24   \n",
       "48824       48825                      BAG OF ORGANIC LEMONS        24   \n",
       "15609       15610                 BALSAMIC VINEGAR OF MODENA        19   \n",
       "18760       18761                 BALSAMIC VINEGAR OF MODENA        19   \n",
       "2690         2691                                  BBQ SAUCE         5   \n",
       "43287       43288                                  BBQ SAUCE         5   \n",
       "\n",
       "       department_id  \n",
       "23339             11  \n",
       "31844             11  \n",
       "13152             13  \n",
       "19941             13  \n",
       "22582             15  \n",
       "24830             15  \n",
       "515               16  \n",
       "9037              16  \n",
       "12325             15  \n",
       "49530             15  \n",
       "27802             19  \n",
       "41221             19  \n",
       "4376               4  \n",
       "45230              4  \n",
       "34449              4  \n",
       "48824              4  \n",
       "15609             13  \n",
       "18760             13  \n",
       "2690              13  \n",
       "43287             13  "
      ]
     },
     "execution_count": 81,
     "metadata": {},
     "output_type": "execute_result"
    }
   ],
   "source": [
    "# Revisa si hay nombres duplicados de productos no faltantes\n",
    "\n",
    "products[~products['product_name'].isna()]\n",
    "\n",
    "#duplicados?\n",
    "duplicates = products[products.duplicated(subset=['product_name'], keep=False)]\n",
    "grouped_duplicates = duplicates.sort_values(['product_name', 'product_id'])\n",
    "\n",
    "\n",
    "grouped_duplicates.head(20)  # para ver los primeros 20\n",
    "\n"
   ]
  },
  {
   "cell_type": "markdown",
   "id": "9da8d293",
   "metadata": {
    "id": "9da8d293"
   },
   "source": [
    "Describe brevemente tus hallazgos y lo que hiciste con ellos.\n",
    "\n"
   ]
  },
  {
   "cell_type": "markdown",
   "id": "f94697a4",
   "metadata": {},
   "source": [
    "<div class=\"alert alert-block alert-danger\">\n",
    "<b>Comentario de Reviewer</b> <a class=\"tocSkip\"></a>\n",
    "    \n",
    "Ok. El código que realizaste está bien. Primero vemos que no hay filas totalmente duplicadas. Luego vemos que hay departamentos id duplicados y luego hay que revisar si hay nombres de productos (convertidos a todo en mayúsculas) duplicados. El código que comentaste está bien, convierte los nombres a mayúsculas, lo que debes hacer es lo mismo que hiciste con department_id, revisar si hay duplicados de esa nueva columna 'product_name_upper'. Finalmente, revisa si, dentro de la parte del dataframe donde no hay faltantes, hay nombres duplicados. Para obtener \n",
    "</div>"
   ]
  },
  {
   "cell_type": "markdown",
   "id": "c3d51f5f",
   "metadata": {},
   "source": [
    "<div class=\"alert alert-block alert-success\">\n",
    "<b>Comentario de Revisor v2</b> <a class=\"tocSkip\"></a>\n",
    "\n",
    "Ok, correcto\n",
    "\n",
    "</div>"
   ]
  },
  {
   "cell_type": "markdown",
   "id": "60f30db1",
   "metadata": {
    "id": "60f30db1"
   },
   "source": [
    "### `departments` data frame"
   ]
  },
  {
   "cell_type": "code",
   "execution_count": 82,
   "id": "fb410ad4-0fbf-4b80-bb09-23fdea79afe3",
   "metadata": {
    "id": "fb410ad4-0fbf-4b80-bb09-23fdea79afe3"
   },
   "outputs": [
    {
     "name": "stdout",
     "output_type": "stream",
     "text": [
      "Número de filas totalmente duplicadas en departments: 0\n"
     ]
    }
   ],
   "source": [
    "# Revisa si hay filas totalmente duplicadas\n",
    "\n",
    "duplicated_rows = departments.duplicated().sum()\n",
    "\n",
    "print('Número de filas totalmente duplicadas en departments:', duplicated_rows)"
   ]
  },
  {
   "cell_type": "code",
   "execution_count": 83,
   "id": "332b12bb",
   "metadata": {
    "id": "332b12bb"
   },
   "outputs": [
    {
     "name": "stdout",
     "output_type": "stream",
     "text": [
      "Número de department_id duplicados: 0\n"
     ]
    }
   ],
   "source": [
    "# Revisa únicamente si hay IDs duplicadas de productos\n",
    "\n",
    "duplicated_departments = departments.duplicated(subset=['department_id']).sum()\n",
    "\n",
    "print('Número de department_id duplicados:', duplicated_departments)"
   ]
  },
  {
   "cell_type": "markdown",
   "id": "bd30d78e",
   "metadata": {
    "id": "bd30d78e"
   },
   "source": [
    "Describe brevemente tus hallazgos y lo que hiciste con ellos.\n",
    "\n",
    "se ve tambien que hay un problema es que los datos no están separados correctamente y se corrige, luego se imprime nuevamnete y no tenemos duplicados."
   ]
  },
  {
   "cell_type": "markdown",
   "id": "889349c1",
   "metadata": {
    "id": "889349c1"
   },
   "source": [
    "### `aisles` data frame"
   ]
  },
  {
   "cell_type": "code",
   "execution_count": 84,
   "id": "9da89fb9-4679-40f5-ad0d-c34df753a3f8",
   "metadata": {
    "id": "9da89fb9-4679-40f5-ad0d-c34df753a3f8"
   },
   "outputs": [
    {
     "name": "stdout",
     "output_type": "stream",
     "text": [
      "Número de filas totalmente duplicadas en aisles: 0\n"
     ]
    }
   ],
   "source": [
    "# Revisa si hay filas totalmente duplicadas\n",
    "\n",
    "duplicated_rows = aisles.duplicated().sum()\n",
    "\n",
    "print('Número de filas totalmente duplicadas en aisles:', duplicated_rows)"
   ]
  },
  {
   "cell_type": "code",
   "execution_count": 85,
   "id": "da7c2822",
   "metadata": {
    "id": "da7c2822"
   },
   "outputs": [
    {
     "name": "stdout",
     "output_type": "stream",
     "text": [
      "Número de department_id duplicados: 0\n"
     ]
    }
   ],
   "source": [
    "# Revisa únicamente si hay IDs duplicadas de pasillos\n",
    "\n",
    "duplicated_aisles = aisles.duplicated(subset=['aisle_id']).sum()\n",
    "\n",
    "print('Número de department_id duplicados:', duplicated_aisles)"
   ]
  },
  {
   "cell_type": "markdown",
   "id": "ac63826f",
   "metadata": {
    "id": "ac63826f"
   },
   "source": [
    "Describe brevemente tus hallazgos y lo que hiciste con ellos.\n",
    "\n",
    "se ve tambien que hay un problema es que los datos no están separados correctamente y se corrige, luego se imprime nuevamente y no tenemos duplicados."
   ]
  },
  {
   "cell_type": "markdown",
   "id": "274cd06a",
   "metadata": {
    "id": "274cd06a"
   },
   "source": [
    "### `order_products` data frame"
   ]
  },
  {
   "cell_type": "code",
   "execution_count": 86,
   "id": "52326689-84a8-4b8f-a881-7c68780f62c9",
   "metadata": {
    "id": "52326689-84a8-4b8f-a881-7c68780f62c9"
   },
   "outputs": [
    {
     "name": "stdout",
     "output_type": "stream",
     "text": [
      "Número de filas totalmente duplicadas en order_products: 0\n"
     ]
    }
   ],
   "source": [
    "# Revisa si hay filas totalmente duplicadas\n",
    "\n",
    "duplicated_rows = order_products.duplicated().sum()\n",
    "\n",
    "print('Número de filas totalmente duplicadas en order_products:', duplicated_rows)\n"
   ]
  },
  {
   "cell_type": "code",
   "execution_count": 87,
   "id": "7b861391",
   "metadata": {
    "id": "7b861391"
   },
   "outputs": [
    {
     "name": "stdout",
     "output_type": "stream",
     "text": [
      "0\n"
     ]
    }
   ],
   "source": [
    "# Vuelve a verificar si hay cualquier otro duplicado engañoso\n",
    "\n",
    "print (order_products.duplicated().sum())"
   ]
  },
  {
   "cell_type": "markdown",
   "id": "0b890492",
   "metadata": {
    "id": "0b890492"
   },
   "source": [
    "Describe brevemente tus hallazgos y lo que hiciste con ellos.\n",
    "\n",
    "se llama el metodo .duplicated del df total y podemos ver que la cifra es igual a 0."
   ]
  },
  {
   "cell_type": "markdown",
   "id": "adbc520e",
   "metadata": {},
   "source": [
    "<div class=\"alert alert-block alert-success\">\n",
    "<b>Comentario de Reviewer</b> <a class=\"tocSkip\"></a>\n",
    "    \n",
    "Muy bien, en los otros dataframes vemos que no hay duplicados\n",
    "</div>"
   ]
  },
  {
   "cell_type": "markdown",
   "id": "1e46de76",
   "metadata": {
    "id": "1e46de76"
   },
   "source": [
    "## Encuentra y elimina los valores ausentes\n",
    "\n",
    "Al trabajar con valores duplicados, pudimos observar que también nos falta investigar valores ausentes:\n",
    "\n",
    "* La columna `'product_name'` de la tabla products.\n",
    "* La columna `'days_since_prior_order'` de la tabla orders.\n",
    "* La columna `'add_to_cart_order'` de la tabla order_productos."
   ]
  },
  {
   "cell_type": "markdown",
   "id": "c0aebd78",
   "metadata": {
    "id": "c0aebd78"
   },
   "source": [
    "### `products` data frame"
   ]
  },
  {
   "cell_type": "code",
   "execution_count": 89,
   "id": "fe4a8b0f",
   "metadata": {
    "id": "fe4a8b0f"
   },
   "outputs": [
    {
     "name": "stdout",
     "output_type": "stream",
     "text": [
      "product_id          0\n",
      "product_name     1258\n",
      "aisle_id            0\n",
      "department_id       0\n",
      "dtype: int64\n"
     ]
    }
   ],
   "source": [
    "# Encuentra los valores ausentes en la columna 'product_name'\n",
    "\n",
    "print (products.isna().sum())"
   ]
  },
  {
   "cell_type": "markdown",
   "id": "-A6x1AbJhjkp",
   "metadata": {
    "id": "-A6x1AbJhjkp"
   },
   "source": [
    "Describe brevemente cuáles son tus hallazgos.\n",
    "\n",
    "La columna 'product_name' tiene 1,258 valores ausentes, aca vemos un problema que hay 1,258 productos sin nombre en el dataset, y esto puede afectar cualquier análisis basado en nombres de productos."
   ]
  },
  {
   "cell_type": "code",
   "execution_count": 90,
   "id": "e96167bc",
   "metadata": {
    "id": "e96167bc"
   },
   "outputs": [
    {
     "name": "stdout",
     "output_type": "stream",
     "text": [
      "Total de productos sin nombre: 1258\n",
      "Productos sin nombre en aisle_id = 100: 1258\n"
     ]
    }
   ],
   "source": [
    "#  ¿Todos los nombres de productos ausentes están relacionados con el pasillo con ID 100?\n",
    "\n",
    "# Filtramos los productos con 'product_name' ausentes\n",
    "missing_products = products[products['product_name'].isna()]\n",
    "\n",
    "# Contar cuántos de estos productos tienen el pasillo con ID 100\n",
    "missing_in_aisle_100 = (missing_products['aisle_id'] == 100).sum()\n",
    "\n",
    "# Verificar si todos los productos con nombre ausente están en pasillo con ID 100\n",
    "total_missing = len(missing_products)\n",
    "all_in_aisle_100 = missing_in_aisle_100 == total_missing\n",
    "\n",
    "\n",
    "print(f\"Total de productos sin nombre: {total_missing}\")\n",
    "print(f\"Productos sin nombre en aisle_id = 100: {missing_in_aisle_100}\")\n"
   ]
  },
  {
   "cell_type": "markdown",
   "id": "WRpIfXRphpSL",
   "metadata": {
    "id": "WRpIfXRphpSL"
   },
   "source": [
    "Describe brevemente cuáles son tus hallazgos.\n",
    "\n",
    "este resultado nos dice que los valores ausentes estan en el pasillo id 100"
   ]
  },
  {
   "cell_type": "code",
   "execution_count": 91,
   "id": "8fd0a541",
   "metadata": {
    "id": "8fd0a541"
   },
   "outputs": [
    {
     "name": "stdout",
     "output_type": "stream",
     "text": [
      "Total de productos sin nombre: 1258\n",
      "Productos sin nombre en department_id = 21: 1258\n"
     ]
    }
   ],
   "source": [
    "# ¿Todos los nombres de productos ausentes están relacionados con el departamento con ID 21?\n",
    "\n",
    "\n",
    "# Contar cuántos de estos productos tienen el pasillo con ID 21\n",
    "missing_in_aisle_21 = (missing_products['department_id'] == 21).sum()\n",
    "\n",
    "# Verificar si todos los productos con nombre ausente están en pasillo con ID 21\n",
    "total_missing = len(missing_products)\n",
    "all_in_aisle_21 = missing_in_aisle_21 == total_missing\n",
    "\n",
    "\n",
    "print(f\"Total de productos sin nombre: {total_missing}\")\n",
    "print(f\"Productos sin nombre en department_id = 21: {missing_in_aisle_21}\")"
   ]
  },
  {
   "cell_type": "markdown",
   "id": "qDpdYn1Fht_I",
   "metadata": {
    "id": "qDpdYn1Fht_I"
   },
   "source": [
    "Describe brevemente cuáles son tus hallazgos.\n",
    "\n",
    "revisando podemos ver que todos los productos con nombres ausentes (1,258 registros) pertenecen al pasillo con aisle_id = 100.\n",
    "a su vez todos estos productos también están en el departamento con department_id = 21, con esto podriamos decir que el problema de los valores ausentes en product_name está vinculado a este departamento y pasillo específicos.\n"
   ]
  },
  {
   "cell_type": "code",
   "execution_count": 92,
   "id": "325c3464",
   "metadata": {
    "id": "325c3464"
   },
   "outputs": [
    {
     "name": "stdout",
     "output_type": "stream",
     "text": [
      "Nombre del pasillo (aisle_id = 100): ['missing']\n",
      "Nombre del departamento (department_id = 21): ['missing']\n"
     ]
    }
   ],
   "source": [
    "# Usa las tablas department y aisle para revisar los datos del pasillo con ID 100 y el departamento con ID 21.\n",
    "\n",
    "aisle_name = aisles[aisles['aisle_id'] == 100]['aisle'].values\n",
    "\n",
    "# Obtener el nombre del departamento con ID 21\n",
    "department_name = departments[departments['department_id'] == 21]['department'].values\n",
    "\n",
    "print(f\"Nombre del pasillo (aisle_id = 100): {aisle_name}\")\n",
    "print(f\"Nombre del departamento (department_id = 21): {department_name}\")\n"
   ]
  },
  {
   "cell_type": "markdown",
   "id": "nqhSTUPhhvEJ",
   "metadata": {
    "id": "nqhSTUPhhvEJ"
   },
   "source": [
    "Describe brevemente cuáles son tus hallazgos."
   ]
  },
  {
   "cell_type": "code",
   "execution_count": 93,
   "id": "6b295120",
   "metadata": {
    "id": "6b295120"
   },
   "outputs": [
    {
     "data": {
      "text/html": [
       "<div>\n",
       "<style scoped>\n",
       "    .dataframe tbody tr th:only-of-type {\n",
       "        vertical-align: middle;\n",
       "    }\n",
       "\n",
       "    .dataframe tbody tr th {\n",
       "        vertical-align: top;\n",
       "    }\n",
       "\n",
       "    .dataframe thead th {\n",
       "        text-align: right;\n",
       "    }\n",
       "</style>\n",
       "<table border=\"1\" class=\"dataframe\">\n",
       "  <thead>\n",
       "    <tr style=\"text-align: right;\">\n",
       "      <th></th>\n",
       "      <th>product_id</th>\n",
       "      <th>product_name</th>\n",
       "      <th>aisle_id</th>\n",
       "      <th>department_id</th>\n",
       "    </tr>\n",
       "  </thead>\n",
       "  <tbody>\n",
       "    <tr>\n",
       "      <th>0</th>\n",
       "      <td>1</td>\n",
       "      <td>CHOCOLATE SANDWICH COOKIES</td>\n",
       "      <td>61</td>\n",
       "      <td>19</td>\n",
       "    </tr>\n",
       "    <tr>\n",
       "      <th>1</th>\n",
       "      <td>2</td>\n",
       "      <td>ALL-SEASONS SALT</td>\n",
       "      <td>104</td>\n",
       "      <td>13</td>\n",
       "    </tr>\n",
       "    <tr>\n",
       "      <th>2</th>\n",
       "      <td>3</td>\n",
       "      <td>ROBUST GOLDEN UNSWEETENED OOLONG TEA</td>\n",
       "      <td>94</td>\n",
       "      <td>7</td>\n",
       "    </tr>\n",
       "    <tr>\n",
       "      <th>3</th>\n",
       "      <td>4</td>\n",
       "      <td>SMART ONES CLASSIC FAVORITES MINI RIGATONI WIT...</td>\n",
       "      <td>38</td>\n",
       "      <td>1</td>\n",
       "    </tr>\n",
       "    <tr>\n",
       "      <th>4</th>\n",
       "      <td>5</td>\n",
       "      <td>GREEN CHILE ANYTIME SAUCE</td>\n",
       "      <td>5</td>\n",
       "      <td>13</td>\n",
       "    </tr>\n",
       "    <tr>\n",
       "      <th>...</th>\n",
       "      <td>...</td>\n",
       "      <td>...</td>\n",
       "      <td>...</td>\n",
       "      <td>...</td>\n",
       "    </tr>\n",
       "    <tr>\n",
       "      <th>49689</th>\n",
       "      <td>49690</td>\n",
       "      <td>HIGH PERFORMANCE ENERGY DRINK</td>\n",
       "      <td>64</td>\n",
       "      <td>7</td>\n",
       "    </tr>\n",
       "    <tr>\n",
       "      <th>49690</th>\n",
       "      <td>49691</td>\n",
       "      <td>ORIGINAL PANCAKE &amp; WAFFLE MIX</td>\n",
       "      <td>130</td>\n",
       "      <td>14</td>\n",
       "    </tr>\n",
       "    <tr>\n",
       "      <th>49691</th>\n",
       "      <td>49692</td>\n",
       "      <td>ORGANIC INSTANT OATMEAL LIGHT MAPLE BROWN SUGAR</td>\n",
       "      <td>130</td>\n",
       "      <td>14</td>\n",
       "    </tr>\n",
       "    <tr>\n",
       "      <th>49692</th>\n",
       "      <td>49693</td>\n",
       "      <td>SPRING WATER BODY WASH</td>\n",
       "      <td>127</td>\n",
       "      <td>11</td>\n",
       "    </tr>\n",
       "    <tr>\n",
       "      <th>49693</th>\n",
       "      <td>49694</td>\n",
       "      <td>BURRITO- STEAK &amp; CHEESE</td>\n",
       "      <td>38</td>\n",
       "      <td>1</td>\n",
       "    </tr>\n",
       "  </tbody>\n",
       "</table>\n",
       "<p>49694 rows × 4 columns</p>\n",
       "</div>"
      ],
      "text/plain": [
       "       product_id                                       product_name  \\\n",
       "0               1                         CHOCOLATE SANDWICH COOKIES   \n",
       "1               2                                   ALL-SEASONS SALT   \n",
       "2               3               ROBUST GOLDEN UNSWEETENED OOLONG TEA   \n",
       "3               4  SMART ONES CLASSIC FAVORITES MINI RIGATONI WIT...   \n",
       "4               5                          GREEN CHILE ANYTIME SAUCE   \n",
       "...           ...                                                ...   \n",
       "49689       49690                      HIGH PERFORMANCE ENERGY DRINK   \n",
       "49690       49691                      ORIGINAL PANCAKE & WAFFLE MIX   \n",
       "49691       49692    ORGANIC INSTANT OATMEAL LIGHT MAPLE BROWN SUGAR   \n",
       "49692       49693                             SPRING WATER BODY WASH   \n",
       "49693       49694                            BURRITO- STEAK & CHEESE   \n",
       "\n",
       "       aisle_id  department_id  \n",
       "0            61             19  \n",
       "1           104             13  \n",
       "2            94              7  \n",
       "3            38              1  \n",
       "4             5             13  \n",
       "...         ...            ...  \n",
       "49689        64              7  \n",
       "49690       130             14  \n",
       "49691       130             14  \n",
       "49692       127             11  \n",
       "49693        38              1  \n",
       "\n",
       "[49694 rows x 4 columns]"
      ]
     },
     "metadata": {},
     "output_type": "display_data"
    }
   ],
   "source": [
    "# Completa los nombres de productos ausentes con 'Unknown'\n",
    "\n",
    "columns_to_replace = ['aisle_id', 'department_id']\n",
    "\n",
    "for col in columns_to_replace:\n",
    "    products[col].fillna ('unknown', inplace=True)\n",
    "\n",
    "\n",
    "display (products)\n"
   ]
  },
  {
   "cell_type": "markdown",
   "id": "604e412a",
   "metadata": {},
   "source": [
    "<div class=\"alert alert-block alert-success\">\n",
    "<b>Comentario de Revisor</b> <a class=\"tocSkip\"></a>\n",
    "\n",
    "Muy bien, debe haber sido un error específico al registrar los datos de ese pasillo y departamento\n",
    "</div>"
   ]
  },
  {
   "cell_type": "markdown",
   "id": "fc70e5ad",
   "metadata": {
    "id": "fc70e5ad"
   },
   "source": [
    "Describe brevemente tus hallazgos y lo que hiciste con ellos."
   ]
  },
  {
   "cell_type": "markdown",
   "id": "7eb45c86",
   "metadata": {
    "id": "7eb45c86"
   },
   "source": [
    "### `orders` data frame"
   ]
  },
  {
   "cell_type": "code",
   "execution_count": 94,
   "id": "93e41d96",
   "metadata": {
    "id": "93e41d96",
    "scrolled": true
   },
   "outputs": [
    {
     "name": "stdout",
     "output_type": "stream",
     "text": [
      "order_id                      0\n",
      "user_id                       0\n",
      "order_number                  0\n",
      "order_dow                     0\n",
      "order_hour_of_day             0\n",
      "days_since_prior_order    28817\n",
      "dtype: int64\n"
     ]
    }
   ],
   "source": [
    "# Encuentra los valores ausentes\n",
    "\n",
    "print (instacart_orders.isna().sum())"
   ]
  },
  {
   "cell_type": "code",
   "execution_count": 95,
   "id": "166e5a86",
   "metadata": {
    "id": "166e5a86"
   },
   "outputs": [
    {
     "name": "stdout",
     "output_type": "stream",
     "text": [
      "Todos los valores ausentes en 'days_since_prior_order' corresponden al primer pedido del cliente.\n"
     ]
    }
   ],
   "source": [
    "# ¿Hay algún valor ausente que no sea el primer pedido del cliente?\n",
    "\n",
    "# Cuantos pedidos tienen 'days_since_prior_order' como NaN\n",
    "missing_values_count = instacart_orders['days_since_prior_order'].isna().sum()\n",
    "\n",
    "# Contar cuantos pedidos son el primer pedido del cliente\n",
    "first_orders_count = (instacart_orders['order_number'] == 1).sum()\n",
    "\n",
    "# Comparar si todos los valores ausentes en 'days_since_prior_order' corresponden al primer pedido\n",
    "if missing_values_count == first_orders_count:\n",
    "    print(\"Todos los valores ausentes en 'days_since_prior_order' corresponden al primer pedido del cliente.\")\n",
    "else:\n",
    "    print(\"Existen valores ausentes en 'days_since_prior_order' que no corresponden al primer pedido del cliente.\")\n"
   ]
  },
  {
   "cell_type": "markdown",
   "id": "4e23d089",
   "metadata": {
    "id": "4e23d089"
   },
   "source": [
    "Describe brevemente tus hallazgos y lo que hiciste con ellos."
   ]
  },
  {
   "cell_type": "markdown",
   "id": "db865b26",
   "metadata": {},
   "source": [
    "<div class=\"alert alert-block alert-danger\">\n",
    "<b>Comentario de Revisor</b> <a class=\"tocSkip\"></a>\n",
    "\n",
    "Cuenta los nulos para toda la data y cuenta los nulos para la data donde es el primer pedido del usuario (order_number es 1). Si son iguales, es que todos los ausentes son del primer pedido.\n",
    "</div>"
   ]
  },
  {
   "cell_type": "markdown",
   "id": "4925ff27",
   "metadata": {},
   "source": [
    "<div class=\"alert alert-block alert-success\">\n",
    "<b>Comentario de Revisor v2</b> <a class=\"tocSkip\"></a>\n",
    "\n",
    "Muy bien, corregido\n",
    "\n",
    "</div>"
   ]
  },
  {
   "cell_type": "markdown",
   "id": "69dc9ca4",
   "metadata": {
    "id": "69dc9ca4"
   },
   "source": [
    "### `order_products` data frame"
   ]
  },
  {
   "cell_type": "code",
   "execution_count": 96,
   "id": "b8240253",
   "metadata": {
    "id": "b8240253"
   },
   "outputs": [
    {
     "name": "stdout",
     "output_type": "stream",
     "text": [
      "order_id               0\n",
      "product_id             0\n",
      "add_to_cart_order    836\n",
      "reordered              0\n",
      "dtype: int64\n"
     ]
    }
   ],
   "source": [
    "# Encuentra los valores ausentes\n",
    "\n",
    "print (order_products.isna().sum())"
   ]
  },
  {
   "cell_type": "code",
   "execution_count": 97,
   "id": "9a78e5ee",
   "metadata": {
    "id": "9a78e5ee"
   },
   "outputs": [
    {
     "name": "stdout",
     "output_type": "stream",
     "text": [
      "Valor mínimo en add_to_cart_order: 1.0\n",
      "Valor máximo en add_to_cart_order: 64.0\n"
     ]
    }
   ],
   "source": [
    "# ¿Cuáles son los valores mínimos y máximos en esta columna?\n",
    "\n",
    "min_number = order_products['add_to_cart_order'].min()\n",
    "max_number = order_products['add_to_cart_order'].max()\n",
    "\n",
    "print(f\"Valor mínimo en add_to_cart_order: {min_number}\")\n",
    "print(f\"Valor máximo en add_to_cart_order: {max_number}\")"
   ]
  },
  {
   "cell_type": "markdown",
   "id": "-Z2Ja215jW78",
   "metadata": {
    "id": "-Z2Ja215jW78"
   },
   "source": [
    "Describe brevemente cuáles son tus hallazgos.\n",
    "primero hallamos que hay 836 valores ausentes, que pueden deberse a errores que habrian que profundizar la posible causa,por otro lado vemos que el minimo es de 1, es decir que hay uno o mas carritos que se llenaron con un solo articulo y por otro lado el maximo de 64, lo cual indica que una persona lleno dicho carrito con 64 articulos."
   ]
  },
  {
   "cell_type": "code",
   "execution_count": 98,
   "id": "ab9d0c2b",
   "metadata": {
    "id": "ab9d0c2b"
   },
   "outputs": [
    {
     "name": "stdout",
     "output_type": "stream",
     "text": [
      "Total de órdenes con valores ausentes en 'add_to_cart_order': 70\n"
     ]
    }
   ],
   "source": [
    "# Guarda todas las IDs de pedidos que tengan un valor ausente en 'add_to_cart_order'\n",
    "\n",
    "# Filtrar las órdenes con valores ausentes en 'add_to_cart_order'\n",
    "orders_with_missing_add_to_cart = order_products[order_products['add_to_cart_order'].isna()]['order_id'].unique()\n",
    "\n",
    "pd.DataFrame(orders_with_missing_add_to_cart, columns=['order_id']).to_csv('orders_with_missing_add_to_cart.csv', index=False)\n",
    "\n",
    "print(f\"Total de órdenes con valores ausentes en 'add_to_cart_order': {len(orders_with_missing_add_to_cart)}\")\n"
   ]
  },
  {
   "cell_type": "code",
   "execution_count": 99,
   "id": "54c31695",
   "metadata": {
    "id": "54c31695"
   },
   "outputs": [
    {
     "name": "stdout",
     "output_type": "stream",
     "text": [
      "         order_id  product_id  add_to_cart_order  reordered\n",
      "267       2094761       31469               57.0          1\n",
      "737       2449164        5068                NaN          0\n",
      "1742      2997021        4920               37.0          0\n",
      "3463       871281       40063               61.0          1\n",
      "3535       171934       36397                7.0          0\n",
      "...           ...         ...                ...        ...\n",
      "4543519   2621907       32018               28.0          1\n",
      "4544672    102236       34688               49.0          0\n",
      "4544708   2256933       41544               21.0          0\n",
      "4544771    180546       12741               46.0          1\n",
      "4544810   2136777       20072               10.0          0\n",
      "\n",
      "[5316 rows x 4 columns]\n",
      "\n",
      "order_id\n",
      "9310        65\n",
      "61355      127\n",
      "102236      95\n",
      "129627      69\n",
      "165801      70\n",
      "          ... \n",
      "2999801     70\n",
      "3125735     86\n",
      "3308010    115\n",
      "3347453     71\n",
      "3383594     69\n",
      "Name: product_id, Length: 70, dtype: int64\n",
      "\n",
      "Valor mínimo de productos en pedidos con valores ausentes: 65\n"
     ]
    }
   ],
   "source": [
    "# ¿Todos los pedidos con valores ausentes tienen más de 64 productos?\n",
    "# Agrupa todos los pedidos con datos ausentes por su ID de pedido.\n",
    "# Cuenta el número de 'product_id' en cada pedido y revisa el valor mínimo del conteo.\n",
    "\n",
    "import pandas as pd\n",
    "\n",
    "# Filtrar pedidos que tienen al menos un valor nulo en 'add_to_cart_order'\n",
    "orders_with_missing_add_to_cart = order_products.loc[order_products['add_to_cart_order'].isna(), 'order_id'].unique()\n",
    "\n",
    "# Seleccion de todas las filas de esos pedidos incluido NaN\n",
    "pedidos_con_na = order_products[order_products['order_id'].isin(orders_with_missing_add_to_cart)]\n",
    "\n",
    "# conteo  del número total de productos en esos pedidos\n",
    "order_counts = pedidos_con_na.groupby('order_id')['product_id'].count()\n",
    "\n",
    "# obtener el mínimo de productos en pedidos con valores ausentes\n",
    "min_products_in_missing_orders = order_counts.min()\n",
    "\n",
    "print(pedidos_con_na)\n",
    "print()\n",
    "print(order_counts)\n",
    "print()\n",
    "print(f\"Valor mínimo de productos en pedidos con valores ausentes: {min_products_in_missing_orders}\")\n",
    "\n"
   ]
  },
  {
   "cell_type": "markdown",
   "id": "p9V6pddtjglj",
   "metadata": {
    "id": "p9V6pddtjglj"
   },
   "source": [
    "Describe brevemente cuáles son tus hallazgos.\n",
    "\n",
    "-Valores ausentes en add_to_cart_order, hay 836 productos con valores faltantes en esta columna, de estos productos pertenecen a 70 pedidos únicos (order_id), el pedido con menos productos tiene solo 1 producto, el pedido con más productos tiene 63 productos, y ningún pedido con valores ausentes supera los 64 productos."
   ]
  },
  {
   "cell_type": "markdown",
   "id": "29f8a0df",
   "metadata": {},
   "source": [
    "<div class=\"alert alert-block alert-danger\">\n",
    "<b>Comentario de Revisor</b> <a class=\"tocSkip\"></a>\n",
    "\n",
    "El cálculo de esta parte es incorrecto. Lo que estás haciendo es contar la parte de los pedido que tiene nulos. Como un pedido tiene varios productos, esto \n",
    "    \n",
    "    missing_orders = order_products[order_products['add_to_cart_order'].isna()]\n",
    "    \n",
    "solamente selecciona las filas donde hay nulos, pero no selecciona todas las filas del pedido que tiene algun nulo. Para esto, será mejor que uses la lista que determinaste en la celda anterior con un código así o similar:\n",
    "    \n",
    "    pedidos_con_na = pedidos[pedidos['order_id'].isin(orders_with_missing_add_to_cart)]\n",
    "    \n",
    "luego sobre ese resultado cuenta los productos que tienen esos pedidos. \n",
    "</div>"
   ]
  },
  {
   "cell_type": "markdown",
   "id": "d28d59c0",
   "metadata": {},
   "source": [
    "<div class=\"alert alert-block alert-success\">\n",
    "<b>Comentario de Revisor v2</b> <a class=\"tocSkip\"></a>\n",
    "\n",
    "Muy bien, correcto!\n",
    "\n",
    "</div>"
   ]
  },
  {
   "cell_type": "code",
   "execution_count": 100,
   "id": "7a987d08",
   "metadata": {
    "id": "7a987d08"
   },
   "outputs": [
    {
     "data": {
      "text/html": [
       "<div>\n",
       "<style scoped>\n",
       "    .dataframe tbody tr th:only-of-type {\n",
       "        vertical-align: middle;\n",
       "    }\n",
       "\n",
       "    .dataframe tbody tr th {\n",
       "        vertical-align: top;\n",
       "    }\n",
       "\n",
       "    .dataframe thead th {\n",
       "        text-align: right;\n",
       "    }\n",
       "</style>\n",
       "<table border=\"1\" class=\"dataframe\">\n",
       "  <thead>\n",
       "    <tr style=\"text-align: right;\">\n",
       "      <th></th>\n",
       "      <th>order_id</th>\n",
       "      <th>product_id</th>\n",
       "      <th>add_to_cart_order</th>\n",
       "      <th>reordered</th>\n",
       "    </tr>\n",
       "  </thead>\n",
       "  <tbody>\n",
       "    <tr>\n",
       "      <th>0</th>\n",
       "      <td>2141543</td>\n",
       "      <td>11440</td>\n",
       "      <td>17</td>\n",
       "      <td>0</td>\n",
       "    </tr>\n",
       "    <tr>\n",
       "      <th>1</th>\n",
       "      <td>567889</td>\n",
       "      <td>1560</td>\n",
       "      <td>1</td>\n",
       "      <td>1</td>\n",
       "    </tr>\n",
       "    <tr>\n",
       "      <th>2</th>\n",
       "      <td>2261212</td>\n",
       "      <td>26683</td>\n",
       "      <td>1</td>\n",
       "      <td>1</td>\n",
       "    </tr>\n",
       "    <tr>\n",
       "      <th>3</th>\n",
       "      <td>491251</td>\n",
       "      <td>8670</td>\n",
       "      <td>35</td>\n",
       "      <td>1</td>\n",
       "    </tr>\n",
       "    <tr>\n",
       "      <th>4</th>\n",
       "      <td>2571142</td>\n",
       "      <td>1940</td>\n",
       "      <td>5</td>\n",
       "      <td>1</td>\n",
       "    </tr>\n",
       "    <tr>\n",
       "      <th>...</th>\n",
       "      <td>...</td>\n",
       "      <td>...</td>\n",
       "      <td>...</td>\n",
       "      <td>...</td>\n",
       "    </tr>\n",
       "    <tr>\n",
       "      <th>4545002</th>\n",
       "      <td>577211</td>\n",
       "      <td>15290</td>\n",
       "      <td>12</td>\n",
       "      <td>1</td>\n",
       "    </tr>\n",
       "    <tr>\n",
       "      <th>4545003</th>\n",
       "      <td>1219554</td>\n",
       "      <td>21914</td>\n",
       "      <td>9</td>\n",
       "      <td>0</td>\n",
       "    </tr>\n",
       "    <tr>\n",
       "      <th>4545004</th>\n",
       "      <td>692640</td>\n",
       "      <td>47766</td>\n",
       "      <td>4</td>\n",
       "      <td>1</td>\n",
       "    </tr>\n",
       "    <tr>\n",
       "      <th>4545005</th>\n",
       "      <td>319435</td>\n",
       "      <td>691</td>\n",
       "      <td>8</td>\n",
       "      <td>1</td>\n",
       "    </tr>\n",
       "    <tr>\n",
       "      <th>4545006</th>\n",
       "      <td>1398151</td>\n",
       "      <td>28733</td>\n",
       "      <td>9</td>\n",
       "      <td>0</td>\n",
       "    </tr>\n",
       "  </tbody>\n",
       "</table>\n",
       "<p>4545007 rows × 4 columns</p>\n",
       "</div>"
      ],
      "text/plain": [
       "         order_id  product_id  add_to_cart_order  reordered\n",
       "0         2141543       11440                 17          0\n",
       "1          567889        1560                  1          1\n",
       "2         2261212       26683                  1          1\n",
       "3          491251        8670                 35          1\n",
       "4         2571142        1940                  5          1\n",
       "...           ...         ...                ...        ...\n",
       "4545002    577211       15290                 12          1\n",
       "4545003   1219554       21914                  9          0\n",
       "4545004    692640       47766                  4          1\n",
       "4545005    319435         691                  8          1\n",
       "4545006   1398151       28733                  9          0\n",
       "\n",
       "[4545007 rows x 4 columns]"
      ]
     },
     "metadata": {},
     "output_type": "display_data"
    }
   ],
   "source": [
    "# Remplaza los valores ausentes en la columna 'add_to_cart? con 999 y convierte la columna al tipo entero.\n",
    "\n",
    "\n",
    "# Reemplazar valores nulos en 'add_to_cart_order' con 999 y convertir a entero\n",
    "order_products['add_to_cart_order'].fillna(999, inplace=True)\n",
    "order_products['add_to_cart_order'] = order_products['add_to_cart_order'].astype(int)\n",
    "\n",
    "# Mostrar el dataframe actualizado\n",
    "display (order_products)"
   ]
  },
  {
   "cell_type": "markdown",
   "id": "969481ee",
   "metadata": {},
   "source": [
    "<div class=\"alert alert-block alert-success\">\n",
    "<b>Comentario de Revisor</b> <a class=\"tocSkip\"></a>\n",
    "\n",
    "Bien, correcto.\n",
    "</div>"
   ]
  },
  {
   "cell_type": "markdown",
   "id": "fea4bcc7",
   "metadata": {
    "id": "fea4bcc7"
   },
   "source": [
    "Describe brevemente tus hallazgos y lo que hiciste con ellos."
   ]
  },
  {
   "cell_type": "markdown",
   "id": "RnplPFY1gSrb",
   "metadata": {
    "id": "RnplPFY1gSrb"
   },
   "source": [
    "## Conclusiones\n",
    "\n",
    "Escribe aquí tus conclusiones intermedias sobre el Paso 2. Preprocesamiento de los datos\n",
    "\n",
    "un poco dificil, me tomo un dia completo debido  que el dataframe tiene varios errores que habia que corregir y esta bastante lago a comparacion de los anteriores proyectos, y transmito unas observaciones como que esta mal escrito el enunciado un ejmeplo en el anterior ejercicio dice 'add_to_cart? en lugar de 'add_to_cart_order'."
   ]
  },
  {
   "cell_type": "markdown",
   "id": "UjrOIwTcz3ri",
   "metadata": {
    "id": "UjrOIwTcz3ri"
   },
   "source": [
    "# Paso 3. Análisis de los datos\n",
    "\n",
    "Una vez los datos estén procesados y listos, haz el siguiente análisis:"
   ]
  },
  {
   "cell_type": "markdown",
   "id": "turkish-kidney",
   "metadata": {
    "id": "turkish-kidney"
   },
   "source": [
    "# [A] Fácil (deben completarse todos para aprobar)\n",
    "\n",
    "1. Verifica que los valores en las columnas `'order_hour_of_day'` y `'order_dow'` en la tabla orders sean razonables (es decir, `'order_hour_of_day'` oscile entre 0 y 23 y `'order_dow'` oscile entre 0 y 6).\n",
    "2. Crea un gráfico que muestre el número de personas que hacen pedidos dependiendo de la hora del día.\n",
    "3. Crea un gráfico que muestre qué día de la semana la gente hace sus compras.\n",
    "4. Crea un gráfico que muestre el tiempo que la gente espera hasta hacer su siguiente pedido, y comenta sobre los valores mínimos y máximos."
   ]
  },
  {
   "cell_type": "markdown",
   "id": "short-capability",
   "metadata": {
    "id": "short-capability"
   },
   "source": [
    "### [A1] Verifica que los valores sean sensibles"
   ]
  },
  {
   "cell_type": "code",
   "execution_count": 101,
   "id": "growing-fruit",
   "metadata": {
    "id": "growing-fruit"
   },
   "outputs": [
    {
     "name": "stdout",
     "output_type": "stream",
     "text": [
      "Valores únicos en order_hour_of_day: [13 12 19 20 11  8 18 15 16  9 22 10  0 14 17  1  7  6  2 21  3 23  5  4]\n",
      "Valores únicos en order_dow: [6 5 0 4 3 1 2]\n",
      "¿Todos los valores en order_hour_of_day están entre 0 y 23?: True\n",
      "¿Todos los valores en order_dow están entre 0 y 6?: True\n"
     ]
    }
   ],
   "source": [
    "# Verificar los valores únicos en order_hour_of_day\n",
    "print(\"Valores únicos en order_hour_of_day:\", instacart_orders['order_hour_of_day'].unique())\n",
    "\n",
    "# Verificar los valores únicos en order_dow\n",
    "print(\"Valores únicos en order_dow:\", instacart_orders['order_dow'].unique())\n",
    "\n",
    "# Verificar si los valores están dentro del rango esperado\n",
    "hour_range_razonables = instacart_orders['order_hour_of_day'].between(0, 23).all()\n",
    "dow_range_razonables = instacart_orders['order_dow'].between(0, 6).all()\n",
    "\n",
    "print(f\"¿Todos los valores en order_hour_of_day están entre 0 y 23?: {hour_range_razonables}\")\n",
    "print(f\"¿Todos los valores en order_dow están entre 0 y 6?: {dow_range_razonables}\")\n"
   ]
  },
  {
   "cell_type": "markdown",
   "id": "74d24d5f",
   "metadata": {
    "id": "accessory-malaysia"
   },
   "source": [
    "<div class=\"alert alert-block alert-success\">\n",
    "<b>Comentario de Revisor</b> <a class=\"tocSkip\"></a>\n",
    "\n",
    "Bien, correcto.\n",
    "</div>"
   ]
  },
  {
   "cell_type": "markdown",
   "id": "hmR2GNQ6lCsX",
   "metadata": {
    "id": "hmR2GNQ6lCsX"
   },
   "source": [
    "Escribe aquí tus conclusiones"
   ]
  },
  {
   "cell_type": "markdown",
   "id": "a6743a70",
   "metadata": {
    "id": "a6743a70"
   },
   "source": [
    "### [A2] Para cada hora del día, ¿cuántas personas hacen órdenes?"
   ]
  },
  {
   "cell_type": "code",
   "execution_count": 102,
   "id": "a36cca27",
   "metadata": {
    "id": "a36cca27",
    "scrolled": true
   },
   "outputs": [
    {
     "data": {
      "image/png": "[encoded data removed]",
      "text/plain": [
       "<Figure size 1000x500 with 1 Axes>"
      ]
     },
     "metadata": {},
     "output_type": "display_data"
    }
   ],
   "source": [
    "\n",
    "# Crear el gráfico\n",
    "orders_by_hour = instacart_orders.groupby('order_hour_of_day')['order_id'].count()\n",
    "\n",
    "# Crear el gráfico\n",
    "plt.figure(figsize=(10, 5))\n",
    "plt.plot(orders_by_hour.index, orders_by_hour.values, marker='o')\n",
    "\n",
    "# Etiquetas y título\n",
    "plt.xlabel('Hora del Día')\n",
    "plt.ylabel('Número de Pedidos')\n",
    "plt.title('Número de Pedidos por Hora del Día')\n",
    "\n",
    "# Mostrar el gráfico\n",
    "plt.show()"
   ]
  },
  {
   "cell_type": "code",
   "execution_count": null,
   "id": "f8d0d278",
   "metadata": {},
   "outputs": [],
   "source": []
  },
  {
   "cell_type": "markdown",
   "id": "292b2644",
   "metadata": {},
   "source": [
    "<div class=\"alert alert-block alert-success\">\n",
    "<b>Comentario de Revisor</b> <a class=\"tocSkip\"></a>\n",
    "\n",
    "La celda tiene el error de que intentas graficar para cada usuario el valor de su id en las horas de sus ordenes. En realidad, debes agrupar por hora, contar la cantidad de pedidos y luego graficar ese resultado.\n",
    "</div>"
   ]
  },
  {
   "cell_type": "markdown",
   "id": "11270eed",
   "metadata": {
    "id": "11270eed"
   },
   "source": [
    "Escribe aquí tus conclusiones\n",
    "\n",
    "\n",
    "<div class=\"alert alert-block alert-info\"> <b>Respuesta del estudiante.</b> <a class=\"tocSkip\"></a> \n",
    "    \n",
    "buenas tardes\n",
    "\n",
    "estoy revisando mis apuntes una y otra vez y no puedo con este proyecto llevo un total de tres dias en este punto, a mi parecer es demasiado dificil sobre todo si vemos que apenas se cumplen dos meses de haber comenzado, a su vez siento que todo lo que he hecho un 70 o 75 % de lo que hice esta bien y nos es junsto que  uno siendo principiante lo pongan a trabajar con 5 dataframes al mismo tiempo </div>\n"
   ]
  },
  {
   "cell_type": "markdown",
   "id": "272d1beb",
   "metadata": {},
   "source": [
    "<div class=\"alert alert-block alert-warning\">\n",
    "<b>Comentario de Revisor</b> <a class=\"tocSkip\"></a>\n",
    "\n",
    "Entiendo, puede ser desafiante esta ruta de aprendizaje. Tómalo con calma y revisa los comentarios que te dejé en esta revisión. Si tienes más dudas, recuerda que puedes solicitar una sesión uno a uno con un tutor.\n",
    "</div>"
   ]
  },
  {
   "cell_type": "markdown",
   "id": "documented-command",
   "metadata": {
    "id": "documented-command"
   },
   "source": [
    "### [A3] ¿Qué día de la semana compran víveres las personas?"
   ]
  },
  {
   "cell_type": "code",
   "execution_count": 103,
   "id": "chief-digit",
   "metadata": {
    "id": "chief-digit"
   },
   "outputs": [
    {
     "data": {
      "image/png": "[encoded data removed]",
      "text/plain": [
       "<Figure size 1000x500 with 1 Axes>"
      ]
     },
     "metadata": {},
     "output_type": "display_data"
    }
   ],
   "source": [
    "\n",
    "# Crear el gráfico\n",
    "orders_by_hour = instacart_orders.groupby('order_dow')['order_id'].count()\n",
    "\n",
    "# Crear el gráfico\n",
    "plt.figure(figsize=(10, 5))\n",
    "plt.plot(orders_by_hour.index, orders_by_hour.values, marker='o')\n",
    "\n",
    "# Etiquetas y título\n",
    "plt.xlabel('Día de la Semana (0 = Domingo, 6 = Sábado)')\n",
    "plt.ylabel('Número de Pedidos')\n",
    "plt.title('Número de Pedidos por Día de la Semana')\n",
    "# Mostrar el gráfico\n",
    "plt.show()"
   ]
  },
  {
   "cell_type": "markdown",
   "id": "dominant-lightning",
   "metadata": {
    "id": "dominant-lightning"
   },
   "source": [
    "Escribe aquí tus conclusiones"
   ]
  },
  {
   "cell_type": "markdown",
   "id": "bc2b4567",
   "metadata": {},
   "source": [
    "<div class=\"alert alert-block alert-success\">\n",
    "<b>Comentario de Revisor v2</b> <a class=\"tocSkip\"></a>\n",
    "\n",
    "Muy bien, correcto</div>"
   ]
  },
  {
   "cell_type": "markdown",
   "id": "cutting-concert",
   "metadata": {
    "id": "cutting-concert"
   },
   "source": [
    "### [A4] ¿Cuánto tiempo esperan las personas hasta hacer otro pedido? Comenta sobre los valores mínimos y máximos."
   ]
  },
  {
   "cell_type": "code",
   "execution_count": 104,
   "id": "c231f523",
   "metadata": {
    "id": "c231f523"
   },
   "outputs": [
    {
     "name": "stderr",
     "output_type": "stream",
     "text": [
      "No handles with labels found to put in legend.\n"
     ]
    },
    {
     "data": {
      "image/png": "[encoded data removed]",
      "text/plain": [
       "<Figure size 1000x500 with 1 Axes>"
      ]
     },
     "metadata": {},
     "output_type": "display_data"
    },
    {
     "name": "stdout",
     "output_type": "stream",
     "text": [
      "Valor mínimo: 0.0 días\n",
      "Valor máximo: 30.0 días\n"
     ]
    }
   ],
   "source": [
    "# Descripción estadística de la columna 'days_since_prior_order'\n",
    "summary = instacart_orders['days_since_prior_order'].describe()\n",
    "\n",
    "# Encontrar valores mínimo y máximo\n",
    "min_days = summary['min']\n",
    "max_days = summary['max']\n",
    "\n",
    "# Crear histograma para visualizar la distribución\n",
    "plt.figure(figsize=(10, 5))\n",
    "plt.hist(instacart_orders['days_since_prior_order'].dropna(), bins=30)\n",
    "\n",
    "# Etiquetas y título\n",
    "plt.xlabel('Días desde el Pedido Anterior')\n",
    "plt.ylabel('Número de Pedidos')\n",
    "plt.title('Distribución de Días entre Pedidos')\n",
    "\n",
    "plt.legend()\n",
    "plt.grid(axis='y', alpha=0.7)\n",
    "\n",
    "\n",
    "plt.show()\n",
    "\n",
    "# Imprimir valores clave\n",
    "print(f\"Valor mínimo: {min_days} días\")\n",
    "print(f\"Valor máximo: {max_days} días\")"
   ]
  },
  {
   "cell_type": "markdown",
   "id": "8802889d",
   "metadata": {},
   "source": [
    "<div class=\"alert alert-block alert-success\">\n",
    "<b>Comentario de Revisor v2</b> <a class=\"tocSkip\"></a>\n",
    "\n",
    "Muy bien, el gráfico es correcto. Nota que el tiempo de 30 días es muy alto. Probablemente se debe a que el sistema no registra más de 30 días entre compras y todas las que son de más de ese tiempo las guarda como 30.\n",
    "    \n",
    "</div>"
   ]
  },
  {
   "cell_type": "markdown",
   "id": "discrete-vertex",
   "metadata": {
    "id": "discrete-vertex"
   },
   "source": [
    "Escribe aquí tus conclusiones"
   ]
  },
  {
   "cell_type": "markdown",
   "id": "tight-staff",
   "metadata": {
    "id": "tight-staff"
   },
   "source": [
    "# [B] Intermedio (deben completarse todos para aprobar)\n",
    "\n",
    "1. ¿Existe alguna diferencia entre las distribuciones `'order_hour_of_day'` de los miércoles y los sábados? Traza gráficos de barra de `'order_hour_of_day'` para ambos días en la misma figura y describe las diferencias que observes.\n",
    "2. Grafica la distribución para el número de órdenes que hacen los clientes (es decir, cuántos clientes hicieron solo 1 pedido, cuántos hicieron 2, cuántos 3, y así sucesivamente...).\n",
    "3. ¿Cuáles son los 20 principales productos que se piden con más frecuencia (muestra su identificación y nombre)?"
   ]
  },
  {
   "cell_type": "markdown",
   "id": "packed-classic",
   "metadata": {
    "id": "packed-classic"
   },
   "source": [
    "### [B1] Diferencia entre miércoles y sábados para  `'order_hour_of_day'`. Traza gráficos de barra para los dos días y describe las diferencias que veas."
   ]
  },
  {
   "cell_type": "code",
   "execution_count": 105,
   "id": "d89b8403",
   "metadata": {
    "id": "d89b8403"
   },
   "outputs": [
    {
     "data": {
      "image/png": "[encoded data removed]",
      "text/plain": [
       "<Figure size 640x480 with 1 Axes>"
      ]
     },
     "metadata": {},
     "output_type": "display_data"
    }
   ],
   "source": [
    "\n",
    "\n",
    "# Filtrar pedidos para los miércoles (día 3) y los sábados (día 6)\n",
    "wednesday_orders = instacart_orders[instacart_orders['order_dow'] == 3]\n",
    "saturday_orders = instacart_orders[instacart_orders['order_dow'] == 6]\n",
    "\n",
    "# Agrupar por hora del día y contar los pedidos\n",
    "wednesday_counts = wednesday_orders.groupby('order_hour_of_day')['order_id'].count()\n",
    "saturday_counts = saturday_orders.groupby('order_hour_of_day')['order_id'].count()\n",
    "\n",
    "\n",
    "# datos para el miércoles\n",
    "plt.bar(wednesday_counts.index, wednesday_counts.values, color='orange')\n",
    "plt.xlabel('Hora del Día')\n",
    "plt.ylabel('Número de Pedidos')\n",
    "plt.title('Pedidos en Miércoles')\n",
    "\n",
    "# datos para el sábado\n",
    "plt.bar(saturday_counts.index, saturday_counts.values, color='green')\n",
    "plt.xlabel('Hora del Día')\n",
    "plt.ylabel('Número de Pedidos')\n",
    "plt.title('Pedidos en Sábados')\n",
    "\n",
    "plt.show()\n"
   ]
  },
  {
   "cell_type": "code",
   "execution_count": null,
   "id": "94e54e8a",
   "metadata": {
    "id": "94e54e8a"
   },
   "outputs": [],
   "source": []
  },
  {
   "cell_type": "code",
   "execution_count": null,
   "id": "797c90a8",
   "metadata": {
    "id": "797c90a8"
   },
   "outputs": [],
   "source": []
  },
  {
   "cell_type": "code",
   "execution_count": null,
   "id": "35bcea30",
   "metadata": {
    "id": "35bcea30"
   },
   "outputs": [],
   "source": []
  },
  {
   "cell_type": "markdown",
   "id": "charitable-congo",
   "metadata": {
    "id": "charitable-congo"
   },
   "source": [
    "Escribe aquí tus conclusiones\n",
    "\n",
    "se evidencia que los dias miercoles hay una tendencia mas añta a comparacion del dia sabado, no es mucha la diferencia pero si hay mas el dia miercoles."
   ]
  },
  {
   "cell_type": "markdown",
   "id": "a1a22082",
   "metadata": {},
   "source": [
    "<div class=\"alert alert-block alert-success\">\n",
    "<b>Comentario de Revisor v2</b> <a class=\"tocSkip\"></a>\n",
    "\n",
    "Bien hecho, correcto\n",
    "    \n",
    "</div>"
   ]
  },
  {
   "cell_type": "markdown",
   "id": "e3891143",
   "metadata": {
    "id": "e3891143"
   },
   "source": [
    "### [B2] ¿Cuál es la distribución para el número de pedidos por cliente?"
   ]
  },
  {
   "cell_type": "code",
   "execution_count": 106,
   "id": "d8c26c23",
   "metadata": {
    "id": "d8c26c23"
   },
   "outputs": [
    {
     "data": {
      "image/png": "[encoded data removed]",
      "text/plain": [
       "<Figure size 640x480 with 1 Axes>"
      ]
     },
     "metadata": {},
     "output_type": "display_data"
    }
   ],
   "source": [
    "\n",
    "# Contar cuántos pedidos hizo cada cliente\n",
    "orders_per_customer = instacart_orders.groupby('user_id')['order_id'].count()\n",
    "\n",
    "# Contar cuántos clientes hicieron 1, 2, 3,... pedidos\n",
    "orders_distribution = orders_per_customer.value_counts().sort_index()\n",
    "\n",
    "# Crear el gráfico\n",
    "orders_distribution.plot(kind='bar', )\n",
    "\n",
    "# Etiquetas y título\n",
    "plt.xlabel('Número de Pedidos')\n",
    "plt.ylabel('Número de Clientes')\n",
    "plt.title('Distribución de Clientes según Número de Pedidos')\n",
    "\n",
    "\n",
    "\n",
    "\n",
    "plt.show()\n"
   ]
  },
  {
   "cell_type": "code",
   "execution_count": null,
   "id": "00e69a66",
   "metadata": {
    "id": "00e69a66"
   },
   "outputs": [],
   "source": []
  },
  {
   "cell_type": "markdown",
   "id": "d2eff7d5",
   "metadata": {
    "id": "d2eff7d5"
   },
   "source": [
    "Escribe aquí tus conclusiones\n",
    "\n",
    "se evidencia en la graficaque la cantidad de clientes que hicieron un solo pedidos es alta y va disminuyendo a conforme mas pedidos van haciendo."
   ]
  },
  {
   "cell_type": "markdown",
   "id": "cb2eb565",
   "metadata": {},
   "source": [
    "<div class=\"alert alert-block alert-success\">\n",
    "<b>Comentario de Revisor v2</b> <a class=\"tocSkip\"></a>\n",
    "\n",
    "Muy bien, correcto\n",
    "    \n",
    "</div>"
   ]
  },
  {
   "cell_type": "markdown",
   "id": "54a0319c",
   "metadata": {
    "id": "54a0319c"
   },
   "source": [
    "### [B3] ¿Cuáles son los 20 productos más populares (muestra su ID y nombre)?"
   ]
  },
  {
   "cell_type": "code",
   "execution_count": 107,
   "id": "exterior-arizona",
   "metadata": {
    "id": "exterior-arizona",
    "scrolled": true
   },
   "outputs": [
    {
     "data": {
      "text/html": [
       "<div>\n",
       "<style scoped>\n",
       "    .dataframe tbody tr th:only-of-type {\n",
       "        vertical-align: middle;\n",
       "    }\n",
       "\n",
       "    .dataframe tbody tr th {\n",
       "        vertical-align: top;\n",
       "    }\n",
       "\n",
       "    .dataframe thead th {\n",
       "        text-align: right;\n",
       "    }\n",
       "</style>\n",
       "<table border=\"1\" class=\"dataframe\">\n",
       "  <thead>\n",
       "    <tr style=\"text-align: right;\">\n",
       "      <th></th>\n",
       "      <th>product_id</th>\n",
       "      <th>conteo_productos</th>\n",
       "      <th>product_name</th>\n",
       "    </tr>\n",
       "  </thead>\n",
       "  <tbody>\n",
       "    <tr>\n",
       "      <th>0</th>\n",
       "      <td>24852</td>\n",
       "      <td>66050</td>\n",
       "      <td>BANANA</td>\n",
       "    </tr>\n",
       "    <tr>\n",
       "      <th>1</th>\n",
       "      <td>13176</td>\n",
       "      <td>53297</td>\n",
       "      <td>BAG OF ORGANIC BANANAS</td>\n",
       "    </tr>\n",
       "    <tr>\n",
       "      <th>2</th>\n",
       "      <td>21137</td>\n",
       "      <td>37039</td>\n",
       "      <td>ORGANIC STRAWBERRIES</td>\n",
       "    </tr>\n",
       "    <tr>\n",
       "      <th>3</th>\n",
       "      <td>21903</td>\n",
       "      <td>33971</td>\n",
       "      <td>ORGANIC BABY SPINACH</td>\n",
       "    </tr>\n",
       "    <tr>\n",
       "      <th>4</th>\n",
       "      <td>47209</td>\n",
       "      <td>29773</td>\n",
       "      <td>ORGANIC HASS AVOCADO</td>\n",
       "    </tr>\n",
       "    <tr>\n",
       "      <th>5</th>\n",
       "      <td>47766</td>\n",
       "      <td>24689</td>\n",
       "      <td>ORGANIC AVOCADO</td>\n",
       "    </tr>\n",
       "    <tr>\n",
       "      <th>6</th>\n",
       "      <td>47626</td>\n",
       "      <td>21495</td>\n",
       "      <td>LARGE LEMON</td>\n",
       "    </tr>\n",
       "    <tr>\n",
       "      <th>7</th>\n",
       "      <td>16797</td>\n",
       "      <td>20018</td>\n",
       "      <td>STRAWBERRIES</td>\n",
       "    </tr>\n",
       "    <tr>\n",
       "      <th>8</th>\n",
       "      <td>26209</td>\n",
       "      <td>19690</td>\n",
       "      <td>LIMES</td>\n",
       "    </tr>\n",
       "    <tr>\n",
       "      <th>9</th>\n",
       "      <td>27845</td>\n",
       "      <td>19600</td>\n",
       "      <td>ORGANIC WHOLE MILK</td>\n",
       "    </tr>\n",
       "    <tr>\n",
       "      <th>10</th>\n",
       "      <td>27966</td>\n",
       "      <td>19197</td>\n",
       "      <td>ORGANIC RASPBERRIES</td>\n",
       "    </tr>\n",
       "    <tr>\n",
       "      <th>11</th>\n",
       "      <td>22935</td>\n",
       "      <td>15898</td>\n",
       "      <td>ORGANIC YELLOW ONION</td>\n",
       "    </tr>\n",
       "    <tr>\n",
       "      <th>12</th>\n",
       "      <td>24964</td>\n",
       "      <td>15292</td>\n",
       "      <td>ORGANIC GARLIC</td>\n",
       "    </tr>\n",
       "    <tr>\n",
       "      <th>13</th>\n",
       "      <td>45007</td>\n",
       "      <td>14584</td>\n",
       "      <td>ORGANIC ZUCCHINI</td>\n",
       "    </tr>\n",
       "    <tr>\n",
       "      <th>14</th>\n",
       "      <td>39275</td>\n",
       "      <td>13879</td>\n",
       "      <td>ORGANIC BLUEBERRIES</td>\n",
       "    </tr>\n",
       "    <tr>\n",
       "      <th>15</th>\n",
       "      <td>49683</td>\n",
       "      <td>13675</td>\n",
       "      <td>CUCUMBER KIRBY</td>\n",
       "    </tr>\n",
       "    <tr>\n",
       "      <th>16</th>\n",
       "      <td>28204</td>\n",
       "      <td>12544</td>\n",
       "      <td>ORGANIC FUJI APPLE</td>\n",
       "    </tr>\n",
       "    <tr>\n",
       "      <th>17</th>\n",
       "      <td>5876</td>\n",
       "      <td>12232</td>\n",
       "      <td>ORGANIC LEMON</td>\n",
       "    </tr>\n",
       "    <tr>\n",
       "      <th>18</th>\n",
       "      <td>8277</td>\n",
       "      <td>11993</td>\n",
       "      <td>APPLE HONEYCRISP ORGANIC</td>\n",
       "    </tr>\n",
       "    <tr>\n",
       "      <th>19</th>\n",
       "      <td>40706</td>\n",
       "      <td>11781</td>\n",
       "      <td>ORGANIC GRAPE TOMATOES</td>\n",
       "    </tr>\n",
       "  </tbody>\n",
       "</table>\n",
       "</div>"
      ],
      "text/plain": [
       "    product_id  conteo_productos              product_name\n",
       "0        24852             66050                    BANANA\n",
       "1        13176             53297    BAG OF ORGANIC BANANAS\n",
       "2        21137             37039      ORGANIC STRAWBERRIES\n",
       "3        21903             33971      ORGANIC BABY SPINACH\n",
       "4        47209             29773      ORGANIC HASS AVOCADO\n",
       "5        47766             24689           ORGANIC AVOCADO\n",
       "6        47626             21495               LARGE LEMON\n",
       "7        16797             20018              STRAWBERRIES\n",
       "8        26209             19690                     LIMES\n",
       "9        27845             19600        ORGANIC WHOLE MILK\n",
       "10       27966             19197       ORGANIC RASPBERRIES\n",
       "11       22935             15898      ORGANIC YELLOW ONION\n",
       "12       24964             15292            ORGANIC GARLIC\n",
       "13       45007             14584          ORGANIC ZUCCHINI\n",
       "14       39275             13879       ORGANIC BLUEBERRIES\n",
       "15       49683             13675            CUCUMBER KIRBY\n",
       "16       28204             12544        ORGANIC FUJI APPLE\n",
       "17        5876             12232             ORGANIC LEMON\n",
       "18        8277             11993  APPLE HONEYCRISP ORGANIC\n",
       "19       40706             11781    ORGANIC GRAPE TOMATOES"
      ]
     },
     "execution_count": 107,
     "metadata": {},
     "output_type": "execute_result"
    }
   ],
   "source": [
    "\n",
    "# Contar cuántos pedidos hizo cada cliente\n",
    "\n",
    "orders_per_customer = order_products.groupby('product_id')['order_id'].count().reset_index(name='conteo_productos').sort_values(by='conteo_productos',ascending=False)\n",
    "\n",
    "top_products = orders_per_customer.merge(products[['product_id', 'product_name']], on='product_id', how='left')\n",
    "\n",
    "\n",
    "top_products.head(20)\n",
    "\n",
    "\n",
    "#merge unir tablas"
   ]
  },
  {
   "cell_type": "markdown",
   "id": "8fe002e7",
   "metadata": {
    "id": "universal-facial"
   },
   "source": [
    "<div class=\"alert alert-block alert-success\">\n",
    "<b>Comentario de Revisor v2</b> <a class=\"tocSkip\"></a>\n",
    "\n",
    "Muy bien, correcto\n",
    "    \n",
    "</div>"
   ]
  },
  {
   "cell_type": "code",
   "execution_count": null,
   "id": "bbcdd20b",
   "metadata": {
    "id": "bbcdd20b"
   },
   "outputs": [],
   "source": []
  },
  {
   "cell_type": "markdown",
   "id": "7df00f47",
   "metadata": {
    "id": "7df00f47"
   },
   "source": [
    "Escribe aquí tus conclusiones\n",
    "se evidencia que son frutas  el top de las 20 productos mas pedidos."
   ]
  },
  {
   "cell_type": "markdown",
   "id": "gross-theme",
   "metadata": {
    "id": "gross-theme"
   },
   "source": [
    "# [C] Difícil (deben completarse todos para aprobar)\n",
    "\n",
    "1. ¿Cuántos artículos suelen comprar las personas en un pedido? ¿Cómo es la distribución?\n",
    "2. ¿Cuáles son los 20 principales artículos que vuelven a pedirse con mayor frecuencia (muestra sus nombres e IDs de los productos)?\n",
    "3. Para cada producto, ¿cuál es la tasa de repetición del pedido (número de repeticiones de pedido/total de pedidos?\n",
    "4. Para cada cliente, ¿qué proporción de los productos que pidió ya los había pedido? Calcula la tasa de repetición de pedido para cada usuario en lugar de para cada producto.\n",
    "5. ¿Cuáles son los 20 principales artículos que la gente pone primero en sus carritos (muestra las IDs de los productos, sus nombres, y el número de veces en que fueron el primer artículo en añadirse al carrito)?"
   ]
  },
  {
   "cell_type": "markdown",
   "id": "romantic-deposit",
   "metadata": {
    "id": "romantic-deposit"
   },
   "source": [
    "### [C1] ¿Cuántos artículos compran normalmente las personas en un pedido? ¿Cómo es la distribución?"
   ]
  },
  {
   "cell_type": "code",
   "execution_count": 108,
   "id": "virtual-punch",
   "metadata": {
    "id": "virtual-punch"
   },
   "outputs": [
    {
     "data": {
      "image/png": "[encoded data removed]",
      "text/plain": [
       "<Figure size 1000x500 with 1 Axes>"
      ]
     },
     "metadata": {},
     "output_type": "display_data"
    }
   ],
   "source": [
    "\n",
    "# Contar cuántos productos hay en cada pedido\n",
    "products_per_order = order_products.groupby('order_id').size()\n",
    "\n",
    "\n",
    "# Crear un histograma para visualizar la distribución\n",
    "plt.figure(figsize=(10, 5))\n",
    "plt.hist(products_per_order, bins=50,)\n",
    "\n",
    "# Etiquetas y título\n",
    "plt.xlabel('Número de Productos por Pedido')\n",
    "plt.ylabel('Frecuencia')\n",
    "plt.title('Distribución del Número de Productos por Pedido')\n",
    "\n",
    "\n",
    "\n",
    "# Mostrar el gráfico\n",
    "plt.show()\n",
    "\n",
    "\n",
    "\n"
   ]
  },
  {
   "cell_type": "markdown",
   "id": "67974689",
   "metadata": {},
   "source": [
    "<div class=\"alert alert-block alert-success\">\n",
    "<b>Comentario de Revisor v2</b> <a class=\"tocSkip\"></a>\n",
    "\n",
    "Muy bien, correcto\n",
    "    \n",
    "</div>"
   ]
  },
  {
   "cell_type": "code",
   "execution_count": null,
   "id": "completed-frank",
   "metadata": {
    "id": "completed-frank"
   },
   "outputs": [],
   "source": []
  },
  {
   "cell_type": "markdown",
   "id": "designed-mortality",
   "metadata": {
    "id": "designed-mortality"
   },
   "source": [
    "Escribe aquí tus conclusiones"
   ]
  },
  {
   "cell_type": "markdown",
   "id": "5e6b5537",
   "metadata": {
    "id": "5e6b5537"
   },
   "source": [
    "### [C2] ¿Cuáles son los 20 principales artículos que vuelven a pedirse con mayor frecuencia (muestra sus nombres e IDs de los productos)?"
   ]
  },
  {
   "cell_type": "code",
   "execution_count": 109,
   "id": "9374e55a",
   "metadata": {
    "id": "9374e55a"
   },
   "outputs": [
    {
     "data": {
      "image/png": "[encoded data removed]",
      "text/plain": [
       "<Figure size 1200x600 with 1 Axes>"
      ]
     },
     "metadata": {},
     "output_type": "display_data"
    },
    {
     "data": {
      "text/html": [
       "<div>\n",
       "<style scoped>\n",
       "    .dataframe tbody tr th:only-of-type {\n",
       "        vertical-align: middle;\n",
       "    }\n",
       "\n",
       "    .dataframe tbody tr th {\n",
       "        vertical-align: top;\n",
       "    }\n",
       "\n",
       "    .dataframe thead th {\n",
       "        text-align: right;\n",
       "    }\n",
       "</style>\n",
       "<table border=\"1\" class=\"dataframe\">\n",
       "  <thead>\n",
       "    <tr style=\"text-align: right;\">\n",
       "      <th></th>\n",
       "      <th>product_id</th>\n",
       "      <th>reorder_count</th>\n",
       "      <th>product_name</th>\n",
       "    </tr>\n",
       "  </thead>\n",
       "  <tbody>\n",
       "    <tr>\n",
       "      <th>0</th>\n",
       "      <td>24852</td>\n",
       "      <td>55763</td>\n",
       "      <td>BANANA</td>\n",
       "    </tr>\n",
       "    <tr>\n",
       "      <th>1</th>\n",
       "      <td>13176</td>\n",
       "      <td>44450</td>\n",
       "      <td>BAG OF ORGANIC BANANAS</td>\n",
       "    </tr>\n",
       "    <tr>\n",
       "      <th>2</th>\n",
       "      <td>21137</td>\n",
       "      <td>28639</td>\n",
       "      <td>ORGANIC STRAWBERRIES</td>\n",
       "    </tr>\n",
       "    <tr>\n",
       "      <th>3</th>\n",
       "      <td>21903</td>\n",
       "      <td>26233</td>\n",
       "      <td>ORGANIC BABY SPINACH</td>\n",
       "    </tr>\n",
       "    <tr>\n",
       "      <th>4</th>\n",
       "      <td>47209</td>\n",
       "      <td>23629</td>\n",
       "      <td>ORGANIC HASS AVOCADO</td>\n",
       "    </tr>\n",
       "    <tr>\n",
       "      <th>5</th>\n",
       "      <td>47766</td>\n",
       "      <td>18743</td>\n",
       "      <td>ORGANIC AVOCADO</td>\n",
       "    </tr>\n",
       "    <tr>\n",
       "      <th>6</th>\n",
       "      <td>27845</td>\n",
       "      <td>16251</td>\n",
       "      <td>ORGANIC WHOLE MILK</td>\n",
       "    </tr>\n",
       "    <tr>\n",
       "      <th>7</th>\n",
       "      <td>47626</td>\n",
       "      <td>15044</td>\n",
       "      <td>LARGE LEMON</td>\n",
       "    </tr>\n",
       "    <tr>\n",
       "      <th>8</th>\n",
       "      <td>27966</td>\n",
       "      <td>14748</td>\n",
       "      <td>ORGANIC RASPBERRIES</td>\n",
       "    </tr>\n",
       "    <tr>\n",
       "      <th>9</th>\n",
       "      <td>16797</td>\n",
       "      <td>13945</td>\n",
       "      <td>STRAWBERRIES</td>\n",
       "    </tr>\n",
       "    <tr>\n",
       "      <th>10</th>\n",
       "      <td>26209</td>\n",
       "      <td>13327</td>\n",
       "      <td>LIMES</td>\n",
       "    </tr>\n",
       "    <tr>\n",
       "      <th>11</th>\n",
       "      <td>22935</td>\n",
       "      <td>11145</td>\n",
       "      <td>ORGANIC YELLOW ONION</td>\n",
       "    </tr>\n",
       "    <tr>\n",
       "      <th>12</th>\n",
       "      <td>24964</td>\n",
       "      <td>10411</td>\n",
       "      <td>ORGANIC GARLIC</td>\n",
       "    </tr>\n",
       "    <tr>\n",
       "      <th>13</th>\n",
       "      <td>45007</td>\n",
       "      <td>10076</td>\n",
       "      <td>ORGANIC ZUCCHINI</td>\n",
       "    </tr>\n",
       "    <tr>\n",
       "      <th>14</th>\n",
       "      <td>49683</td>\n",
       "      <td>9538</td>\n",
       "      <td>CUCUMBER KIRBY</td>\n",
       "    </tr>\n",
       "    <tr>\n",
       "      <th>15</th>\n",
       "      <td>28204</td>\n",
       "      <td>8989</td>\n",
       "      <td>ORGANIC FUJI APPLE</td>\n",
       "    </tr>\n",
       "    <tr>\n",
       "      <th>16</th>\n",
       "      <td>8277</td>\n",
       "      <td>8836</td>\n",
       "      <td>APPLE HONEYCRISP ORGANIC</td>\n",
       "    </tr>\n",
       "    <tr>\n",
       "      <th>17</th>\n",
       "      <td>39275</td>\n",
       "      <td>8799</td>\n",
       "      <td>ORGANIC BLUEBERRIES</td>\n",
       "    </tr>\n",
       "    <tr>\n",
       "      <th>18</th>\n",
       "      <td>5876</td>\n",
       "      <td>8412</td>\n",
       "      <td>ORGANIC LEMON</td>\n",
       "    </tr>\n",
       "    <tr>\n",
       "      <th>19</th>\n",
       "      <td>49235</td>\n",
       "      <td>8389</td>\n",
       "      <td>ORGANIC HALF &amp; HALF</td>\n",
       "    </tr>\n",
       "  </tbody>\n",
       "</table>\n",
       "</div>"
      ],
      "text/plain": [
       "    product_id  reorder_count              product_name\n",
       "0        24852          55763                    BANANA\n",
       "1        13176          44450    BAG OF ORGANIC BANANAS\n",
       "2        21137          28639      ORGANIC STRAWBERRIES\n",
       "3        21903          26233      ORGANIC BABY SPINACH\n",
       "4        47209          23629      ORGANIC HASS AVOCADO\n",
       "5        47766          18743           ORGANIC AVOCADO\n",
       "6        27845          16251        ORGANIC WHOLE MILK\n",
       "7        47626          15044               LARGE LEMON\n",
       "8        27966          14748       ORGANIC RASPBERRIES\n",
       "9        16797          13945              STRAWBERRIES\n",
       "10       26209          13327                     LIMES\n",
       "11       22935          11145      ORGANIC YELLOW ONION\n",
       "12       24964          10411            ORGANIC GARLIC\n",
       "13       45007          10076          ORGANIC ZUCCHINI\n",
       "14       49683           9538            CUCUMBER KIRBY\n",
       "15       28204           8989        ORGANIC FUJI APPLE\n",
       "16        8277           8836  APPLE HONEYCRISP ORGANIC\n",
       "17       39275           8799       ORGANIC BLUEBERRIES\n",
       "18        5876           8412             ORGANIC LEMON\n",
       "19       49235           8389       ORGANIC HALF & HALF"
      ]
     },
     "metadata": {},
     "output_type": "display_data"
    }
   ],
   "source": [
    "\n",
    "\n",
    "# Filtrar solo productos que han sido reordenados (reordered == 1)\n",
    "reordered_products = order_products[order_products['reordered'] == 1]\n",
    "\n",
    "# Contar cuántas veces se han reordenado los productos\n",
    "top_reordered_counts = reordered_products['product_id'].value_counts().head(20)\n",
    "\n",
    "# Crear un DataFrame con los 20 productos más reordenados\n",
    "top_reordered_products = pd.DataFrame({\n",
    "    'product_id': top_reordered_counts.index, \n",
    "    'reorder_count': top_reordered_counts.values\n",
    "})\n",
    "\n",
    "# Unir con los nombres de los productos\n",
    "top_reordered_products = top_reordered_products.merge(products[['product_id', 'product_name']], on='product_id', how='left')\n",
    "\n",
    "# Crear el gráfico de barras horizontales\n",
    "plt.figure(figsize=(12, 6))\n",
    "plt.barh(top_reordered_products['product_name'], top_reordered_products['reorder_count'])\n",
    "\n",
    "# Etiquetas y título\n",
    "plt.xlabel('Número de Recompras')\n",
    "plt.ylabel('Producto')\n",
    "plt.title('Top Productos Más Reordenados')\n",
    "\n",
    "# Invertir el eje Y para que el más pedido esté arriba\n",
    "plt.gca().invert_yaxis()\n",
    "plt.grid(axis='x', linestyle='--', alpha=0.7)\n",
    "\n",
    "# Mostrar el gráfico\n",
    "plt.show()\n",
    "\n",
    "# Mostrar los datos en formato tabla\n",
    "display(top_reordered_products)\n",
    "\n"
   ]
  },
  {
   "cell_type": "code",
   "execution_count": null,
   "id": "possible-change",
   "metadata": {
    "id": "possible-change",
    "scrolled": true
   },
   "outputs": [],
   "source": [
    "\n"
   ]
  },
  {
   "cell_type": "code",
   "execution_count": null,
   "id": "professional-surfing",
   "metadata": {
    "id": "professional-surfing",
    "scrolled": true
   },
   "outputs": [],
   "source": [
    "\n"
   ]
  },
  {
   "cell_type": "code",
   "execution_count": null,
   "id": "48dd3658",
   "metadata": {
    "id": "48dd3658"
   },
   "outputs": [],
   "source": []
  },
  {
   "cell_type": "markdown",
   "id": "80e70c74",
   "metadata": {
    "id": "80e70c74"
   },
   "source": [
    "Escribe aquí tus conclusiones:\n",
    "\n",
    "aca vemos que BANANA, BAG OF ORGANIC BANANAS,ORGANIC STRAWBERRIES son los tres productos que vuelven a pedir siendo la banana el producto lider y es mas solictado por los clientes."
   ]
  },
  {
   "cell_type": "markdown",
   "id": "20182577",
   "metadata": {},
   "source": [
    "<div class=\"alert alert-block alert-success\">\n",
    "<b>Comentario de Revisor v2</b> <a class=\"tocSkip\"></a>\n",
    "\n",
    "Muy bien, correcto\n",
    "    \n",
    "</div>"
   ]
  },
  {
   "cell_type": "markdown",
   "id": "9d312b14",
   "metadata": {
    "id": "9d312b14"
   },
   "source": [
    "### [C3] Para cada producto, ¿cuál es la proporción de las veces que se pide y que se vuelve a pedir?"
   ]
  },
  {
   "cell_type": "code",
   "execution_count": 110,
   "id": "8ae9f4b1",
   "metadata": {
    "id": "8ae9f4b1"
   },
   "outputs": [],
   "source": [
    "# Agrupar por producto\n",
    "reorder_stats = order_products.groupby('product_id').agg(\n",
    "    total_pedidos=('order_id', 'count'),\n",
    "    total_reordenes=('reordered', 'sum')\n",
    ").reset_index()\n",
    "\n",
    "# Calcular proporción de reordenes\n",
    "reorder_stats['proporcion_reorden'] = reorder_stats['total_reordenes'] / reorder_stats['total_pedidos']\n"
   ]
  },
  {
   "cell_type": "code",
   "execution_count": 111,
   "id": "103e7fe1",
   "metadata": {
    "id": "103e7fe1"
   },
   "outputs": [
    {
     "data": {
      "text/html": [
       "<div>\n",
       "<style scoped>\n",
       "    .dataframe tbody tr th:only-of-type {\n",
       "        vertical-align: middle;\n",
       "    }\n",
       "\n",
       "    .dataframe tbody tr th {\n",
       "        vertical-align: top;\n",
       "    }\n",
       "\n",
       "    .dataframe thead th {\n",
       "        text-align: right;\n",
       "    }\n",
       "</style>\n",
       "<table border=\"1\" class=\"dataframe\">\n",
       "  <thead>\n",
       "    <tr style=\"text-align: right;\">\n",
       "      <th></th>\n",
       "      <th>product_id</th>\n",
       "      <th>total_pedidos</th>\n",
       "      <th>total_reordenes</th>\n",
       "      <th>proporcion_reorden</th>\n",
       "      <th>product_name</th>\n",
       "    </tr>\n",
       "  </thead>\n",
       "  <tbody>\n",
       "    <tr>\n",
       "      <th>13453</th>\n",
       "      <td>14721</td>\n",
       "      <td>1</td>\n",
       "      <td>1</td>\n",
       "      <td>1.0</td>\n",
       "      <td>BONE STRENGTH TAKE CARE</td>\n",
       "    </tr>\n",
       "    <tr>\n",
       "      <th>19195</th>\n",
       "      <td>20949</td>\n",
       "      <td>3</td>\n",
       "      <td>3</td>\n",
       "      <td>1.0</td>\n",
       "      <td>VANILLA SANDWICH COOKIES</td>\n",
       "    </tr>\n",
       "    <tr>\n",
       "      <th>6136</th>\n",
       "      <td>6723</td>\n",
       "      <td>10</td>\n",
       "      <td>10</td>\n",
       "      <td>1.0</td>\n",
       "      <td>PALMIERS- PETITE</td>\n",
       "    </tr>\n",
       "    <tr>\n",
       "      <th>6144</th>\n",
       "      <td>6732</td>\n",
       "      <td>3</td>\n",
       "      <td>3</td>\n",
       "      <td>1.0</td>\n",
       "      <td>NATURALLY SPARKLING MINERAL WATER</td>\n",
       "    </tr>\n",
       "    <tr>\n",
       "      <th>41319</th>\n",
       "      <td>45088</td>\n",
       "      <td>1</td>\n",
       "      <td>1</td>\n",
       "      <td>1.0</td>\n",
       "      <td>CALIFORNIA DILL POLLEN &amp; GARLIC GOAT CHEESE &amp; ...</td>\n",
       "    </tr>\n",
       "    <tr>\n",
       "      <th>41310</th>\n",
       "      <td>45078</td>\n",
       "      <td>1</td>\n",
       "      <td>1</td>\n",
       "      <td>1.0</td>\n",
       "      <td>POMEGRANATEA</td>\n",
       "    </tr>\n",
       "    <tr>\n",
       "      <th>19258</th>\n",
       "      <td>21016</td>\n",
       "      <td>1</td>\n",
       "      <td>1</td>\n",
       "      <td>1.0</td>\n",
       "      <td>PARCHMENT LINED 8 IN X 3.75 IN X 2.5 IN PANS</td>\n",
       "    </tr>\n",
       "    <tr>\n",
       "      <th>19248</th>\n",
       "      <td>21005</td>\n",
       "      <td>2</td>\n",
       "      <td>2</td>\n",
       "      <td>1.0</td>\n",
       "      <td>PEANUT BUTTER PIE ICE CREAM</td>\n",
       "    </tr>\n",
       "    <tr>\n",
       "      <th>32273</th>\n",
       "      <td>35192</td>\n",
       "      <td>2</td>\n",
       "      <td>2</td>\n",
       "      <td>1.0</td>\n",
       "      <td>CHOCOLATE SOY MILK SINGLES</td>\n",
       "    </tr>\n",
       "    <tr>\n",
       "      <th>32277</th>\n",
       "      <td>35197</td>\n",
       "      <td>1</td>\n",
       "      <td>1</td>\n",
       "      <td>1.0</td>\n",
       "      <td>MOCHA CHOCOLATE CHIP  ORGANIC NON-DAIRY FROZEN...</td>\n",
       "    </tr>\n",
       "  </tbody>\n",
       "</table>\n",
       "</div>"
      ],
      "text/plain": [
       "       product_id  total_pedidos  total_reordenes  proporcion_reorden  \\\n",
       "13453       14721              1                1                 1.0   \n",
       "19195       20949              3                3                 1.0   \n",
       "6136         6723             10               10                 1.0   \n",
       "6144         6732              3                3                 1.0   \n",
       "41319       45088              1                1                 1.0   \n",
       "41310       45078              1                1                 1.0   \n",
       "19258       21016              1                1                 1.0   \n",
       "19248       21005              2                2                 1.0   \n",
       "32273       35192              2                2                 1.0   \n",
       "32277       35197              1                1                 1.0   \n",
       "\n",
       "                                            product_name  \n",
       "13453                            BONE STRENGTH TAKE CARE  \n",
       "19195                           VANILLA SANDWICH COOKIES  \n",
       "6136                                    PALMIERS- PETITE  \n",
       "6144                   NATURALLY SPARKLING MINERAL WATER  \n",
       "41319  CALIFORNIA DILL POLLEN & GARLIC GOAT CHEESE & ...  \n",
       "41310                                       POMEGRANATEA  \n",
       "19258       PARCHMENT LINED 8 IN X 3.75 IN X 2.5 IN PANS  \n",
       "19248                        PEANUT BUTTER PIE ICE CREAM  \n",
       "32273                         CHOCOLATE SOY MILK SINGLES  \n",
       "32277  MOCHA CHOCOLATE CHIP  ORGANIC NON-DAIRY FROZEN...  "
      ]
     },
     "execution_count": 111,
     "metadata": {},
     "output_type": "execute_result"
    }
   ],
   "source": [
    "# Unir con tabla de productos para ver los nombres\n",
    "reorder_stats = reorder_stats.merge(products[['product_id', 'product_name']], on='product_id', how='left')\n",
    "\n",
    "# Ordenar por los más reordenados\n",
    "reorder_stats.sort_values(by='proporcion_reorden', ascending=False).head(10)"
   ]
  },
  {
   "cell_type": "code",
   "execution_count": 112,
   "id": "social-individual",
   "metadata": {
    "id": "social-individual"
   },
   "outputs": [
    {
     "data": {
      "image/png": "[encoded data removed]",
      "text/plain": [
       "<Figure size 1200x600 with 1 Axes>"
      ]
     },
     "metadata": {},
     "output_type": "display_data"
    }
   ],
   "source": [
    "reorder_filtrados = reorder_stats[reorder_stats['total_pedidos'] >= 50]\n",
    "\n",
    "# Ordenar por proporción de reorden y tomar los 10 mejores\n",
    "top_reorder = reorder_filtrados.sort_values(by='proporcion_reorden', ascending=False).head(10)\n",
    "\n",
    "# Crear la gráfica\n",
    "plt.figure(figsize=(12, 6))\n",
    "plt.barh(top_reorder['product_name'], top_reorder['proporcion_reorden'])\n",
    "plt.xlabel('Proporción de Reorden')\n",
    "plt.title('Top 10 Productos con Mayor Proporción de Reorden (mín. 50 pedidos)')\n",
    "plt.gca().invert_yaxis()  # Para que el producto con mayor proporción esté arriba\n",
    "plt.tight_layout()\n",
    "plt.show()"
   ]
  },
  {
   "cell_type": "markdown",
   "id": "I10dEIAyldcO",
   "metadata": {
    "id": "I10dEIAyldcO"
   },
   "source": [
    "Escribe aquí tus conclusiones:\n",
    "\n",
    "Al analizar la proporción de reorden por producto, se identificaron artículos con alta fidelidad de compra, especialmente aquellos con más de 50 pedidos y una proporción de reorden superior al 80%. Esto indica que los clientes tienden a volver a pedir ciertos productos con frecuencia, lo cual es útil para estrategias de recomendación, marketing y gestión de inventario.\n",
    "\n"
   ]
  },
  {
   "cell_type": "markdown",
   "id": "e2f8c364",
   "metadata": {},
   "source": [
    "<div class=\"alert alert-block alert-success\">\n",
    "<b>Comentario de Revisor v2</b> <a class=\"tocSkip\"></a>\n",
    "\n",
    "Excelente! Muy bien al filtrar los productos con una cantidad grande de pedidos, así evitamos mostrar productos que podrían tener una alta tasa de reorden pero porque tienen muy pocas ordenes (el caso extremo es cuando lo han pedido 2 veces, por lo que tiene tasa de reorden 100%)\n",
    "    \n",
    "</div>"
   ]
  },
  {
   "cell_type": "markdown",
   "id": "subject-boxing",
   "metadata": {
    "id": "subject-boxing"
   },
   "source": [
    "### [C4] Para cada cliente, ¿qué proporción de sus productos ya los había pedido?"
   ]
  },
  {
   "cell_type": "code",
   "execution_count": 129,
   "id": "medical-couple",
   "metadata": {
    "id": "medical-couple",
    "scrolled": true
   },
   "outputs": [
    {
     "data": {
      "text/html": [
       "<div>\n",
       "<style scoped>\n",
       "    .dataframe tbody tr th:only-of-type {\n",
       "        vertical-align: middle;\n",
       "    }\n",
       "\n",
       "    .dataframe tbody tr th {\n",
       "        vertical-align: top;\n",
       "    }\n",
       "\n",
       "    .dataframe thead th {\n",
       "        text-align: right;\n",
       "    }\n",
       "</style>\n",
       "<table border=\"1\" class=\"dataframe\">\n",
       "  <thead>\n",
       "    <tr style=\"text-align: right;\">\n",
       "      <th></th>\n",
       "      <th>user_id</th>\n",
       "      <th>total_productos</th>\n",
       "      <th>productos_reordenados</th>\n",
       "      <th>proporcion_reorden</th>\n",
       "    </tr>\n",
       "  </thead>\n",
       "  <tbody>\n",
       "    <tr>\n",
       "      <th>0</th>\n",
       "      <td>2</td>\n",
       "      <td>26</td>\n",
       "      <td>1</td>\n",
       "      <td>0.038462</td>\n",
       "    </tr>\n",
       "    <tr>\n",
       "      <th>1</th>\n",
       "      <td>4</td>\n",
       "      <td>2</td>\n",
       "      <td>0</td>\n",
       "      <td>0.000000</td>\n",
       "    </tr>\n",
       "    <tr>\n",
       "      <th>2</th>\n",
       "      <td>5</td>\n",
       "      <td>12</td>\n",
       "      <td>8</td>\n",
       "      <td>0.666667</td>\n",
       "    </tr>\n",
       "    <tr>\n",
       "      <th>3</th>\n",
       "      <td>6</td>\n",
       "      <td>4</td>\n",
       "      <td>0</td>\n",
       "      <td>0.000000</td>\n",
       "    </tr>\n",
       "    <tr>\n",
       "      <th>4</th>\n",
       "      <td>7</td>\n",
       "      <td>14</td>\n",
       "      <td>13</td>\n",
       "      <td>0.928571</td>\n",
       "    </tr>\n",
       "    <tr>\n",
       "      <th>...</th>\n",
       "      <td>...</td>\n",
       "      <td>...</td>\n",
       "      <td>...</td>\n",
       "      <td>...</td>\n",
       "    </tr>\n",
       "    <tr>\n",
       "      <th>149621</th>\n",
       "      <td>206203</td>\n",
       "      <td>27</td>\n",
       "      <td>6</td>\n",
       "      <td>0.222222</td>\n",
       "    </tr>\n",
       "    <tr>\n",
       "      <th>149622</th>\n",
       "      <td>206206</td>\n",
       "      <td>21</td>\n",
       "      <td>15</td>\n",
       "      <td>0.714286</td>\n",
       "    </tr>\n",
       "    <tr>\n",
       "      <th>149623</th>\n",
       "      <td>206207</td>\n",
       "      <td>46</td>\n",
       "      <td>41</td>\n",
       "      <td>0.891304</td>\n",
       "    </tr>\n",
       "    <tr>\n",
       "      <th>149624</th>\n",
       "      <td>206208</td>\n",
       "      <td>125</td>\n",
       "      <td>87</td>\n",
       "      <td>0.696000</td>\n",
       "    </tr>\n",
       "    <tr>\n",
       "      <th>149625</th>\n",
       "      <td>206209</td>\n",
       "      <td>25</td>\n",
       "      <td>8</td>\n",
       "      <td>0.320000</td>\n",
       "    </tr>\n",
       "  </tbody>\n",
       "</table>\n",
       "<p>149626 rows × 4 columns</p>\n",
       "</div>"
      ],
      "text/plain": [
       "        user_id  total_productos  productos_reordenados  proporcion_reorden\n",
       "0             2               26                      1            0.038462\n",
       "1             4                2                      0            0.000000\n",
       "2             5               12                      8            0.666667\n",
       "3             6                4                      0            0.000000\n",
       "4             7               14                     13            0.928571\n",
       "...         ...              ...                    ...                 ...\n",
       "149621   206203               27                      6            0.222222\n",
       "149622   206206               21                     15            0.714286\n",
       "149623   206207               46                     41            0.891304\n",
       "149624   206208              125                     87            0.696000\n",
       "149625   206209               25                      8            0.320000\n",
       "\n",
       "[149626 rows x 4 columns]"
      ]
     },
     "metadata": {},
     "output_type": "display_data"
    }
   ],
   "source": [
    "# Unir order_products con instacart_orders para obtener user_id\n",
    "user_products = order_products.merge(instacart_orders[['order_id', 'user_id']], on='order_id', how='left')\n",
    "\n",
    "# Agrupar por usuario y calcular métricas\n",
    "proporcion_reorden_por_usuario = user_products.groupby('user_id').agg(\n",
    "    total_productos=('product_id', 'count'),\n",
    "    productos_reordenados=('reordered', 'sum')\n",
    ").reset_index()\n",
    "\n",
    "# Calcular proporción de reordenados\n",
    "proporcion_reorden_por_usuario['proporcion_reorden'] = (\n",
    "    proporcion_reorden_por_usuario['productos_reordenados'] /\n",
    "    proporcion_reorden_por_usuario['total_productos']\n",
    ")\n",
    "\n",
    "display(proporcion_reorden_por_usuario)"
   ]
  },
  {
   "cell_type": "code",
   "execution_count": 130,
   "id": "8892e4b4",
   "metadata": {
    "id": "8892e4b4"
   },
   "outputs": [
    {
     "data": {
      "image/png": "[encoded data removed]",
      "text/plain": [
       "<Figure size 1000x600 with 1 Axes>"
      ]
     },
     "metadata": {},
     "output_type": "display_data"
    }
   ],
   "source": [
    "import matplotlib.pyplot as plt\n",
    "import seaborn as sns\n",
    "\n",
    "# Estilo de gráficos\n",
    "#sns.set(style='whitegrid')\n",
    "\n",
    "# Crear histograma\n",
    "plt.figure(figsize=(10, 6))\n",
    "sns.histplot(proporcion_reorden_por_usuario['proporcion_reorden'], bins=30)\n",
    "\n",
    "# Títulos y etiquetas\n",
    "plt.title('Distribución de proporción de productos reordenados por cliente', fontsize=14)\n",
    "plt.xlabel('Proporción de productos reordenados')\n",
    "plt.ylabel('Cantidad de clientes')\n",
    "\n",
    "plt.tight_layout()\n",
    "plt.show()\n"
   ]
  },
  {
   "cell_type": "markdown",
   "id": "BgJSvXDsleXz",
   "metadata": {
    "id": "BgJSvXDsleXz"
   },
   "source": [
    "Escribe aquí tus conclusiones\n",
    "\n",
    "La gráfica muestra que los clientes tienen comportamientos variados: muchos no repiten productos, mientras que otros casi siempre compran lo mismo. Esto indica que hay distintos hábitos de compra, desde exploradores hasta compradores muy leales."
   ]
  },
  {
   "cell_type": "markdown",
   "id": "6935ace5",
   "metadata": {},
   "source": [
    "<div class=\"alert alert-block alert-success\">\n",
    "<b>Comentario de Revisor v2</b> <a class=\"tocSkip\"></a>\n",
    "\n",
    "Muy bien, correcto\n",
    "    \n",
    "</div>"
   ]
  },
  {
   "cell_type": "markdown",
   "id": "92d35137",
   "metadata": {
    "id": "92d35137"
   },
   "source": [
    "### [C5] ¿Cuáles son los 20 principales artículos que las personas ponen primero en sus carritos?"
   ]
  },
  {
   "cell_type": "code",
   "execution_count": 132,
   "id": "0ae57274",
   "metadata": {
    "id": "0ae57274",
    "scrolled": true
   },
   "outputs": [
    {
     "data": {
      "text/html": [
       "<div>\n",
       "<style scoped>\n",
       "    .dataframe tbody tr th:only-of-type {\n",
       "        vertical-align: middle;\n",
       "    }\n",
       "\n",
       "    .dataframe tbody tr th {\n",
       "        vertical-align: top;\n",
       "    }\n",
       "\n",
       "    .dataframe thead th {\n",
       "        text-align: right;\n",
       "    }\n",
       "</style>\n",
       "<table border=\"1\" class=\"dataframe\">\n",
       "  <thead>\n",
       "    <tr style=\"text-align: right;\">\n",
       "      <th></th>\n",
       "      <th>product_id</th>\n",
       "      <th>product_name</th>\n",
       "      <th>veces_primero</th>\n",
       "    </tr>\n",
       "  </thead>\n",
       "  <tbody>\n",
       "    <tr>\n",
       "      <th>0</th>\n",
       "      <td>24852</td>\n",
       "      <td>BANANA</td>\n",
       "      <td>15562</td>\n",
       "    </tr>\n",
       "    <tr>\n",
       "      <th>1</th>\n",
       "      <td>13176</td>\n",
       "      <td>BAG OF ORGANIC BANANAS</td>\n",
       "      <td>11026</td>\n",
       "    </tr>\n",
       "    <tr>\n",
       "      <th>2</th>\n",
       "      <td>27845</td>\n",
       "      <td>ORGANIC WHOLE MILK</td>\n",
       "      <td>4363</td>\n",
       "    </tr>\n",
       "    <tr>\n",
       "      <th>3</th>\n",
       "      <td>21137</td>\n",
       "      <td>ORGANIC STRAWBERRIES</td>\n",
       "      <td>3946</td>\n",
       "    </tr>\n",
       "    <tr>\n",
       "      <th>4</th>\n",
       "      <td>47209</td>\n",
       "      <td>ORGANIC HASS AVOCADO</td>\n",
       "      <td>3390</td>\n",
       "    </tr>\n",
       "    <tr>\n",
       "      <th>5</th>\n",
       "      <td>21903</td>\n",
       "      <td>ORGANIC BABY SPINACH</td>\n",
       "      <td>3336</td>\n",
       "    </tr>\n",
       "    <tr>\n",
       "      <th>6</th>\n",
       "      <td>47766</td>\n",
       "      <td>ORGANIC AVOCADO</td>\n",
       "      <td>3044</td>\n",
       "    </tr>\n",
       "    <tr>\n",
       "      <th>7</th>\n",
       "      <td>19660</td>\n",
       "      <td>SPRING WATER</td>\n",
       "      <td>2336</td>\n",
       "    </tr>\n",
       "    <tr>\n",
       "      <th>8</th>\n",
       "      <td>16797</td>\n",
       "      <td>STRAWBERRIES</td>\n",
       "      <td>2308</td>\n",
       "    </tr>\n",
       "    <tr>\n",
       "      <th>9</th>\n",
       "      <td>27966</td>\n",
       "      <td>ORGANIC RASPBERRIES</td>\n",
       "      <td>2024</td>\n",
       "    </tr>\n",
       "    <tr>\n",
       "      <th>10</th>\n",
       "      <td>44632</td>\n",
       "      <td>SPARKLING WATER GRAPEFRUIT</td>\n",
       "      <td>1914</td>\n",
       "    </tr>\n",
       "    <tr>\n",
       "      <th>11</th>\n",
       "      <td>49235</td>\n",
       "      <td>ORGANIC HALF &amp; HALF</td>\n",
       "      <td>1797</td>\n",
       "    </tr>\n",
       "    <tr>\n",
       "      <th>12</th>\n",
       "      <td>47626</td>\n",
       "      <td>LARGE LEMON</td>\n",
       "      <td>1737</td>\n",
       "    </tr>\n",
       "    <tr>\n",
       "      <th>13</th>\n",
       "      <td>196</td>\n",
       "      <td>SODA</td>\n",
       "      <td>1733</td>\n",
       "    </tr>\n",
       "    <tr>\n",
       "      <th>14</th>\n",
       "      <td>38689</td>\n",
       "      <td>ORGANIC REDUCED FAT MILK</td>\n",
       "      <td>1397</td>\n",
       "    </tr>\n",
       "    <tr>\n",
       "      <th>15</th>\n",
       "      <td>26209</td>\n",
       "      <td>LIMES</td>\n",
       "      <td>1370</td>\n",
       "    </tr>\n",
       "    <tr>\n",
       "      <th>16</th>\n",
       "      <td>12341</td>\n",
       "      <td>HASS AVOCADOS</td>\n",
       "      <td>1340</td>\n",
       "    </tr>\n",
       "    <tr>\n",
       "      <th>17</th>\n",
       "      <td>5785</td>\n",
       "      <td>ORGANIC REDUCED FAT 2% MILK</td>\n",
       "      <td>1310</td>\n",
       "    </tr>\n",
       "    <tr>\n",
       "      <th>18</th>\n",
       "      <td>27086</td>\n",
       "      <td>HALF &amp; HALF</td>\n",
       "      <td>1309</td>\n",
       "    </tr>\n",
       "    <tr>\n",
       "      <th>19</th>\n",
       "      <td>43352</td>\n",
       "      <td>RASPBERRIES</td>\n",
       "      <td>1246</td>\n",
       "    </tr>\n",
       "  </tbody>\n",
       "</table>\n",
       "</div>"
      ],
      "text/plain": [
       "    product_id                 product_name  veces_primero\n",
       "0        24852                       BANANA          15562\n",
       "1        13176       BAG OF ORGANIC BANANAS          11026\n",
       "2        27845           ORGANIC WHOLE MILK           4363\n",
       "3        21137         ORGANIC STRAWBERRIES           3946\n",
       "4        47209         ORGANIC HASS AVOCADO           3390\n",
       "5        21903         ORGANIC BABY SPINACH           3336\n",
       "6        47766              ORGANIC AVOCADO           3044\n",
       "7        19660                 SPRING WATER           2336\n",
       "8        16797                 STRAWBERRIES           2308\n",
       "9        27966          ORGANIC RASPBERRIES           2024\n",
       "10       44632   SPARKLING WATER GRAPEFRUIT           1914\n",
       "11       49235          ORGANIC HALF & HALF           1797\n",
       "12       47626                  LARGE LEMON           1737\n",
       "13         196                         SODA           1733\n",
       "14       38689     ORGANIC REDUCED FAT MILK           1397\n",
       "15       26209                        LIMES           1370\n",
       "16       12341                HASS AVOCADOS           1340\n",
       "17        5785  ORGANIC REDUCED FAT 2% MILK           1310\n",
       "18       27086                  HALF & HALF           1309\n",
       "19       43352                  RASPBERRIES           1246"
      ]
     },
     "metadata": {},
     "output_type": "display_data"
    }
   ],
   "source": [
    "# Filtrar los productos que fueron agregados como primeros en el carrito\n",
    "primeros_productos = order_products[order_products['add_to_cart_order'] == 1]\n",
    "\n",
    "# Contar cuántas veces cada producto fue el primero en el carrito\n",
    "top_20_primeros = primeros_productos.groupby('product_id').size().reset_index(name='veces_primero')\n",
    "top_20_primeros = top_20_primeros.sort_values(by='veces_primero', ascending=False).head(20)\n",
    "\n",
    "# Unir con la tabla de productos para obtener el nombre\n",
    "top_20_primeros = top_20_primeros.merge(products[['product_id', 'product_name']], on='product_id', how='left')\n",
    "\n",
    "# Mostrar los 20 productos más comunes como primeros en el carrito\n",
    "display(top_20_primeros[['product_id', 'product_name', 'veces_primero']])\n"
   ]
  },
  {
   "cell_type": "code",
   "execution_count": 138,
   "id": "forty-netherlands",
   "metadata": {
    "id": "forty-netherlands",
    "scrolled": true
   },
   "outputs": [
    {
     "data": {
      "image/png": "[encoded data removed]",
      "text/plain": [
       "<Figure size 1200x600 with 1 Axes>"
      ]
     },
     "metadata": {},
     "output_type": "display_data"
    }
   ],
   "source": [
    "data = {\n",
    "    'product_id': [\n",
    "        24852, 13176, 27845, 21137, 47209, 21903, 47766, 19660, 16797, 27966,\n",
    "        44632, 49235, 47626, 196, 38689, 26209, 12341, 5785, 27086, 43352\n",
    "    ],\n",
    "    'product_name': [\n",
    "        'BANANA', 'BAG OF ORGANIC BANANAS', 'ORGANIC WHOLE MILK', 'ORGANIC STRAWBERRIES', \n",
    "        'ORGANIC HASS AVOCADO', 'ORGANIC BABY SPINACH', 'ORGANIC AVOCADO', 'SPRING WATER', \n",
    "        'STRAWBERRIES', 'ORGANIC RASPBERRIES', 'SPARKLING WATER GRAPEFRUIT', \n",
    "        'ORGANIC HALF & HALF', 'LARGE LEMON', 'SODA', 'ORGANIC REDUCED FAT MILK', \n",
    "        'LIMES', 'HASS AVOCADOS', 'ORGANIC REDUCED FAT 2% MILK', 'HALF & HALF', 'RASPBERRIES'\n",
    "    ],\n",
    "    'veces_primero': [\n",
    "        15562, 11026, 4363, 3946, 3390, 3336, 3044, 2336, 2308, 2024,\n",
    "        1914, 1797, 1737, 1733, 1397, 1370, 1340, 1310, 1309, 1246\n",
    "    ]\n",
    "}\n",
    "\n",
    "df = pd.DataFrame(data)\n",
    "\n",
    "\n",
    "\n",
    "# Gráfico de Barras\n",
    "plt.figure(figsize=(12, 6))\n",
    "sns.barplot(data=df, x='veces_primero', y='product_name')\n",
    "plt.title('Top 20 productos que los usuarios agregan primero al carrito')\n",
    "plt.xlabel('Veces agregado como primero')\n",
    "plt.ylabel('Producto')\n",
    "plt.tight_layout()\n",
    "plt.show()"
   ]
  },
  {
   "cell_type": "markdown",
   "id": "0a27d367",
   "metadata": {
    "id": "08e41ec2"
   },
   "source": [
    "<div class=\"alert alert-block alert-success\">\n",
    "<b>Comentario de Revisor v2</b> <a class=\"tocSkip\"></a>\n",
    "\n",
    "Muy bien, correcto\n",
    "    \n",
    "</div>"
   ]
  },
  {
   "cell_type": "markdown",
   "id": "28ce9872",
   "metadata": {
    "id": "28ce9872"
   },
   "source": [
    "Escribe aquí tus conclusiones"
   ]
  },
  {
   "cell_type": "markdown",
   "id": "uITbFCEoDosC",
   "metadata": {
    "id": "uITbFCEoDosC"
   },
   "source": [
    "### Conclusion general del proyecto:"
   ]
  },
  {
   "cell_type": "code",
   "execution_count": null,
   "id": "Nk-4GS7mDwqY",
   "metadata": {
    "id": "Nk-4GS7mDwqY"
   },
   "outputs": [],
   "source": []
  }
 ],
 "metadata": {
  "ExecuteTimeLog": [
   {
    "duration": 2176,
    "start_time": "2025-03-29T17:19:52.228Z"
   },
   {
    "duration": 552,
    "start_time": "2025-03-29T17:19:57.971Z"
   },
   {
    "duration": 2205,
    "start_time": "2025-03-29T17:21:45.544Z"
   },
   {
    "duration": 3,
    "start_time": "2025-03-29T17:21:51.754Z"
   },
   {
    "duration": 2124,
    "start_time": "2025-03-29T17:21:54.208Z"
   },
   {
    "duration": 2,
    "start_time": "2025-03-29T17:22:01.255Z"
   },
   {
    "duration": 2198,
    "start_time": "2025-03-29T17:22:03.239Z"
   },
   {
    "duration": 21,
    "start_time": "2025-03-29T17:25:06.157Z"
   },
   {
    "duration": 12,
    "start_time": "2025-03-29T17:25:12.044Z"
   },
   {
    "duration": 8,
    "start_time": "2025-03-29T17:25:16.964Z"
   },
   {
    "duration": 8,
    "start_time": "2025-03-29T17:25:20.470Z"
   },
   {
    "duration": 6,
    "start_time": "2025-03-29T17:25:23.046Z"
   },
   {
    "duration": 7,
    "start_time": "2025-03-29T17:32:27.195Z"
   },
   {
    "duration": 2115,
    "start_time": "2025-03-29T17:43:48.161Z"
   },
   {
    "duration": 20,
    "start_time": "2025-03-29T17:43:50.278Z"
   },
   {
    "duration": 9,
    "start_time": "2025-03-29T17:43:50.687Z"
   },
   {
    "duration": 7,
    "start_time": "2025-03-29T17:43:51.621Z"
   },
   {
    "duration": 7,
    "start_time": "2025-03-29T17:43:52.380Z"
   },
   {
    "duration": 6,
    "start_time": "2025-03-29T17:43:53.205Z"
   },
   {
    "duration": 172,
    "start_time": "2025-03-29T17:44:15.575Z"
   },
   {
    "duration": 12,
    "start_time": "2025-03-29T18:04:01.845Z"
   },
   {
    "duration": 424,
    "start_time": "2025-03-29T18:04:22.916Z"
   },
   {
    "duration": 38,
    "start_time": "2025-03-29T18:06:38.712Z"
   },
   {
    "duration": 39,
    "start_time": "2025-03-29T18:07:02.806Z"
   },
   {
    "duration": 5,
    "start_time": "2025-03-29T18:08:56.079Z"
   },
   {
    "duration": 40,
    "start_time": "2025-03-29T18:09:04.721Z"
   },
   {
    "duration": 42,
    "start_time": "2025-03-29T18:11:45.457Z"
   },
   {
    "duration": 54,
    "start_time": "2025-03-29T18:12:07.039Z"
   },
   {
    "duration": 2,
    "start_time": "2025-03-29T18:12:20.576Z"
   },
   {
    "duration": 12,
    "start_time": "2025-03-29T18:14:37.179Z"
   },
   {
    "duration": 174,
    "start_time": "2025-03-29T18:14:47.754Z"
   },
   {
    "duration": 186,
    "start_time": "2025-03-29T18:15:08.031Z"
   },
   {
    "duration": 155,
    "start_time": "2025-03-30T14:39:19.336Z"
   },
   {
    "duration": 11,
    "start_time": "2025-03-30T14:39:34.525Z"
   },
   {
    "duration": 13,
    "start_time": "2025-03-30T14:39:52.375Z"
   },
   {
    "duration": 11,
    "start_time": "2025-03-30T14:39:57.128Z"
   },
   {
    "duration": 275,
    "start_time": "2025-03-30T14:40:05.307Z"
   },
   {
    "duration": 2295,
    "start_time": "2025-03-30T14:40:07.998Z"
   },
   {
    "duration": 21,
    "start_time": "2025-03-30T14:40:11.396Z"
   },
   {
    "duration": 9,
    "start_time": "2025-03-30T14:40:16.334Z"
   },
   {
    "duration": 9,
    "start_time": "2025-03-30T14:40:17.733Z"
   },
   {
    "duration": 9,
    "start_time": "2025-03-30T14:40:19.972Z"
   },
   {
    "duration": 7,
    "start_time": "2025-03-30T14:40:20.879Z"
   },
   {
    "duration": 126,
    "start_time": "2025-03-30T14:40:28.108Z"
   },
   {
    "duration": 189,
    "start_time": "2025-03-30T14:40:49.938Z"
   },
   {
    "duration": 442,
    "start_time": "2025-03-30T14:44:47.027Z"
   },
   {
    "duration": 40,
    "start_time": "2025-03-30T14:45:46.153Z"
   },
   {
    "duration": 183,
    "start_time": "2025-03-30T14:49:06.951Z"
   },
   {
    "duration": 39,
    "start_time": "2025-03-30T14:51:17.330Z"
   },
   {
    "duration": 188,
    "start_time": "2025-03-30T14:51:29.249Z"
   },
   {
    "duration": 4,
    "start_time": "2025-03-30T14:52:05.754Z"
   },
   {
    "duration": 208,
    "start_time": "2025-03-30T14:52:16.960Z"
   },
   {
    "duration": 204,
    "start_time": "2025-03-30T14:52:21.023Z"
   },
   {
    "duration": 3,
    "start_time": "2025-03-30T14:55:30.782Z"
   },
   {
    "duration": 2183,
    "start_time": "2025-03-30T14:58:41.629Z"
   },
   {
    "duration": 23,
    "start_time": "2025-03-30T14:58:51.380Z"
   },
   {
    "duration": 9,
    "start_time": "2025-03-30T14:58:53.826Z"
   },
   {
    "duration": 8,
    "start_time": "2025-03-30T14:58:54.590Z"
   },
   {
    "duration": 8,
    "start_time": "2025-03-30T14:58:56.567Z"
   },
   {
    "duration": 128,
    "start_time": "2025-03-30T14:58:58.315Z"
   },
   {
    "duration": 184,
    "start_time": "2025-03-30T14:59:09.158Z"
   },
   {
    "duration": 193,
    "start_time": "2025-03-30T15:00:21.947Z"
   },
   {
    "duration": 185,
    "start_time": "2025-03-30T15:00:33.055Z"
   },
   {
    "duration": 42,
    "start_time": "2025-03-30T15:03:31.975Z"
   },
   {
    "duration": 4,
    "start_time": "2025-03-30T15:04:16.615Z"
   },
   {
    "duration": 191,
    "start_time": "2025-03-30T15:04:26.688Z"
   },
   {
    "duration": 196,
    "start_time": "2025-03-30T15:04:27.374Z"
   },
   {
    "duration": 3,
    "start_time": "2025-03-30T15:05:13.641Z"
   },
   {
    "duration": 3,
    "start_time": "2025-03-30T15:06:57.277Z"
   },
   {
    "duration": 4,
    "start_time": "2025-03-30T15:07:41.991Z"
   },
   {
    "duration": 23,
    "start_time": "2025-03-30T15:10:27.828Z"
   },
   {
    "duration": 182,
    "start_time": "2025-03-30T15:10:54.883Z"
   },
   {
    "duration": 3,
    "start_time": "2025-03-30T15:11:12.769Z"
   },
   {
    "duration": 207,
    "start_time": "2025-03-30T15:11:15.601Z"
   },
   {
    "duration": 3,
    "start_time": "2025-03-30T15:12:14.445Z"
   },
   {
    "duration": 3,
    "start_time": "2025-03-30T15:12:19.599Z"
   },
   {
    "duration": 183,
    "start_time": "2025-03-30T15:12:24.163Z"
   },
   {
    "duration": 203,
    "start_time": "2025-03-30T15:12:47.435Z"
   },
   {
    "duration": 201,
    "start_time": "2025-03-30T15:12:49.964Z"
   },
   {
    "duration": 7,
    "start_time": "2025-03-30T15:14:02.953Z"
   },
   {
    "duration": 4,
    "start_time": "2025-03-30T15:14:28.387Z"
   },
   {
    "duration": 4,
    "start_time": "2025-03-30T15:15:24.142Z"
   },
   {
    "duration": 11,
    "start_time": "2025-03-30T15:19:25.817Z"
   },
   {
    "duration": 12,
    "start_time": "2025-03-30T15:19:49.541Z"
   },
   {
    "duration": 23,
    "start_time": "2025-03-30T15:20:34.003Z"
   },
   {
    "duration": 3,
    "start_time": "2025-03-30T15:22:41.350Z"
   },
   {
    "duration": 12,
    "start_time": "2025-03-30T15:25:19.644Z"
   },
   {
    "duration": 14,
    "start_time": "2025-03-30T15:25:53.208Z"
   },
   {
    "duration": 27,
    "start_time": "2025-03-30T15:26:37.990Z"
   },
   {
    "duration": 2,
    "start_time": "2025-03-30T15:27:24.541Z"
   },
   {
    "duration": 38,
    "start_time": "2025-03-30T15:31:20.293Z"
   },
   {
    "duration": 2,
    "start_time": "2025-03-30T15:31:29.787Z"
   },
   {
    "duration": 12,
    "start_time": "2025-03-30T17:25:39.533Z"
   },
   {
    "duration": 14,
    "start_time": "2025-03-30T17:26:11.013Z"
   },
   {
    "duration": 42,
    "start_time": "2025-03-30T17:28:53.821Z"
   },
   {
    "duration": 20,
    "start_time": "2025-03-30T17:31:47.437Z"
   },
   {
    "duration": 23,
    "start_time": "2025-03-30T17:35:09.287Z"
   },
   {
    "duration": 22,
    "start_time": "2025-03-30T17:37:14.741Z"
   },
   {
    "duration": 24,
    "start_time": "2025-03-30T17:40:23.729Z"
   },
   {
    "duration": 4,
    "start_time": "2025-03-30T17:40:40.215Z"
   },
   {
    "duration": 43,
    "start_time": "2025-03-30T17:44:06.787Z"
   },
   {
    "duration": 1127,
    "start_time": "2025-03-30T17:52:32.940Z"
   },
   {
    "duration": 11,
    "start_time": "2025-03-30T17:52:34.278Z"
   },
   {
    "duration": 11,
    "start_time": "2025-03-30T17:52:39.434Z"
   },
   {
    "duration": 9,
    "start_time": "2025-03-30T17:52:40.440Z"
   },
   {
    "duration": 7,
    "start_time": "2025-03-30T17:52:41.232Z"
   },
   {
    "duration": 36,
    "start_time": "2025-03-30T17:52:41.933Z"
   },
   {
    "duration": 86,
    "start_time": "2025-03-30T17:52:55.318Z"
   },
   {
    "duration": 16,
    "start_time": "2025-03-30T17:53:12.337Z"
   },
   {
    "duration": 8,
    "start_time": "2025-03-30T17:53:54.882Z"
   },
   {
    "duration": 13,
    "start_time": "2025-03-30T17:54:15.179Z"
   },
   {
    "duration": 102,
    "start_time": "2025-03-30T17:57:32.337Z"
   },
   {
    "duration": 217,
    "start_time": "2025-03-30T17:57:35.217Z"
   },
   {
    "duration": 51,
    "start_time": "2025-03-30T17:57:45.383Z"
   },
   {
    "duration": 13,
    "start_time": "2025-03-30T17:58:25.895Z"
   },
   {
    "duration": 5,
    "start_time": "2025-03-30T17:58:36.740Z"
   },
   {
    "duration": 15,
    "start_time": "2025-03-30T17:59:15.428Z"
   },
   {
    "duration": 28,
    "start_time": "2025-03-30T18:01:19.175Z"
   },
   {
    "duration": 16,
    "start_time": "2025-03-30T18:01:57.674Z"
   },
   {
    "duration": 18,
    "start_time": "2025-03-30T18:03:50.793Z"
   },
   {
    "duration": 22,
    "start_time": "2025-03-30T18:05:55.439Z"
   },
   {
    "duration": 34,
    "start_time": "2025-03-30T18:06:07.512Z"
   },
   {
    "duration": 29,
    "start_time": "2025-03-30T18:06:35.170Z"
   },
   {
    "duration": 15,
    "start_time": "2025-03-30T18:12:22.286Z"
   },
   {
    "duration": 5,
    "start_time": "2025-03-30T18:15:46.213Z"
   },
   {
    "duration": 18,
    "start_time": "2025-03-30T18:16:36.863Z"
   },
   {
    "duration": 4,
    "start_time": "2025-03-30T18:18:52.157Z"
   },
   {
    "duration": 79,
    "start_time": "2025-03-30T18:21:07.836Z"
   },
   {
    "duration": 3,
    "start_time": "2025-03-30T18:22:31.832Z"
   },
   {
    "duration": 848,
    "start_time": "2025-03-30T18:23:29.135Z"
   },
   {
    "duration": 9,
    "start_time": "2025-03-30T18:23:30.546Z"
   },
   {
    "duration": 11,
    "start_time": "2025-03-30T18:23:31.567Z"
   },
   {
    "duration": 8,
    "start_time": "2025-03-30T18:23:32.463Z"
   },
   {
    "duration": 8,
    "start_time": "2025-03-30T18:23:33.208Z"
   },
   {
    "duration": 21,
    "start_time": "2025-03-30T18:23:33.903Z"
   },
   {
    "duration": 4,
    "start_time": "2025-03-30T18:23:51.746Z"
   },
   {
    "duration": 3,
    "start_time": "2025-03-30T18:25:12.860Z"
   },
   {
    "duration": 3,
    "start_time": "2025-03-30T18:28:10.847Z"
   },
   {
    "duration": 4,
    "start_time": "2025-03-30T18:28:33.681Z"
   },
   {
    "duration": 4,
    "start_time": "2025-03-30T18:28:38.984Z"
   },
   {
    "duration": 4,
    "start_time": "2025-03-30T18:30:19.825Z"
   },
   {
    "duration": 847,
    "start_time": "2025-03-30T18:31:37.642Z"
   },
   {
    "duration": 825,
    "start_time": "2025-03-30T18:33:21.917Z"
   },
   {
    "duration": 7,
    "start_time": "2025-03-30T18:37:48.136Z"
   },
   {
    "duration": 16,
    "start_time": "2025-03-30T18:52:21.929Z"
   },
   {
    "duration": 2,
    "start_time": "2025-03-30T18:53:27.849Z"
   },
   {
    "duration": 8,
    "start_time": "2025-03-30T18:54:53.875Z"
   },
   {
    "duration": 8,
    "start_time": "2025-03-30T18:59:06.597Z"
   },
   {
    "duration": 9,
    "start_time": "2025-03-30T18:59:23.476Z"
   },
   {
    "duration": 4,
    "start_time": "2025-03-30T19:08:16.382Z"
   },
   {
    "duration": 3,
    "start_time": "2025-03-30T19:14:11.097Z"
   },
   {
    "duration": 4,
    "start_time": "2025-03-30T19:16:36.859Z"
   },
   {
    "duration": 5,
    "start_time": "2025-03-30T19:19:41.705Z"
   },
   {
    "duration": 4,
    "start_time": "2025-03-30T19:20:38.681Z"
   },
   {
    "duration": 39,
    "start_time": "2025-03-30T19:23:47.424Z"
   },
   {
    "duration": 11,
    "start_time": "2025-03-30T19:24:43.231Z"
   },
   {
    "duration": 23,
    "start_time": "2025-03-30T19:25:55.903Z"
   },
   {
    "duration": 818,
    "start_time": "2025-03-30T19:27:58.733Z"
   },
   {
    "duration": 11,
    "start_time": "2025-03-30T19:28:01.437Z"
   },
   {
    "duration": 12,
    "start_time": "2025-03-30T19:28:02.380Z"
   },
   {
    "duration": 9,
    "start_time": "2025-03-30T19:28:03.453Z"
   },
   {
    "duration": 9,
    "start_time": "2025-03-30T19:28:06.061Z"
   },
   {
    "duration": 23,
    "start_time": "2025-03-30T19:28:07.114Z"
   },
   {
    "duration": 77,
    "start_time": "2025-03-30T19:28:14.557Z"
   },
   {
    "duration": 9,
    "start_time": "2025-03-30T19:28:26.718Z"
   },
   {
    "duration": 80,
    "start_time": "2025-03-30T19:28:37.608Z"
   },
   {
    "duration": 150,
    "start_time": "2025-03-30T19:28:38.898Z"
   },
   {
    "duration": 35,
    "start_time": "2025-03-30T19:28:40.305Z"
   },
   {
    "duration": 14,
    "start_time": "2025-03-30T19:28:51.288Z"
   },
   {
    "duration": 5,
    "start_time": "2025-03-30T19:28:54.398Z"
   },
   {
    "duration": 14,
    "start_time": "2025-03-30T19:29:01.934Z"
   },
   {
    "duration": 3,
    "start_time": "2025-03-30T19:29:11.117Z"
   },
   {
    "duration": 4,
    "start_time": "2025-03-30T19:29:12.321Z"
   },
   {
    "duration": 4,
    "start_time": "2025-03-30T19:29:20.615Z"
   },
   {
    "duration": 4,
    "start_time": "2025-03-30T19:29:21.595Z"
   },
   {
    "duration": 700,
    "start_time": "2025-03-30T19:29:27.246Z"
   },
   {
    "duration": 691,
    "start_time": "2025-03-30T19:29:30.723Z"
   },
   {
    "duration": 8,
    "start_time": "2025-03-30T19:29:37.468Z"
   },
   {
    "duration": 9,
    "start_time": "2025-03-30T19:30:18.329Z"
   },
   {
    "duration": 5,
    "start_time": "2025-03-30T19:30:30.170Z"
   },
   {
    "duration": 2,
    "start_time": "2025-03-30T19:30:33.045Z"
   },
   {
    "duration": 3,
    "start_time": "2025-03-30T19:30:33.730Z"
   },
   {
    "duration": 4,
    "start_time": "2025-03-30T19:30:40.094Z"
   },
   {
    "duration": 4,
    "start_time": "2025-03-30T19:30:43.006Z"
   },
   {
    "duration": 4,
    "start_time": "2025-03-30T19:30:48.644Z"
   },
   {
    "duration": 4,
    "start_time": "2025-03-30T19:30:49.356Z"
   },
   {
    "duration": 683,
    "start_time": "2025-03-30T19:30:53.370Z"
   },
   {
    "duration": 669,
    "start_time": "2025-03-30T19:30:54.055Z"
   },
   {
    "duration": 8,
    "start_time": "2025-03-30T19:31:02.364Z"
   },
   {
    "duration": 10,
    "start_time": "2025-03-30T19:31:17.831Z"
   },
   {
    "duration": 4,
    "start_time": "2025-03-30T19:31:23.581Z"
   },
   {
    "duration": 5,
    "start_time": "2025-03-30T19:31:33.066Z"
   },
   {
    "duration": 12,
    "start_time": "2025-03-30T19:31:38.005Z"
   },
   {
    "duration": 17,
    "start_time": "2025-03-30T19:32:11.617Z"
   },
   {
    "duration": 804,
    "start_time": "2025-03-30T19:35:54.389Z"
   },
   {
    "duration": 10,
    "start_time": "2025-03-30T19:35:59.418Z"
   },
   {
    "duration": 5,
    "start_time": "2025-03-30T19:36:49.683Z"
   },
   {
    "duration": 2,
    "start_time": "2025-03-30T19:36:55.152Z"
   },
   {
    "duration": 12,
    "start_time": "2025-03-30T19:37:32.757Z"
   },
   {
    "duration": 8,
    "start_time": "2025-03-30T19:37:39.868Z"
   },
   {
    "duration": 6,
    "start_time": "2025-03-30T19:38:19.483Z"
   },
   {
    "duration": 7,
    "start_time": "2025-03-30T19:41:14.538Z"
   },
   {
    "duration": 2,
    "start_time": "2025-03-30T19:42:34.072Z"
   },
   {
    "duration": 15,
    "start_time": "2025-03-30T19:44:20.788Z"
   },
   {
    "duration": 2,
    "start_time": "2025-03-30T19:46:25.822Z"
   },
   {
    "duration": 40,
    "start_time": "2025-03-30T19:47:48.070Z"
   },
   {
    "duration": 21,
    "start_time": "2025-03-30T19:53:42.297Z"
   },
   {
    "duration": 23,
    "start_time": "2025-03-30T19:54:52.037Z"
   },
   {
    "duration": 21,
    "start_time": "2025-03-30T19:55:33.963Z"
   },
   {
    "duration": 2,
    "start_time": "2025-03-30T19:57:01.473Z"
   },
   {
    "duration": 9,
    "start_time": "2025-03-30T20:02:26.086Z"
   },
   {
    "duration": 2,
    "start_time": "2025-03-30T20:03:05.599Z"
   },
   {
    "duration": 23,
    "start_time": "2025-03-30T20:03:46.277Z"
   },
   {
    "duration": 24,
    "start_time": "2025-03-30T20:04:54.139Z"
   },
   {
    "duration": 27,
    "start_time": "2025-03-30T20:06:11.780Z"
   },
   {
    "duration": 8,
    "start_time": "2025-03-30T20:07:50.286Z"
   },
   {
    "duration": 7,
    "start_time": "2025-03-30T20:11:20.576Z"
   },
   {
    "duration": 11,
    "start_time": "2025-03-30T20:16:57.425Z"
   },
   {
    "duration": 10,
    "start_time": "2025-03-30T20:17:46.730Z"
   },
   {
    "duration": 247,
    "start_time": "2025-03-30T20:24:15.046Z"
   },
   {
    "duration": 288,
    "start_time": "2025-03-30T20:29:31.564Z"
   },
   {
    "duration": 23,
    "start_time": "2025-03-30T20:30:48.306Z"
   },
   {
    "duration": 39,
    "start_time": "2025-03-30T20:39:15.013Z"
   },
   {
    "duration": 10,
    "start_time": "2025-03-30T20:39:32.273Z"
   },
   {
    "duration": 5,
    "start_time": "2025-03-30T20:40:23.771Z"
   },
   {
    "duration": 10,
    "start_time": "2025-03-30T20:40:56.621Z"
   },
   {
    "duration": 9,
    "start_time": "2025-03-30T20:41:15.493Z"
   },
   {
    "duration": 10,
    "start_time": "2025-03-30T20:42:58.515Z"
   },
   {
    "duration": 5,
    "start_time": "2025-03-30T20:47:37.677Z"
   },
   {
    "duration": 1816,
    "start_time": "2025-03-30T20:47:51.450Z"
   },
   {
    "duration": 816,
    "start_time": "2025-03-30T20:47:56.229Z"
   },
   {
    "duration": 95,
    "start_time": "2025-03-30T20:52:00.508Z"
   },
   {
    "duration": 116,
    "start_time": "2025-03-30T20:55:38.447Z"
   },
   {
    "duration": 5,
    "start_time": "2025-03-30T21:02:31.906Z"
   },
   {
    "duration": 5,
    "start_time": "2025-03-30T21:05:37.108Z"
   },
   {
    "duration": 2192,
    "start_time": "2025-03-30T21:06:58.332Z"
   },
   {
    "duration": 1579,
    "start_time": "2025-03-30T21:13:39.670Z"
   },
   {
    "duration": 1617,
    "start_time": "2025-03-30T21:13:55.994Z"
   },
   {
    "duration": 1674,
    "start_time": "2025-03-30T21:17:30.816Z"
   },
   {
    "duration": 2215,
    "start_time": "2025-03-31T12:56:43.095Z"
   },
   {
    "duration": 1025,
    "start_time": "2025-03-31T12:56:45.313Z"
   },
   {
    "duration": 11,
    "start_time": "2025-03-31T12:56:46.340Z"
   },
   {
    "duration": 9,
    "start_time": "2025-03-31T12:56:46.354Z"
   },
   {
    "duration": 25,
    "start_time": "2025-03-31T12:56:46.364Z"
   },
   {
    "duration": 8,
    "start_time": "2025-03-31T12:56:46.391Z"
   },
   {
    "duration": 24,
    "start_time": "2025-03-31T12:56:46.401Z"
   },
   {
    "duration": 112,
    "start_time": "2025-03-31T12:56:46.427Z"
   },
   {
    "duration": 9,
    "start_time": "2025-03-31T12:56:46.541Z"
   },
   {
    "duration": 106,
    "start_time": "2025-03-31T12:56:46.553Z"
   },
   {
    "duration": 187,
    "start_time": "2025-03-31T12:56:46.661Z"
   },
   {
    "duration": 0,
    "start_time": "2025-03-31T12:56:46.850Z"
   },
   {
    "duration": 0,
    "start_time": "2025-03-31T12:56:46.851Z"
   },
   {
    "duration": 0,
    "start_time": "2025-03-31T12:56:46.853Z"
   },
   {
    "duration": 0,
    "start_time": "2025-03-31T12:56:46.854Z"
   },
   {
    "duration": 0,
    "start_time": "2025-03-31T12:56:46.855Z"
   },
   {
    "duration": 12,
    "start_time": "2025-03-31T12:58:16.503Z"
   },
   {
    "duration": 0,
    "start_time": "2025-03-31T12:58:16.517Z"
   },
   {
    "duration": 0,
    "start_time": "2025-03-31T12:58:16.518Z"
   },
   {
    "duration": 0,
    "start_time": "2025-03-31T12:58:16.519Z"
   },
   {
    "duration": 0,
    "start_time": "2025-03-31T12:58:16.521Z"
   },
   {
    "duration": 0,
    "start_time": "2025-03-31T12:58:16.522Z"
   },
   {
    "duration": 4,
    "start_time": "2025-03-31T12:58:16.532Z"
   },
   {
    "duration": 4,
    "start_time": "2025-03-31T12:58:16.538Z"
   },
   {
    "duration": 4,
    "start_time": "2025-03-31T12:58:16.544Z"
   },
   {
    "duration": 3,
    "start_time": "2025-03-31T12:58:16.550Z"
   },
   {
    "duration": 863,
    "start_time": "2025-03-31T12:58:16.556Z"
   },
   {
    "duration": 798,
    "start_time": "2025-03-31T12:58:17.421Z"
   },
   {
    "duration": 6,
    "start_time": "2025-03-31T12:58:18.221Z"
   },
   {
    "duration": 7,
    "start_time": "2025-03-31T12:58:18.230Z"
   },
   {
    "duration": 4,
    "start_time": "2025-03-31T12:58:18.239Z"
   },
   {
    "duration": 6,
    "start_time": "2025-03-31T12:58:18.244Z"
   },
   {
    "duration": 40,
    "start_time": "2025-03-31T12:58:18.252Z"
   },
   {
    "duration": 5,
    "start_time": "2025-03-31T12:58:18.294Z"
   },
   {
    "duration": 2,
    "start_time": "2025-03-31T12:58:18.301Z"
   },
   {
    "duration": 16,
    "start_time": "2025-03-31T12:58:18.305Z"
   },
   {
    "duration": 29,
    "start_time": "2025-03-31T12:58:18.324Z"
   },
   {
    "duration": 47,
    "start_time": "2025-03-31T12:58:18.357Z"
   },
   {
    "duration": 11,
    "start_time": "2025-03-31T12:58:18.406Z"
   },
   {
    "duration": 28,
    "start_time": "2025-03-31T12:58:18.419Z"
   },
   {
    "duration": 9,
    "start_time": "2025-03-31T12:58:18.449Z"
   },
   {
    "duration": 2276,
    "start_time": "2025-03-31T12:58:18.460Z"
   },
   {
    "duration": 52,
    "start_time": "2025-03-31T13:15:35.881Z"
   },
   {
    "duration": 13,
    "start_time": "2025-03-31T13:15:35.936Z"
   },
   {
    "duration": 5,
    "start_time": "2025-03-31T13:15:35.951Z"
   },
   {
    "duration": 2,
    "start_time": "2025-03-31T13:15:35.959Z"
   },
   {
    "duration": 27,
    "start_time": "2025-03-31T13:15:35.962Z"
   },
   {
    "duration": 4,
    "start_time": "2025-03-31T13:15:35.991Z"
   },
   {
    "duration": 4,
    "start_time": "2025-03-31T13:15:35.997Z"
   },
   {
    "duration": 5,
    "start_time": "2025-03-31T13:15:36.002Z"
   },
   {
    "duration": 4,
    "start_time": "2025-03-31T13:15:36.008Z"
   },
   {
    "duration": 837,
    "start_time": "2025-03-31T13:15:36.016Z"
   },
   {
    "duration": 852,
    "start_time": "2025-03-31T13:15:36.855Z"
   },
   {
    "duration": 7,
    "start_time": "2025-03-31T13:15:37.709Z"
   },
   {
    "duration": 7,
    "start_time": "2025-03-31T13:15:37.718Z"
   },
   {
    "duration": 4,
    "start_time": "2025-03-31T13:15:37.727Z"
   },
   {
    "duration": 6,
    "start_time": "2025-03-31T13:15:37.733Z"
   },
   {
    "duration": 11,
    "start_time": "2025-03-31T13:15:37.742Z"
   },
   {
    "duration": 7,
    "start_time": "2025-03-31T13:15:37.787Z"
   },
   {
    "duration": 2,
    "start_time": "2025-03-31T13:15:37.797Z"
   },
   {
    "duration": 17,
    "start_time": "2025-03-31T13:15:37.801Z"
   },
   {
    "duration": 11,
    "start_time": "2025-03-31T13:15:37.820Z"
   },
   {
    "duration": 114,
    "start_time": "2025-03-31T13:15:37.833Z"
   },
   {
    "duration": 7,
    "start_time": "2025-03-31T13:15:37.949Z"
   },
   {
    "duration": 32,
    "start_time": "2025-03-31T13:15:37.958Z"
   },
   {
    "duration": 9,
    "start_time": "2025-03-31T13:15:37.993Z"
   },
   {
    "duration": 1588,
    "start_time": "2025-03-31T13:15:38.005Z"
   },
   {
    "duration": 409,
    "start_time": "2025-03-31T13:18:09.450Z"
   },
   {
    "duration": 951,
    "start_time": "2025-03-31T13:18:09.861Z"
   },
   {
    "duration": 11,
    "start_time": "2025-03-31T13:18:10.813Z"
   },
   {
    "duration": 9,
    "start_time": "2025-03-31T13:18:10.827Z"
   },
   {
    "duration": 8,
    "start_time": "2025-03-31T13:18:10.838Z"
   },
   {
    "duration": 8,
    "start_time": "2025-03-31T13:18:10.848Z"
   },
   {
    "duration": 53,
    "start_time": "2025-03-31T13:18:10.858Z"
   },
   {
    "duration": 103,
    "start_time": "2025-03-31T13:18:10.913Z"
   },
   {
    "duration": 10,
    "start_time": "2025-03-31T13:18:11.019Z"
   },
   {
    "duration": 110,
    "start_time": "2025-03-31T13:18:11.032Z"
   },
   {
    "duration": 195,
    "start_time": "2025-03-31T13:18:11.143Z"
   },
   {
    "duration": 0,
    "start_time": "2025-03-31T13:18:11.340Z"
   },
   {
    "duration": 0,
    "start_time": "2025-03-31T13:18:11.341Z"
   },
   {
    "duration": 0,
    "start_time": "2025-03-31T13:18:11.342Z"
   },
   {
    "duration": 0,
    "start_time": "2025-03-31T13:18:11.343Z"
   },
   {
    "duration": 0,
    "start_time": "2025-03-31T13:18:11.344Z"
   },
   {
    "duration": 0,
    "start_time": "2025-03-31T13:18:11.346Z"
   },
   {
    "duration": 0,
    "start_time": "2025-03-31T13:18:11.347Z"
   },
   {
    "duration": 0,
    "start_time": "2025-03-31T13:18:11.349Z"
   },
   {
    "duration": 0,
    "start_time": "2025-03-31T13:18:11.350Z"
   },
   {
    "duration": 0,
    "start_time": "2025-03-31T13:18:11.351Z"
   },
   {
    "duration": 0,
    "start_time": "2025-03-31T13:18:11.352Z"
   },
   {
    "duration": 0,
    "start_time": "2025-03-31T13:18:11.353Z"
   },
   {
    "duration": 0,
    "start_time": "2025-03-31T13:18:11.354Z"
   },
   {
    "duration": 0,
    "start_time": "2025-03-31T13:18:11.355Z"
   },
   {
    "duration": 0,
    "start_time": "2025-03-31T13:18:11.356Z"
   },
   {
    "duration": 0,
    "start_time": "2025-03-31T13:18:11.358Z"
   },
   {
    "duration": 0,
    "start_time": "2025-03-31T13:18:11.386Z"
   },
   {
    "duration": 0,
    "start_time": "2025-03-31T13:18:11.388Z"
   },
   {
    "duration": 0,
    "start_time": "2025-03-31T13:18:11.389Z"
   },
   {
    "duration": 0,
    "start_time": "2025-03-31T13:18:11.391Z"
   },
   {
    "duration": 1,
    "start_time": "2025-03-31T13:18:11.392Z"
   },
   {
    "duration": 0,
    "start_time": "2025-03-31T13:18:11.394Z"
   },
   {
    "duration": 0,
    "start_time": "2025-03-31T13:18:11.395Z"
   },
   {
    "duration": 0,
    "start_time": "2025-03-31T13:18:11.396Z"
   },
   {
    "duration": 0,
    "start_time": "2025-03-31T13:18:11.398Z"
   },
   {
    "duration": 47,
    "start_time": "2025-03-31T13:18:34.713Z"
   },
   {
    "duration": 13,
    "start_time": "2025-03-31T13:18:40.660Z"
   },
   {
    "duration": 5,
    "start_time": "2025-03-31T13:18:40.872Z"
   },
   {
    "duration": 2,
    "start_time": "2025-03-31T13:18:41.097Z"
   },
   {
    "duration": 2,
    "start_time": "2025-03-31T13:18:41.321Z"
   },
   {
    "duration": 3,
    "start_time": "2025-03-31T13:18:42.146Z"
   },
   {
    "duration": 4,
    "start_time": "2025-03-31T13:18:42.346Z"
   },
   {
    "duration": 4,
    "start_time": "2025-03-31T13:18:42.969Z"
   },
   {
    "duration": 5,
    "start_time": "2025-03-31T13:18:43.172Z"
   },
   {
    "duration": 874,
    "start_time": "2025-03-31T13:18:44.705Z"
   },
   {
    "duration": 855,
    "start_time": "2025-03-31T13:18:45.587Z"
   },
   {
    "duration": 7,
    "start_time": "2025-03-31T13:18:48.138Z"
   },
   {
    "duration": 8,
    "start_time": "2025-03-31T13:18:48.595Z"
   },
   {
    "duration": 5,
    "start_time": "2025-03-31T13:18:50.385Z"
   },
   {
    "duration": 5,
    "start_time": "2025-03-31T13:18:50.905Z"
   },
   {
    "duration": 12,
    "start_time": "2025-03-31T13:18:52.034Z"
   },
   {
    "duration": 7,
    "start_time": "2025-03-31T13:18:54.252Z"
   },
   {
    "duration": 2,
    "start_time": "2025-03-31T13:18:54.476Z"
   },
   {
    "duration": 15,
    "start_time": "2025-03-31T13:18:55.361Z"
   },
   {
    "duration": 30,
    "start_time": "2025-03-31T13:18:55.618Z"
   },
   {
    "duration": 29,
    "start_time": "2025-03-31T13:18:58.098Z"
   },
   {
    "duration": 11,
    "start_time": "2025-03-31T13:19:11.530Z"
   },
   {
    "duration": 30,
    "start_time": "2025-03-31T13:21:21.018Z"
   },
   {
    "duration": 10,
    "start_time": "2025-03-31T13:21:34.610Z"
   },
   {
    "duration": 2237,
    "start_time": "2025-03-31T13:21:51.029Z"
   },
   {
    "duration": 9,
    "start_time": "2025-03-31T13:22:18.843Z"
   },
   {
    "duration": 1537,
    "start_time": "2025-03-31T13:22:36.938Z"
   },
   {
    "duration": 188,
    "start_time": "2025-04-01T19:12:24.050Z"
   },
   {
    "duration": 158,
    "start_time": "2025-04-01T23:09:32.702Z"
   },
   {
    "duration": 2415,
    "start_time": "2025-04-01T23:09:54.644Z"
   },
   {
    "duration": 1057,
    "start_time": "2025-04-01T23:09:57.061Z"
   },
   {
    "duration": 15,
    "start_time": "2025-04-01T23:09:58.120Z"
   },
   {
    "duration": 14,
    "start_time": "2025-04-01T23:10:07.369Z"
   },
   {
    "duration": 9,
    "start_time": "2025-04-01T23:10:09.008Z"
   },
   {
    "duration": 9,
    "start_time": "2025-04-01T23:10:12.400Z"
   },
   {
    "duration": 24,
    "start_time": "2025-04-01T23:10:13.145Z"
   },
   {
    "duration": 84,
    "start_time": "2025-04-01T23:10:18.762Z"
   },
   {
    "duration": 10,
    "start_time": "2025-04-01T23:10:24.480Z"
   },
   {
    "duration": 89,
    "start_time": "2025-04-01T23:10:30.484Z"
   },
   {
    "duration": 86,
    "start_time": "2025-04-01T23:10:33.915Z"
   },
   {
    "duration": 47,
    "start_time": "2025-04-01T23:10:42.570Z"
   },
   {
    "duration": 14,
    "start_time": "2025-04-01T23:11:01.224Z"
   },
   {
    "duration": 4,
    "start_time": "2025-04-01T23:11:05.019Z"
   },
   {
    "duration": 16,
    "start_time": "2025-04-01T23:16:14.375Z"
   },
   {
    "duration": 4,
    "start_time": "2025-04-01T23:16:15.374Z"
   },
   {
    "duration": 16,
    "start_time": "2025-04-01T23:17:32.885Z"
   },
   {
    "duration": 12,
    "start_time": "2025-04-01T23:17:33.963Z"
   },
   {
    "duration": 4,
    "start_time": "2025-04-01T23:18:19.637Z"
   },
   {
    "duration": 4,
    "start_time": "2025-04-01T23:18:20.913Z"
   },
   {
    "duration": 5,
    "start_time": "2025-04-01T23:18:26.864Z"
   },
   {
    "duration": 4,
    "start_time": "2025-04-01T23:18:27.824Z"
   },
   {
    "duration": 735,
    "start_time": "2025-04-01T23:18:31.547Z"
   },
   {
    "duration": 723,
    "start_time": "2025-04-01T23:18:32.810Z"
   },
   {
    "duration": 8,
    "start_time": "2025-04-01T23:18:48.711Z"
   },
   {
    "duration": 15,
    "start_time": "2025-04-01T23:24:57.947Z"
   },
   {
    "duration": 7,
    "start_time": "2025-04-01T23:27:26.696Z"
   },
   {
    "duration": 5,
    "start_time": "2025-04-01T23:38:03.501Z"
   },
   {
    "duration": 5,
    "start_time": "2025-04-01T23:39:53.873Z"
   },
   {
    "duration": 16,
    "start_time": "2025-04-01T23:40:33.788Z"
   },
   {
    "duration": 34,
    "start_time": "2025-04-01T23:40:36.082Z"
   },
   {
    "duration": 31,
    "start_time": "2025-04-01T23:40:41.965Z"
   },
   {
    "duration": 12,
    "start_time": "2025-04-01T23:40:53.757Z"
   },
   {
    "duration": 47,
    "start_time": "2025-04-01T23:43:10.887Z"
   },
   {
    "duration": 68,
    "start_time": "2025-04-01T23:44:39.680Z"
   },
   {
    "duration": 70,
    "start_time": "2025-04-01T23:48:05.726Z"
   },
   {
    "duration": 29,
    "start_time": "2025-04-01T23:52:21.719Z"
   },
   {
    "duration": 7,
    "start_time": "2025-04-01T23:55:20.310Z"
   },
   {
    "duration": 8,
    "start_time": "2025-04-01T23:55:49.283Z"
   },
   {
    "duration": 163,
    "start_time": "2025-04-01T23:56:44.739Z"
   },
   {
    "duration": 128,
    "start_time": "2025-04-01T23:57:04.104Z"
   },
   {
    "duration": 171,
    "start_time": "2025-04-01T23:57:52.340Z"
   },
   {
    "duration": 124,
    "start_time": "2025-04-01T23:58:44.108Z"
   },
   {
    "duration": 126,
    "start_time": "2025-04-02T00:01:12.463Z"
   },
   {
    "duration": 728,
    "start_time": "2025-04-02T00:01:58.404Z"
   },
   {
    "duration": 134,
    "start_time": "2025-04-02T00:05:14.642Z"
   },
   {
    "duration": 327,
    "start_time": "2025-04-02T00:08:06.220Z"
   },
   {
    "duration": 320,
    "start_time": "2025-04-02T00:08:44.016Z"
   },
   {
    "duration": 290,
    "start_time": "2025-04-02T00:12:53.056Z"
   },
   {
    "duration": 282,
    "start_time": "2025-04-02T00:13:08.782Z"
   },
   {
    "duration": 186,
    "start_time": "2025-04-02T00:14:13.025Z"
   },
   {
    "duration": 177,
    "start_time": "2025-04-02T00:15:11.237Z"
   },
   {
    "duration": 236,
    "start_time": "2025-04-02T00:15:30.126Z"
   },
   {
    "duration": 332,
    "start_time": "2025-04-02T00:25:04.859Z"
   },
   {
    "duration": 257,
    "start_time": "2025-04-02T00:28:25.125Z"
   },
   {
    "duration": 164,
    "start_time": "2025-04-02T00:30:11.962Z"
   },
   {
    "duration": 166,
    "start_time": "2025-04-02T00:30:54.233Z"
   },
   {
    "duration": 138,
    "start_time": "2025-04-02T00:32:11.998Z"
   },
   {
    "duration": 147,
    "start_time": "2025-04-02T00:32:39.741Z"
   },
   {
    "duration": 183,
    "start_time": "2025-04-02T00:32:59.622Z"
   },
   {
    "duration": 153,
    "start_time": "2025-04-02T00:33:05.893Z"
   },
   {
    "duration": 286,
    "start_time": "2025-04-02T00:37:55.568Z"
   },
   {
    "duration": 163,
    "start_time": "2025-04-02T00:38:46.838Z"
   },
   {
    "duration": 223,
    "start_time": "2025-04-02T00:38:57.145Z"
   },
   {
    "duration": 226,
    "start_time": "2025-04-02T00:39:15.776Z"
   },
   {
    "duration": 226,
    "start_time": "2025-04-02T00:39:52.379Z"
   },
   {
    "duration": 357,
    "start_time": "2025-04-02T00:44:31.408Z"
   },
   {
    "duration": 219,
    "start_time": "2025-04-02T00:45:32.573Z"
   },
   {
    "duration": 209,
    "start_time": "2025-04-02T00:49:56.685Z"
   },
   {
    "duration": 16,
    "start_time": "2025-04-02T00:50:44.430Z"
   },
   {
    "duration": 188,
    "start_time": "2025-04-02T00:59:14.500Z"
   },
   {
    "duration": 1057,
    "start_time": "2025-04-02T00:59:46.209Z"
   },
   {
    "duration": 1034,
    "start_time": "2025-04-02T01:00:24.570Z"
   },
   {
    "duration": 1018,
    "start_time": "2025-04-02T01:02:06.776Z"
   },
   {
    "duration": 20609,
    "start_time": "2025-04-02T01:02:39.377Z"
   },
   {
    "duration": 20728,
    "start_time": "2025-04-02T01:04:01.812Z"
   },
   {
    "duration": 20256,
    "start_time": "2025-04-02T01:04:28.910Z"
   },
   {
    "duration": 393,
    "start_time": "2025-04-02T01:06:55.013Z"
   },
   {
    "duration": 24,
    "start_time": "2025-04-02T01:09:23.606Z"
   },
   {
    "duration": 252,
    "start_time": "2025-04-02T01:11:26.658Z"
   },
   {
    "duration": 143,
    "start_time": "2025-04-02T01:11:53.512Z"
   },
   {
    "duration": 136,
    "start_time": "2025-04-02T01:12:25.963Z"
   },
   {
    "duration": 156,
    "start_time": "2025-04-02T01:15:33.604Z"
   },
   {
    "duration": 451,
    "start_time": "2025-04-02T01:25:14.605Z"
   },
   {
    "duration": 485,
    "start_time": "2025-04-02T01:26:10.507Z"
   },
   {
    "duration": 415,
    "start_time": "2025-04-02T01:26:21.920Z"
   },
   {
    "duration": 9,
    "start_time": "2025-04-02T01:27:49.896Z"
   },
   {
    "duration": 453,
    "start_time": "2025-04-02T01:28:20.601Z"
   },
   {
    "duration": 299,
    "start_time": "2025-04-02T01:31:10.015Z"
   },
   {
    "duration": 300,
    "start_time": "2025-04-02T01:31:17.917Z"
   },
   {
    "duration": 294,
    "start_time": "2025-04-02T01:31:30.858Z"
   },
   {
    "duration": 301,
    "start_time": "2025-04-02T01:32:01.655Z"
   },
   {
    "duration": 297,
    "start_time": "2025-04-02T01:33:37.650Z"
   },
   {
    "duration": 433,
    "start_time": "2025-04-02T01:46:25.739Z"
   },
   {
    "duration": 311,
    "start_time": "2025-04-02T01:47:37.761Z"
   },
   {
    "duration": 194,
    "start_time": "2025-04-05T02:39:11.356Z"
   },
   {
    "duration": 2693,
    "start_time": "2025-04-05T02:39:41.323Z"
   },
   {
    "duration": 1103,
    "start_time": "2025-04-05T02:39:44.019Z"
   },
   {
    "duration": 17,
    "start_time": "2025-04-05T02:39:45.126Z"
   },
   {
    "duration": 10,
    "start_time": "2025-04-05T02:39:49.272Z"
   },
   {
    "duration": 11,
    "start_time": "2025-04-05T02:39:50.627Z"
   },
   {
    "duration": 10,
    "start_time": "2025-04-05T02:39:52.628Z"
   },
   {
    "duration": 39,
    "start_time": "2025-04-05T02:39:53.818Z"
   },
   {
    "duration": 105,
    "start_time": "2025-04-05T02:40:04.398Z"
   },
   {
    "duration": 9,
    "start_time": "2025-04-05T02:40:06.670Z"
   },
   {
    "duration": 13,
    "start_time": "2025-04-05T02:40:30.215Z"
   },
   {
    "duration": 124,
    "start_time": "2025-04-05T02:40:35.263Z"
   },
   {
    "duration": 155,
    "start_time": "2025-04-05T02:40:36.495Z"
   },
   {
    "duration": 62,
    "start_time": "2025-04-05T02:40:41.810Z"
   },
   {
    "duration": 13,
    "start_time": "2025-04-05T02:40:45.440Z"
   },
   {
    "duration": 10,
    "start_time": "2025-04-05T02:40:46.664Z"
   },
   {
    "duration": 18,
    "start_time": "2025-04-05T02:40:53.521Z"
   },
   {
    "duration": 7,
    "start_time": "2025-04-05T02:42:57.220Z"
   },
   {
    "duration": 36,
    "start_time": "2025-04-05T02:43:10.429Z"
   },
   {
    "duration": 8,
    "start_time": "2025-04-05T02:47:11.407Z"
   },
   {
    "duration": 18,
    "start_time": "2025-04-05T02:48:41.784Z"
   },
   {
    "duration": 12,
    "start_time": "2025-04-05T02:51:35.545Z"
   },
   {
    "duration": 12,
    "start_time": "2025-04-05T02:52:46.620Z"
   },
   {
    "duration": 4,
    "start_time": "2025-04-05T02:52:52.269Z"
   },
   {
    "duration": 4,
    "start_time": "2025-04-05T02:52:53.534Z"
   },
   {
    "duration": 4,
    "start_time": "2025-04-05T02:52:57.346Z"
   },
   {
    "duration": 4,
    "start_time": "2025-04-05T02:52:58.284Z"
   },
   {
    "duration": 960,
    "start_time": "2025-04-05T02:53:01.741Z"
   },
   {
    "duration": 1056,
    "start_time": "2025-04-05T02:53:02.726Z"
   },
   {
    "duration": 7,
    "start_time": "2025-04-05T02:53:10.590Z"
   },
   {
    "duration": 8,
    "start_time": "2025-04-05T02:53:24.779Z"
   },
   {
    "duration": 8,
    "start_time": "2025-04-05T02:53:30.272Z"
   },
   {
    "duration": 6,
    "start_time": "2025-04-05T02:54:07.468Z"
   },
   {
    "duration": 7,
    "start_time": "2025-04-05T02:54:16.762Z"
   },
   {
    "duration": 12,
    "start_time": "2025-04-05T02:54:25.423Z"
   },
   {
    "duration": 9,
    "start_time": "2025-04-05T02:54:34.559Z"
   },
   {
    "duration": 6,
    "start_time": "2025-04-05T02:54:39.778Z"
   },
   {
    "duration": 27,
    "start_time": "2025-04-05T02:54:50.040Z"
   },
   {
    "duration": 52,
    "start_time": "2025-04-05T02:54:51.829Z"
   },
   {
    "duration": 35,
    "start_time": "2025-04-05T02:54:56.027Z"
   },
   {
    "duration": 72,
    "start_time": "2025-04-05T02:55:05.347Z"
   },
   {
    "duration": 70,
    "start_time": "2025-04-05T02:55:43.559Z"
   },
   {
    "duration": 27,
    "start_time": "2025-04-05T02:56:38.499Z"
   },
   {
    "duration": 9,
    "start_time": "2025-04-05T02:56:48.332Z"
   },
   {
    "duration": 172,
    "start_time": "2025-04-05T02:56:58.232Z"
   },
   {
    "duration": 121,
    "start_time": "2025-04-05T02:57:08.103Z"
   },
   {
    "duration": 179,
    "start_time": "2025-04-05T02:57:15.661Z"
   },
   {
    "duration": 137,
    "start_time": "2025-04-05T02:57:32.819Z"
   },
   {
    "duration": 212,
    "start_time": "2025-04-05T02:57:42.001Z"
   },
   {
    "duration": 19,
    "start_time": "2025-04-05T03:00:06.447Z"
   },
   {
    "duration": 10,
    "start_time": "2025-04-05T03:10:22.509Z"
   },
   {
    "duration": 9,
    "start_time": "2025-04-05T03:10:41.670Z"
   },
   {
    "duration": 6,
    "start_time": "2025-04-05T03:11:29.886Z"
   },
   {
    "duration": 6,
    "start_time": "2025-04-05T03:12:03.857Z"
   },
   {
    "duration": 95,
    "start_time": "2025-04-05T03:17:12.351Z"
   },
   {
    "duration": 88,
    "start_time": "2025-04-05T03:18:25.619Z"
   },
   {
    "duration": 134,
    "start_time": "2025-04-05T03:20:57.408Z"
   },
   {
    "duration": 150,
    "start_time": "2025-04-05T03:21:36.403Z"
   },
   {
    "duration": 99,
    "start_time": "2025-04-05T03:21:45.987Z"
   },
   {
    "duration": 8,
    "start_time": "2025-04-05T03:29:06.630Z"
   },
   {
    "duration": 13,
    "start_time": "2025-04-05T03:29:24.854Z"
   },
   {
    "duration": 95,
    "start_time": "2025-04-05T03:30:52.752Z"
   },
   {
    "duration": 3,
    "start_time": "2025-04-05T03:34:17.737Z"
   },
   {
    "duration": 448,
    "start_time": "2025-04-05T03:47:49.792Z"
   },
   {
    "duration": 471,
    "start_time": "2025-04-06T00:54:25.066Z"
   },
   {
    "duration": 1865,
    "start_time": "2025-04-06T00:55:05.185Z"
   },
   {
    "duration": 1026,
    "start_time": "2025-04-06T00:55:07.052Z"
   },
   {
    "duration": 16,
    "start_time": "2025-04-06T00:55:08.080Z"
   },
   {
    "duration": 12,
    "start_time": "2025-04-06T00:55:11.158Z"
   },
   {
    "duration": 11,
    "start_time": "2025-04-06T00:55:13.146Z"
   },
   {
    "duration": 10,
    "start_time": "2025-04-06T00:55:14.566Z"
   },
   {
    "duration": 24,
    "start_time": "2025-04-06T00:55:15.433Z"
   },
   {
    "duration": 96,
    "start_time": "2025-04-06T00:55:18.635Z"
   },
   {
    "duration": 15,
    "start_time": "2025-04-06T00:55:22.025Z"
   },
   {
    "duration": 100,
    "start_time": "2025-04-06T00:55:35.353Z"
   },
   {
    "duration": 93,
    "start_time": "2025-04-06T00:55:36.327Z"
   },
   {
    "duration": 52,
    "start_time": "2025-04-06T00:55:40.133Z"
   },
   {
    "duration": 14,
    "start_time": "2025-04-06T00:55:44.976Z"
   },
   {
    "duration": 4,
    "start_time": "2025-04-06T00:55:46.554Z"
   },
   {
    "duration": 26,
    "start_time": "2025-04-06T00:55:47.565Z"
   },
   {
    "duration": 14,
    "start_time": "2025-04-06T00:55:56.218Z"
   },
   {
    "duration": 14,
    "start_time": "2025-04-06T00:56:08.903Z"
   },
   {
    "duration": 27,
    "start_time": "2025-04-06T00:58:56.875Z"
   },
   {
    "duration": 12,
    "start_time": "2025-04-06T00:59:08.527Z"
   },
   {
    "duration": 18,
    "start_time": "2025-04-06T00:59:22.408Z"
   },
   {
    "duration": 12,
    "start_time": "2025-04-06T00:59:32.753Z"
   },
   {
    "duration": 20,
    "start_time": "2025-04-06T01:01:14.068Z"
   },
   {
    "duration": 19,
    "start_time": "2025-04-06T01:01:29.598Z"
   },
   {
    "duration": 4,
    "start_time": "2025-04-06T01:01:50.541Z"
   },
   {
    "duration": 4,
    "start_time": "2025-04-06T01:01:51.671Z"
   },
   {
    "duration": 5,
    "start_time": "2025-04-06T01:01:55.214Z"
   },
   {
    "duration": 3,
    "start_time": "2025-04-06T01:01:56.001Z"
   },
   {
    "duration": 879,
    "start_time": "2025-04-06T01:02:00.166Z"
   },
   {
    "duration": 894,
    "start_time": "2025-04-06T01:02:01.065Z"
   },
   {
    "duration": 6,
    "start_time": "2025-04-06T01:02:06.009Z"
   },
   {
    "duration": 7,
    "start_time": "2025-04-06T01:02:11.242Z"
   },
   {
    "duration": 4,
    "start_time": "2025-04-06T01:02:15.362Z"
   },
   {
    "duration": 5,
    "start_time": "2025-04-06T01:02:18.971Z"
   },
   {
    "duration": 12,
    "start_time": "2025-04-06T01:02:22.294Z"
   },
   {
    "duration": 6,
    "start_time": "2025-04-06T01:02:26.478Z"
   },
   {
    "duration": 5,
    "start_time": "2025-04-06T01:02:34.194Z"
   },
   {
    "duration": 15,
    "start_time": "2025-04-06T01:02:38.526Z"
   },
   {
    "duration": 34,
    "start_time": "2025-04-06T01:02:40.155Z"
   },
   {
    "duration": 31,
    "start_time": "2025-04-06T01:02:46.356Z"
   },
   {
    "duration": 71,
    "start_time": "2025-04-06T01:03:00.925Z"
   },
   {
    "duration": 32,
    "start_time": "2025-04-06T01:03:23.200Z"
   },
   {
    "duration": 10,
    "start_time": "2025-04-06T01:03:29.488Z"
   },
   {
    "duration": 131,
    "start_time": "2025-04-06T01:03:35.591Z"
   },
   {
    "duration": 188,
    "start_time": "2025-04-06T01:03:40.427Z"
   },
   {
    "duration": 202,
    "start_time": "2025-04-06T01:03:47.087Z"
   },
   {
    "duration": 145,
    "start_time": "2025-04-06T01:03:54.569Z"
   },
   {
    "duration": 221,
    "start_time": "2025-04-06T01:03:59.032Z"
   },
   {
    "duration": 89,
    "start_time": "2025-04-06T01:05:03.501Z"
   },
   {
    "duration": 95,
    "start_time": "2025-04-06T01:06:59.564Z"
   },
   {
    "duration": 80,
    "start_time": "2025-04-06T01:07:41.500Z"
   },
   {
    "duration": 98,
    "start_time": "2025-04-06T01:09:32.083Z"
   },
   {
    "duration": 99,
    "start_time": "2025-04-06T01:09:52.982Z"
   },
   {
    "duration": 448,
    "start_time": "2025-04-06T01:10:02.734Z"
   },
   {
    "duration": 366,
    "start_time": "2025-04-06T01:10:14.245Z"
   },
   {
    "duration": 133,
    "start_time": "2025-04-06T01:11:46.073Z"
   },
   {
    "duration": 24,
    "start_time": "2025-04-06T01:11:47.666Z"
   },
   {
    "duration": 282,
    "start_time": "2025-04-06T01:19:52.749Z"
   },
   {
    "duration": 237,
    "start_time": "2025-04-06T01:20:12.202Z"
   },
   {
    "duration": 255,
    "start_time": "2025-04-06T01:20:21.698Z"
   },
   {
    "duration": 329,
    "start_time": "2025-04-06T01:20:34.067Z"
   },
   {
    "duration": 18,
    "start_time": "2025-04-06T01:28:08.227Z"
   },
   {
    "duration": 271,
    "start_time": "2025-04-06T01:34:29.436Z"
   },
   {
    "duration": 44,
    "start_time": "2025-04-06T01:35:33.843Z"
   },
   {
    "duration": 15,
    "start_time": "2025-04-06T01:36:21.930Z"
   },
   {
    "duration": 3,
    "start_time": "2025-04-06T01:37:27.811Z"
   },
   {
    "duration": 852,
    "start_time": "2025-04-06T01:37:43.365Z"
   },
   {
    "duration": 11,
    "start_time": "2025-04-06T01:37:47.867Z"
   },
   {
    "duration": 11,
    "start_time": "2025-04-06T01:37:50.103Z"
   },
   {
    "duration": 9,
    "start_time": "2025-04-06T01:37:52.199Z"
   },
   {
    "duration": 9,
    "start_time": "2025-04-06T01:37:54.645Z"
   },
   {
    "duration": 22,
    "start_time": "2025-04-06T01:37:56.699Z"
   },
   {
    "duration": 79,
    "start_time": "2025-04-06T01:38:00.991Z"
   },
   {
    "duration": 13,
    "start_time": "2025-04-06T01:38:05.100Z"
   },
   {
    "duration": 89,
    "start_time": "2025-04-06T01:38:11.407Z"
   },
   {
    "duration": 93,
    "start_time": "2025-04-06T01:38:12.852Z"
   },
   {
    "duration": 40,
    "start_time": "2025-04-06T01:38:15.996Z"
   },
   {
    "duration": 14,
    "start_time": "2025-04-06T01:38:19.526Z"
   },
   {
    "duration": 5,
    "start_time": "2025-04-06T01:38:21.108Z"
   },
   {
    "duration": 24,
    "start_time": "2025-04-06T01:38:22.222Z"
   },
   {
    "duration": 20,
    "start_time": "2025-04-06T01:38:28.061Z"
   },
   {
    "duration": 3,
    "start_time": "2025-04-06T01:38:33.646Z"
   },
   {
    "duration": 4,
    "start_time": "2025-04-06T01:38:34.794Z"
   },
   {
    "duration": 5,
    "start_time": "2025-04-06T01:38:37.763Z"
   },
   {
    "duration": 4,
    "start_time": "2025-04-06T01:38:38.365Z"
   },
   {
    "duration": 826,
    "start_time": "2025-04-06T01:38:41.740Z"
   },
   {
    "duration": 808,
    "start_time": "2025-04-06T01:38:42.680Z"
   },
   {
    "duration": 6,
    "start_time": "2025-04-06T01:38:47.544Z"
   },
   {
    "duration": 6,
    "start_time": "2025-04-06T01:38:57.551Z"
   },
   {
    "duration": 7,
    "start_time": "2025-04-06T01:39:01.130Z"
   },
   {
    "duration": 4,
    "start_time": "2025-04-06T01:39:03.965Z"
   },
   {
    "duration": 5,
    "start_time": "2025-04-06T01:39:06.862Z"
   },
   {
    "duration": 11,
    "start_time": "2025-04-06T01:39:09.599Z"
   },
   {
    "duration": 6,
    "start_time": "2025-04-06T01:39:12.536Z"
   },
   {
    "duration": 8,
    "start_time": "2025-04-06T01:39:15.971Z"
   },
   {
    "duration": 16,
    "start_time": "2025-04-06T01:39:19.670Z"
   },
   {
    "duration": 31,
    "start_time": "2025-04-06T01:39:22.750Z"
   },
   {
    "duration": 30,
    "start_time": "2025-04-06T01:39:25.899Z"
   },
   {
    "duration": 71,
    "start_time": "2025-04-06T01:39:30.560Z"
   },
   {
    "duration": 30,
    "start_time": "2025-04-06T01:39:38.684Z"
   },
   {
    "duration": 10,
    "start_time": "2025-04-06T01:39:43.484Z"
   },
   {
    "duration": 125,
    "start_time": "2025-04-06T01:39:47.420Z"
   },
   {
    "duration": 197,
    "start_time": "2025-04-06T01:39:51.867Z"
   },
   {
    "duration": 180,
    "start_time": "2025-04-06T01:39:55.757Z"
   },
   {
    "duration": 147,
    "start_time": "2025-04-06T01:40:03.374Z"
   },
   {
    "duration": 214,
    "start_time": "2025-04-06T01:40:07.403Z"
   },
   {
    "duration": 116,
    "start_time": "2025-04-06T01:40:10.389Z"
   },
   {
    "duration": 426,
    "start_time": "2025-04-06T01:40:15.825Z"
   },
   {
    "duration": 388,
    "start_time": "2025-04-06T01:40:20.881Z"
   },
   {
    "duration": 146,
    "start_time": "2025-04-06T01:40:27.678Z"
   },
   {
    "duration": 25,
    "start_time": "2025-04-06T01:40:30.740Z"
   },
   {
    "duration": 243,
    "start_time": "2025-04-06T01:40:34.644Z"
   },
   {
    "duration": 14,
    "start_time": "2025-04-06T01:40:38.877Z"
   },
   {
    "duration": 15,
    "start_time": "2025-04-06T01:42:45.525Z"
   },
   {
    "duration": 32,
    "start_time": "2025-04-06T01:43:00.926Z"
   },
   {
    "duration": 32,
    "start_time": "2025-04-06T01:43:16.341Z"
   },
   {
    "duration": 16,
    "start_time": "2025-04-06T01:49:11.220Z"
   },
   {
    "duration": 1028,
    "start_time": "2025-04-06T01:51:24.559Z"
   },
   {
    "duration": 15,
    "start_time": "2025-04-06T01:53:36.065Z"
   },
   {
    "duration": 1145,
    "start_time": "2025-04-06T01:54:09.907Z"
   },
   {
    "duration": 1132,
    "start_time": "2025-04-06T01:54:19.632Z"
   },
   {
    "duration": 1099,
    "start_time": "2025-04-06T01:56:06.072Z"
   },
   {
    "duration": 1135,
    "start_time": "2025-04-06T01:56:14.177Z"
   },
   {
    "duration": 1097,
    "start_time": "2025-04-06T01:56:24.877Z"
   },
   {
    "duration": 1203,
    "start_time": "2025-04-06T01:57:32.310Z"
   },
   {
    "duration": 755,
    "start_time": "2025-04-06T02:00:53.022Z"
   },
   {
    "duration": 347,
    "start_time": "2025-04-06T02:01:07.284Z"
   },
   {
    "duration": 1146,
    "start_time": "2025-04-06T02:03:39.852Z"
   },
   {
    "duration": 1144,
    "start_time": "2025-04-06T02:03:52.004Z"
   },
   {
    "duration": 329,
    "start_time": "2025-04-06T02:04:07.063Z"
   },
   {
    "duration": 43,
    "start_time": "2025-04-06T02:06:33.375Z"
   },
   {
    "duration": 47,
    "start_time": "2025-04-06T02:06:42.605Z"
   },
   {
    "duration": 381,
    "start_time": "2025-04-06T02:10:16.255Z"
   },
   {
    "duration": 10,
    "start_time": "2025-04-06T02:10:34.525Z"
   },
   {
    "duration": 376,
    "start_time": "2025-04-06T02:11:47.262Z"
   },
   {
    "duration": 413,
    "start_time": "2025-04-06T02:12:02.003Z"
   },
   {
    "duration": 167,
    "start_time": "2025-04-06T02:12:16.273Z"
   },
   {
    "duration": 378,
    "start_time": "2025-04-06T02:12:33.458Z"
   },
   {
    "duration": 5,
    "start_time": "2025-04-06T02:14:04.121Z"
   },
   {
    "duration": 4,
    "start_time": "2025-04-06T02:14:44.470Z"
   },
   {
    "duration": 4,
    "start_time": "2025-04-06T02:15:47.293Z"
   },
   {
    "duration": 6,
    "start_time": "2025-04-06T02:16:25.223Z"
   }
  ],
  "colab": {
   "provenance": []
  },
  "kernelspec": {
   "display_name": "Python 3 (ipykernel)",
   "language": "python",
   "name": "python3"
  },
  "language_info": {
   "codemirror_mode": {
    "name": "ipython",
    "version": 3
   },
   "file_extension": ".py",
   "mimetype": "text/x-python",
   "name": "python",
   "nbconvert_exporter": "python",
   "pygments_lexer": "ipython3",
   "version": "3.9.19"
  },
  "toc": {
   "base_numbering": 1,
   "nav_menu": {},
   "number_sections": true,
   "sideBar": true,
   "skip_h1_title": true,
   "title_cell": "Table of Contents",
   "title_sidebar": "Contents",
   "toc_cell": false,
   "toc_position": {},
   "toc_section_display": true,
   "toc_window_display": false
  },
  "vscode": {
   "interpreter": {
    "hash": "01a7be9ec63e704a62cefc5fe7a4756944464ee731be31632bdf42a4cb4688cf"
   }
  }
 },
 "nbformat": 4,
 "nbformat_minor": 5
}
